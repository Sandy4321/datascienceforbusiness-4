{
 "cells": [
  {
   "cell_type": "markdown",
   "metadata": {
    "slideshow": {
     "slide_type": "slide"
    }
   },
   "source": [
    "# Data Science for Business - <font color='orange'>PACMANN</font> AI\n",
    "# <font color='blue'>Credit Default Prediction</font>"
   ]
  },
  {
   "cell_type": "markdown",
   "metadata": {},
   "source": [
    "# Workflow ::\n",
    "### 1. Import Library\n",
    "* numpy \n",
    "* pandas \n",
    "* joblib\n",
    "\n",
    "### 2. Import Dataset (importData)\n",
    "* Load Data\n",
    "* Check Shape\n",
    "* Drop Duplicates\n",
    "* Drop irrelevant column\n",
    "\n",
    "### 3. Split Input-Output (extractInputOutput)\n",
    "* data = data_input + data_output <br>\n",
    "* data_input = data - data_output\n",
    "\n",
    "### 4. Split Numerical & Categorical (splitNumCat)\n",
    "* data_input = data_numerical + data_categorical <br>\n",
    "* data_categorical = data - data_numerical\n",
    "\n",
    "\n",
    "### 5. Data Imputation\n",
    "* Numerical   :: fitImputNum + transformNumerical\n",
    "* Categorical :: fillna(\"KOSONG\")\n",
    "\n",
    "### 6. Plotting\n",
    "\n",
    "### <font color='blue'>  >> Feature Engineering </font>\n",
    "* Outlier Handling\n",
    "* Log Transform\n",
    "* Square Feature\n",
    "\n",
    "### 7. Numerical Standardizing (fitStandardize + transformNumerical)\n",
    "### 8. Categorical Dummy ( pd.get_dummies() )\n",
    "### 9. Join to data_train_clean\n",
    "### 10. Modelling with Machine Learning\n",
    "\n",
    "### <font color='blue'>  >> Feature Selection </font>\n",
    "* L1 Regularization\n",
    "* Backward Elimination\n",
    "\n",
    "### <font color='blue'>  >> Modelling with selected feature </font>\n",
    "### <font color='blue'>  >> Model Diagnosis </font>\n",
    "\n",
    "\n"
   ]
  },
  {
   "cell_type": "markdown",
   "metadata": {
    "slideshow": {
     "slide_type": "slide"
    }
   },
   "source": [
    "## Import Library"
   ]
  },
  {
   "cell_type": "code",
   "execution_count": 1,
   "metadata": {
    "slideshow": {
     "slide_type": "fragment"
    }
   },
   "outputs": [],
   "source": [
    "import numpy as np\n",
    "# import library pandas\n",
    "import pandas as pd\n",
    "# import library untuk save object\n",
    "from sklearn.externals import joblib"
   ]
  },
  {
   "cell_type": "markdown",
   "metadata": {
    "slideshow": {
     "slide_type": "slide"
    }
   },
   "source": [
    "# Import Dataset"
   ]
  },
  {
   "cell_type": "code",
   "execution_count": 2,
   "metadata": {
    "slideshow": {
     "slide_type": "subslide"
    }
   },
   "outputs": [],
   "source": [
    "# load data credit_default.csv\n",
    "data = pd.read_csv(\"post test_lending.csv\")"
   ]
  },
  {
   "cell_type": "code",
   "execution_count": 3,
   "metadata": {},
   "outputs": [
    {
     "data": {
      "text/html": [
       "<div>\n",
       "<style scoped>\n",
       "    .dataframe tbody tr th:only-of-type {\n",
       "        vertical-align: middle;\n",
       "    }\n",
       "\n",
       "    .dataframe tbody tr th {\n",
       "        vertical-align: top;\n",
       "    }\n",
       "\n",
       "    .dataframe thead th {\n",
       "        text-align: right;\n",
       "    }\n",
       "</style>\n",
       "<table border=\"1\" class=\"dataframe\">\n",
       "  <thead>\n",
       "    <tr style=\"text-align: right;\">\n",
       "      <th></th>\n",
       "      <th>id</th>\n",
       "      <th>member_id</th>\n",
       "      <th>loan_amnt</th>\n",
       "      <th>funded_amnt</th>\n",
       "      <th>funded_amnt_inv</th>\n",
       "      <th>term</th>\n",
       "      <th>int_rate</th>\n",
       "      <th>installment</th>\n",
       "      <th>grade</th>\n",
       "      <th>sub_grade</th>\n",
       "      <th>...</th>\n",
       "      <th>total_bal_il</th>\n",
       "      <th>il_util</th>\n",
       "      <th>open_rv_12m</th>\n",
       "      <th>open_rv_24m</th>\n",
       "      <th>max_bal_bc</th>\n",
       "      <th>all_util</th>\n",
       "      <th>total_rev_hi_lim</th>\n",
       "      <th>inq_fi</th>\n",
       "      <th>total_cu_tl</th>\n",
       "      <th>inq_last_12m</th>\n",
       "    </tr>\n",
       "  </thead>\n",
       "  <tbody>\n",
       "    <tr>\n",
       "      <th>0</th>\n",
       "      <td>1355213</td>\n",
       "      <td>1599569</td>\n",
       "      <td>14000.0</td>\n",
       "      <td>14000.0</td>\n",
       "      <td>14000.0</td>\n",
       "      <td>36 months</td>\n",
       "      <td>13.67</td>\n",
       "      <td>476.25</td>\n",
       "      <td>B</td>\n",
       "      <td>B5</td>\n",
       "      <td>...</td>\n",
       "      <td>NaN</td>\n",
       "      <td>NaN</td>\n",
       "      <td>NaN</td>\n",
       "      <td>NaN</td>\n",
       "      <td>NaN</td>\n",
       "      <td>NaN</td>\n",
       "      <td>NaN</td>\n",
       "      <td>NaN</td>\n",
       "      <td>NaN</td>\n",
       "      <td>NaN</td>\n",
       "    </tr>\n",
       "    <tr>\n",
       "      <th>1</th>\n",
       "      <td>55008419</td>\n",
       "      <td>58579143</td>\n",
       "      <td>14400.0</td>\n",
       "      <td>14400.0</td>\n",
       "      <td>14400.0</td>\n",
       "      <td>36 months</td>\n",
       "      <td>12.29</td>\n",
       "      <td>480.29</td>\n",
       "      <td>C</td>\n",
       "      <td>C1</td>\n",
       "      <td>...</td>\n",
       "      <td>NaN</td>\n",
       "      <td>NaN</td>\n",
       "      <td>NaN</td>\n",
       "      <td>NaN</td>\n",
       "      <td>NaN</td>\n",
       "      <td>NaN</td>\n",
       "      <td>26600.0</td>\n",
       "      <td>NaN</td>\n",
       "      <td>NaN</td>\n",
       "      <td>NaN</td>\n",
       "    </tr>\n",
       "    <tr>\n",
       "      <th>2</th>\n",
       "      <td>15590881</td>\n",
       "      <td>17683312</td>\n",
       "      <td>11000.0</td>\n",
       "      <td>11000.0</td>\n",
       "      <td>10950.0</td>\n",
       "      <td>36 months</td>\n",
       "      <td>9.17</td>\n",
       "      <td>350.67</td>\n",
       "      <td>B</td>\n",
       "      <td>B1</td>\n",
       "      <td>...</td>\n",
       "      <td>NaN</td>\n",
       "      <td>NaN</td>\n",
       "      <td>NaN</td>\n",
       "      <td>NaN</td>\n",
       "      <td>NaN</td>\n",
       "      <td>NaN</td>\n",
       "      <td>8800.0</td>\n",
       "      <td>NaN</td>\n",
       "      <td>NaN</td>\n",
       "      <td>NaN</td>\n",
       "    </tr>\n",
       "    <tr>\n",
       "      <th>3</th>\n",
       "      <td>57366160</td>\n",
       "      <td>61068937</td>\n",
       "      <td>10000.0</td>\n",
       "      <td>10000.0</td>\n",
       "      <td>9950.0</td>\n",
       "      <td>60 months</td>\n",
       "      <td>12.69</td>\n",
       "      <td>225.95</td>\n",
       "      <td>C</td>\n",
       "      <td>C2</td>\n",
       "      <td>...</td>\n",
       "      <td>NaN</td>\n",
       "      <td>NaN</td>\n",
       "      <td>NaN</td>\n",
       "      <td>NaN</td>\n",
       "      <td>NaN</td>\n",
       "      <td>NaN</td>\n",
       "      <td>43900.0</td>\n",
       "      <td>NaN</td>\n",
       "      <td>NaN</td>\n",
       "      <td>NaN</td>\n",
       "    </tr>\n",
       "    <tr>\n",
       "      <th>4</th>\n",
       "      <td>36250480</td>\n",
       "      <td>38961828</td>\n",
       "      <td>19800.0</td>\n",
       "      <td>19800.0</td>\n",
       "      <td>19700.0</td>\n",
       "      <td>36 months</td>\n",
       "      <td>6.99</td>\n",
       "      <td>611.28</td>\n",
       "      <td>A</td>\n",
       "      <td>A3</td>\n",
       "      <td>...</td>\n",
       "      <td>NaN</td>\n",
       "      <td>NaN</td>\n",
       "      <td>NaN</td>\n",
       "      <td>NaN</td>\n",
       "      <td>NaN</td>\n",
       "      <td>NaN</td>\n",
       "      <td>87476.0</td>\n",
       "      <td>NaN</td>\n",
       "      <td>NaN</td>\n",
       "      <td>NaN</td>\n",
       "    </tr>\n",
       "  </tbody>\n",
       "</table>\n",
       "<p>5 rows × 69 columns</p>\n",
       "</div>"
      ],
      "text/plain": [
       "         id  member_id  loan_amnt  funded_amnt  funded_amnt_inv        term  \\\n",
       "0   1355213    1599569    14000.0      14000.0          14000.0   36 months   \n",
       "1  55008419   58579143    14400.0      14400.0          14400.0   36 months   \n",
       "2  15590881   17683312    11000.0      11000.0          10950.0   36 months   \n",
       "3  57366160   61068937    10000.0      10000.0           9950.0   60 months   \n",
       "4  36250480   38961828    19800.0      19800.0          19700.0   36 months   \n",
       "\n",
       "   int_rate  installment grade sub_grade     ...      total_bal_il il_util  \\\n",
       "0     13.67       476.25     B        B5     ...               NaN     NaN   \n",
       "1     12.29       480.29     C        C1     ...               NaN     NaN   \n",
       "2      9.17       350.67     B        B1     ...               NaN     NaN   \n",
       "3     12.69       225.95     C        C2     ...               NaN     NaN   \n",
       "4      6.99       611.28     A        A3     ...               NaN     NaN   \n",
       "\n",
       "  open_rv_12m  open_rv_24m max_bal_bc  all_util total_rev_hi_lim inq_fi  \\\n",
       "0         NaN          NaN        NaN       NaN              NaN    NaN   \n",
       "1         NaN          NaN        NaN       NaN          26600.0    NaN   \n",
       "2         NaN          NaN        NaN       NaN           8800.0    NaN   \n",
       "3         NaN          NaN        NaN       NaN          43900.0    NaN   \n",
       "4         NaN          NaN        NaN       NaN          87476.0    NaN   \n",
       "\n",
       "  total_cu_tl inq_last_12m  \n",
       "0         NaN          NaN  \n",
       "1         NaN          NaN  \n",
       "2         NaN          NaN  \n",
       "3         NaN          NaN  \n",
       "4         NaN          NaN  \n",
       "\n",
       "[5 rows x 69 columns]"
      ]
     },
     "execution_count": 3,
     "metadata": {},
     "output_type": "execute_result"
    }
   ],
   "source": [
    "# menampilkan observasi teratas\n",
    "data.head()"
   ]
  },
  {
   "cell_type": "markdown",
   "metadata": {
    "slideshow": {
     "slide_type": "subslide"
    }
   },
   "source": [
    "## Value Counts and Proportion"
   ]
  },
  {
   "cell_type": "code",
   "execution_count": 4,
   "metadata": {
    "scrolled": true,
    "slideshow": {
     "slide_type": "fragment"
    }
   },
   "outputs": [
    {
     "data": {
      "text/plain": [
       "1    0.948616\n",
       "0    0.051384\n",
       "Name: loan_status, dtype: float64"
      ]
     },
     "execution_count": 4,
     "metadata": {},
     "output_type": "execute_result"
    }
   ],
   "source": [
    "# cek proporsi kolom output\n",
    "data[\"loan_status\"].value_counts(normalize=True)"
   ]
  },
  {
   "cell_type": "markdown",
   "metadata": {},
   "source": [
    "# <font color = 'blue'> FUNCTION: importData"
   ]
  },
  {
   "cell_type": "code",
   "execution_count": 5,
   "metadata": {},
   "outputs": [],
   "source": [
    "def importData(filepath, sep=',', drop=[]):\n",
    "    '''\n",
    "    Import data CSV ke dalam bentuk DataFrame\n",
    "    \n",
    "    Parameter\n",
    "    ----------\n",
    "    filepath : str,\n",
    "        lokasi file data\n",
    "    sep : str, default ','\n",
    "        karakter pemisah pada data\n",
    "    drop : list, default []\n",
    "        list nama kolom untuk didrop\n",
    "        \n",
    "    Output\n",
    "    -------\n",
    "    data : DataFrame\n",
    "    \n",
    "    '''\n",
    "     \n",
    "    data = pd.read_csv(filepath, sep=sep)\n",
    "    data = data.drop(drop,axis=1)   \n",
    "    print(\"Banyaknya data\", data.shape)\n",
    "\n",
    "    print(\"Banyaknya data duplicate\", data.duplicated().sum())\n",
    "\n",
    "    data = data.drop_duplicates()\n",
    "    \n",
    "    print(\"Banyaknya data setelah di drop\", data.shape)\n",
    "    return data"
   ]
  },
  {
   "cell_type": "code",
   "execution_count": 6,
   "metadata": {},
   "outputs": [],
   "source": [
    "# karena pymnt_plan, policy_code cuma 1 jenis\n",
    "drop = ['id', 'member_id', 'pymnt_plan', 'url', 'policy_code', 'zip_code', 'emp_title', 'desc', 'title']"
   ]
  },
  {
   "cell_type": "code",
   "execution_count": 7,
   "metadata": {},
   "outputs": [
    {
     "data": {
      "text/plain": [
       "Index(['id', 'member_id', 'loan_amnt', 'funded_amnt', 'funded_amnt_inv',\n",
       "       'term', 'int_rate', 'installment', 'grade', 'sub_grade', 'emp_title',\n",
       "       'emp_length', 'home_ownership', 'annual_inc', 'verification_status',\n",
       "       'loan_status', 'pymnt_plan', 'url', 'desc', 'purpose', 'title',\n",
       "       'zip_code', 'addr_state', 'dti', 'delinq_2yrs', 'inq_last_6mths',\n",
       "       'mths_since_last_delinq', 'mths_since_last_record', 'open_acc',\n",
       "       'pub_rec', 'revol_bal', 'revol_util', 'total_acc',\n",
       "       'initial_list_status', 'out_prncp', 'out_prncp_inv', 'total_pymnt',\n",
       "       'total_pymnt_inv', 'total_rec_prncp', 'total_rec_int',\n",
       "       'total_rec_late_fee', 'recoveries', 'collection_recovery_fee',\n",
       "       'last_pymnt_amnt', 'collections_12_mths_ex_med',\n",
       "       'mths_since_last_major_derog', 'policy_code', 'application_type',\n",
       "       'annual_inc_joint', 'dti_joint', 'verification_status_joint',\n",
       "       'acc_now_delinq', 'tot_coll_amt', 'tot_cur_bal', 'open_acc_6m',\n",
       "       'open_il_6m', 'open_il_12m', 'open_il_24m', 'mths_since_rcnt_il',\n",
       "       'total_bal_il', 'il_util', 'open_rv_12m', 'open_rv_24m', 'max_bal_bc',\n",
       "       'all_util', 'total_rev_hi_lim', 'inq_fi', 'total_cu_tl',\n",
       "       'inq_last_12m'],\n",
       "      dtype='object')"
      ]
     },
     "execution_count": 7,
     "metadata": {},
     "output_type": "execute_result"
    }
   ],
   "source": [
    "data.columns"
   ]
  },
  {
   "cell_type": "code",
   "execution_count": 8,
   "metadata": {},
   "outputs": [
    {
     "name": "stdout",
     "output_type": "stream",
     "text": [
      "Banyaknya data (43944, 60)\n",
      "Banyaknya data duplicate 0\n",
      "Banyaknya data setelah di drop (43944, 60)\n"
     ]
    }
   ],
   "source": [
    "data = importData('post test_lending.csv',sep=',', drop=drop)"
   ]
  },
  {
   "cell_type": "markdown",
   "metadata": {
    "slideshow": {
     "slide_type": "slide"
    }
   },
   "source": [
    "# Split Input-Output"
   ]
  },
  {
   "cell_type": "code",
   "execution_count": 9,
   "metadata": {},
   "outputs": [
    {
     "data": {
      "text/html": [
       "<div>\n",
       "<style scoped>\n",
       "    .dataframe tbody tr th:only-of-type {\n",
       "        vertical-align: middle;\n",
       "    }\n",
       "\n",
       "    .dataframe tbody tr th {\n",
       "        vertical-align: top;\n",
       "    }\n",
       "\n",
       "    .dataframe thead th {\n",
       "        text-align: right;\n",
       "    }\n",
       "</style>\n",
       "<table border=\"1\" class=\"dataframe\">\n",
       "  <thead>\n",
       "    <tr style=\"text-align: right;\">\n",
       "      <th></th>\n",
       "      <th>loan_amnt</th>\n",
       "      <th>funded_amnt</th>\n",
       "      <th>funded_amnt_inv</th>\n",
       "      <th>term</th>\n",
       "      <th>int_rate</th>\n",
       "      <th>installment</th>\n",
       "      <th>grade</th>\n",
       "      <th>sub_grade</th>\n",
       "      <th>emp_length</th>\n",
       "      <th>home_ownership</th>\n",
       "      <th>...</th>\n",
       "      <th>total_bal_il</th>\n",
       "      <th>il_util</th>\n",
       "      <th>open_rv_12m</th>\n",
       "      <th>open_rv_24m</th>\n",
       "      <th>max_bal_bc</th>\n",
       "      <th>all_util</th>\n",
       "      <th>total_rev_hi_lim</th>\n",
       "      <th>inq_fi</th>\n",
       "      <th>total_cu_tl</th>\n",
       "      <th>inq_last_12m</th>\n",
       "    </tr>\n",
       "  </thead>\n",
       "  <tbody>\n",
       "    <tr>\n",
       "      <th>0</th>\n",
       "      <td>14000.0</td>\n",
       "      <td>14000.0</td>\n",
       "      <td>14000.0</td>\n",
       "      <td>36 months</td>\n",
       "      <td>13.67</td>\n",
       "      <td>476.25</td>\n",
       "      <td>B</td>\n",
       "      <td>B5</td>\n",
       "      <td>&lt; 1 year</td>\n",
       "      <td>MORTGAGE</td>\n",
       "      <td>...</td>\n",
       "      <td>NaN</td>\n",
       "      <td>NaN</td>\n",
       "      <td>NaN</td>\n",
       "      <td>NaN</td>\n",
       "      <td>NaN</td>\n",
       "      <td>NaN</td>\n",
       "      <td>NaN</td>\n",
       "      <td>NaN</td>\n",
       "      <td>NaN</td>\n",
       "      <td>NaN</td>\n",
       "    </tr>\n",
       "    <tr>\n",
       "      <th>1</th>\n",
       "      <td>14400.0</td>\n",
       "      <td>14400.0</td>\n",
       "      <td>14400.0</td>\n",
       "      <td>36 months</td>\n",
       "      <td>12.29</td>\n",
       "      <td>480.29</td>\n",
       "      <td>C</td>\n",
       "      <td>C1</td>\n",
       "      <td>6 years</td>\n",
       "      <td>RENT</td>\n",
       "      <td>...</td>\n",
       "      <td>NaN</td>\n",
       "      <td>NaN</td>\n",
       "      <td>NaN</td>\n",
       "      <td>NaN</td>\n",
       "      <td>NaN</td>\n",
       "      <td>NaN</td>\n",
       "      <td>26600.0</td>\n",
       "      <td>NaN</td>\n",
       "      <td>NaN</td>\n",
       "      <td>NaN</td>\n",
       "    </tr>\n",
       "    <tr>\n",
       "      <th>2</th>\n",
       "      <td>11000.0</td>\n",
       "      <td>11000.0</td>\n",
       "      <td>10950.0</td>\n",
       "      <td>36 months</td>\n",
       "      <td>9.17</td>\n",
       "      <td>350.67</td>\n",
       "      <td>B</td>\n",
       "      <td>B1</td>\n",
       "      <td>4 years</td>\n",
       "      <td>RENT</td>\n",
       "      <td>...</td>\n",
       "      <td>NaN</td>\n",
       "      <td>NaN</td>\n",
       "      <td>NaN</td>\n",
       "      <td>NaN</td>\n",
       "      <td>NaN</td>\n",
       "      <td>NaN</td>\n",
       "      <td>8800.0</td>\n",
       "      <td>NaN</td>\n",
       "      <td>NaN</td>\n",
       "      <td>NaN</td>\n",
       "    </tr>\n",
       "    <tr>\n",
       "      <th>3</th>\n",
       "      <td>10000.0</td>\n",
       "      <td>10000.0</td>\n",
       "      <td>9950.0</td>\n",
       "      <td>60 months</td>\n",
       "      <td>12.69</td>\n",
       "      <td>225.95</td>\n",
       "      <td>C</td>\n",
       "      <td>C2</td>\n",
       "      <td>6 years</td>\n",
       "      <td>RENT</td>\n",
       "      <td>...</td>\n",
       "      <td>NaN</td>\n",
       "      <td>NaN</td>\n",
       "      <td>NaN</td>\n",
       "      <td>NaN</td>\n",
       "      <td>NaN</td>\n",
       "      <td>NaN</td>\n",
       "      <td>43900.0</td>\n",
       "      <td>NaN</td>\n",
       "      <td>NaN</td>\n",
       "      <td>NaN</td>\n",
       "    </tr>\n",
       "    <tr>\n",
       "      <th>4</th>\n",
       "      <td>19800.0</td>\n",
       "      <td>19800.0</td>\n",
       "      <td>19700.0</td>\n",
       "      <td>36 months</td>\n",
       "      <td>6.99</td>\n",
       "      <td>611.28</td>\n",
       "      <td>A</td>\n",
       "      <td>A3</td>\n",
       "      <td>10+ years</td>\n",
       "      <td>MORTGAGE</td>\n",
       "      <td>...</td>\n",
       "      <td>NaN</td>\n",
       "      <td>NaN</td>\n",
       "      <td>NaN</td>\n",
       "      <td>NaN</td>\n",
       "      <td>NaN</td>\n",
       "      <td>NaN</td>\n",
       "      <td>87476.0</td>\n",
       "      <td>NaN</td>\n",
       "      <td>NaN</td>\n",
       "      <td>NaN</td>\n",
       "    </tr>\n",
       "  </tbody>\n",
       "</table>\n",
       "<p>5 rows × 60 columns</p>\n",
       "</div>"
      ],
      "text/plain": [
       "   loan_amnt  funded_amnt  funded_amnt_inv        term  int_rate  installment  \\\n",
       "0    14000.0      14000.0          14000.0   36 months     13.67       476.25   \n",
       "1    14400.0      14400.0          14400.0   36 months     12.29       480.29   \n",
       "2    11000.0      11000.0          10950.0   36 months      9.17       350.67   \n",
       "3    10000.0      10000.0           9950.0   60 months     12.69       225.95   \n",
       "4    19800.0      19800.0          19700.0   36 months      6.99       611.28   \n",
       "\n",
       "  grade sub_grade emp_length home_ownership      ...       total_bal_il  \\\n",
       "0     B        B5   < 1 year       MORTGAGE      ...                NaN   \n",
       "1     C        C1    6 years           RENT      ...                NaN   \n",
       "2     B        B1    4 years           RENT      ...                NaN   \n",
       "3     C        C2    6 years           RENT      ...                NaN   \n",
       "4     A        A3  10+ years       MORTGAGE      ...                NaN   \n",
       "\n",
       "  il_util  open_rv_12m open_rv_24m max_bal_bc  all_util  total_rev_hi_lim  \\\n",
       "0     NaN          NaN         NaN        NaN       NaN               NaN   \n",
       "1     NaN          NaN         NaN        NaN       NaN           26600.0   \n",
       "2     NaN          NaN         NaN        NaN       NaN            8800.0   \n",
       "3     NaN          NaN         NaN        NaN       NaN           43900.0   \n",
       "4     NaN          NaN         NaN        NaN       NaN           87476.0   \n",
       "\n",
       "   inq_fi  total_cu_tl  inq_last_12m  \n",
       "0     NaN          NaN           NaN  \n",
       "1     NaN          NaN           NaN  \n",
       "2     NaN          NaN           NaN  \n",
       "3     NaN          NaN           NaN  \n",
       "4     NaN          NaN           NaN  \n",
       "\n",
       "[5 rows x 60 columns]"
      ]
     },
     "execution_count": 9,
     "metadata": {},
     "output_type": "execute_result"
    }
   ],
   "source": [
    "data.head()"
   ]
  },
  {
   "cell_type": "markdown",
   "metadata": {},
   "source": [
    "data = data_input + data_output <br>\n",
    "data_input = data - data_output"
   ]
  },
  {
   "cell_type": "markdown",
   "metadata": {},
   "source": [
    "# <font color = 'blue'> FUNCTION: extractInputOutput"
   ]
  },
  {
   "cell_type": "code",
   "execution_count": 10,
   "metadata": {},
   "outputs": [],
   "source": [
    "def extractInputOutput(data, output_col):\n",
    "    '''\n",
    "    Fungsi untuk memisahkan antara kolom data input dan output\n",
    "    \n",
    "    Parameter\n",
    "    ----------\n",
    "    data : DataFrame, \n",
    "        data yang hendak dipisahkan input-outputnya\n",
    "    output_col : str, \n",
    "        kolom data output\n",
    "        \n",
    "    Output\n",
    "    -------\n",
    "    data_input  : DataFrame     \n",
    "    data_output : DataFrame\n",
    "    \n",
    "    '''\n",
    "    \n",
    "    data_output = data[output_col]\n",
    "    data_input = data.drop(output_col, axis=1)\n",
    "\n",
    "    return data_input, data_output"
   ]
  },
  {
   "cell_type": "code",
   "execution_count": 11,
   "metadata": {},
   "outputs": [],
   "source": [
    "x, y = extractInputOutput(data, 'loan_status')"
   ]
  },
  {
   "cell_type": "code",
   "execution_count": 12,
   "metadata": {},
   "outputs": [
    {
     "data": {
      "text/html": [
       "<div>\n",
       "<style scoped>\n",
       "    .dataframe tbody tr th:only-of-type {\n",
       "        vertical-align: middle;\n",
       "    }\n",
       "\n",
       "    .dataframe tbody tr th {\n",
       "        vertical-align: top;\n",
       "    }\n",
       "\n",
       "    .dataframe thead th {\n",
       "        text-align: right;\n",
       "    }\n",
       "</style>\n",
       "<table border=\"1\" class=\"dataframe\">\n",
       "  <thead>\n",
       "    <tr style=\"text-align: right;\">\n",
       "      <th></th>\n",
       "      <th>loan_amnt</th>\n",
       "      <th>funded_amnt</th>\n",
       "      <th>funded_amnt_inv</th>\n",
       "      <th>term</th>\n",
       "      <th>int_rate</th>\n",
       "      <th>installment</th>\n",
       "      <th>grade</th>\n",
       "      <th>sub_grade</th>\n",
       "      <th>emp_length</th>\n",
       "      <th>home_ownership</th>\n",
       "      <th>...</th>\n",
       "      <th>total_bal_il</th>\n",
       "      <th>il_util</th>\n",
       "      <th>open_rv_12m</th>\n",
       "      <th>open_rv_24m</th>\n",
       "      <th>max_bal_bc</th>\n",
       "      <th>all_util</th>\n",
       "      <th>total_rev_hi_lim</th>\n",
       "      <th>inq_fi</th>\n",
       "      <th>total_cu_tl</th>\n",
       "      <th>inq_last_12m</th>\n",
       "    </tr>\n",
       "  </thead>\n",
       "  <tbody>\n",
       "    <tr>\n",
       "      <th>0</th>\n",
       "      <td>14000.0</td>\n",
       "      <td>14000.0</td>\n",
       "      <td>14000.0</td>\n",
       "      <td>36 months</td>\n",
       "      <td>13.67</td>\n",
       "      <td>476.25</td>\n",
       "      <td>B</td>\n",
       "      <td>B5</td>\n",
       "      <td>&lt; 1 year</td>\n",
       "      <td>MORTGAGE</td>\n",
       "      <td>...</td>\n",
       "      <td>NaN</td>\n",
       "      <td>NaN</td>\n",
       "      <td>NaN</td>\n",
       "      <td>NaN</td>\n",
       "      <td>NaN</td>\n",
       "      <td>NaN</td>\n",
       "      <td>NaN</td>\n",
       "      <td>NaN</td>\n",
       "      <td>NaN</td>\n",
       "      <td>NaN</td>\n",
       "    </tr>\n",
       "    <tr>\n",
       "      <th>1</th>\n",
       "      <td>14400.0</td>\n",
       "      <td>14400.0</td>\n",
       "      <td>14400.0</td>\n",
       "      <td>36 months</td>\n",
       "      <td>12.29</td>\n",
       "      <td>480.29</td>\n",
       "      <td>C</td>\n",
       "      <td>C1</td>\n",
       "      <td>6 years</td>\n",
       "      <td>RENT</td>\n",
       "      <td>...</td>\n",
       "      <td>NaN</td>\n",
       "      <td>NaN</td>\n",
       "      <td>NaN</td>\n",
       "      <td>NaN</td>\n",
       "      <td>NaN</td>\n",
       "      <td>NaN</td>\n",
       "      <td>26600.0</td>\n",
       "      <td>NaN</td>\n",
       "      <td>NaN</td>\n",
       "      <td>NaN</td>\n",
       "    </tr>\n",
       "    <tr>\n",
       "      <th>2</th>\n",
       "      <td>11000.0</td>\n",
       "      <td>11000.0</td>\n",
       "      <td>10950.0</td>\n",
       "      <td>36 months</td>\n",
       "      <td>9.17</td>\n",
       "      <td>350.67</td>\n",
       "      <td>B</td>\n",
       "      <td>B1</td>\n",
       "      <td>4 years</td>\n",
       "      <td>RENT</td>\n",
       "      <td>...</td>\n",
       "      <td>NaN</td>\n",
       "      <td>NaN</td>\n",
       "      <td>NaN</td>\n",
       "      <td>NaN</td>\n",
       "      <td>NaN</td>\n",
       "      <td>NaN</td>\n",
       "      <td>8800.0</td>\n",
       "      <td>NaN</td>\n",
       "      <td>NaN</td>\n",
       "      <td>NaN</td>\n",
       "    </tr>\n",
       "    <tr>\n",
       "      <th>3</th>\n",
       "      <td>10000.0</td>\n",
       "      <td>10000.0</td>\n",
       "      <td>9950.0</td>\n",
       "      <td>60 months</td>\n",
       "      <td>12.69</td>\n",
       "      <td>225.95</td>\n",
       "      <td>C</td>\n",
       "      <td>C2</td>\n",
       "      <td>6 years</td>\n",
       "      <td>RENT</td>\n",
       "      <td>...</td>\n",
       "      <td>NaN</td>\n",
       "      <td>NaN</td>\n",
       "      <td>NaN</td>\n",
       "      <td>NaN</td>\n",
       "      <td>NaN</td>\n",
       "      <td>NaN</td>\n",
       "      <td>43900.0</td>\n",
       "      <td>NaN</td>\n",
       "      <td>NaN</td>\n",
       "      <td>NaN</td>\n",
       "    </tr>\n",
       "    <tr>\n",
       "      <th>4</th>\n",
       "      <td>19800.0</td>\n",
       "      <td>19800.0</td>\n",
       "      <td>19700.0</td>\n",
       "      <td>36 months</td>\n",
       "      <td>6.99</td>\n",
       "      <td>611.28</td>\n",
       "      <td>A</td>\n",
       "      <td>A3</td>\n",
       "      <td>10+ years</td>\n",
       "      <td>MORTGAGE</td>\n",
       "      <td>...</td>\n",
       "      <td>NaN</td>\n",
       "      <td>NaN</td>\n",
       "      <td>NaN</td>\n",
       "      <td>NaN</td>\n",
       "      <td>NaN</td>\n",
       "      <td>NaN</td>\n",
       "      <td>87476.0</td>\n",
       "      <td>NaN</td>\n",
       "      <td>NaN</td>\n",
       "      <td>NaN</td>\n",
       "    </tr>\n",
       "  </tbody>\n",
       "</table>\n",
       "<p>5 rows × 59 columns</p>\n",
       "</div>"
      ],
      "text/plain": [
       "   loan_amnt  funded_amnt  funded_amnt_inv        term  int_rate  installment  \\\n",
       "0    14000.0      14000.0          14000.0   36 months     13.67       476.25   \n",
       "1    14400.0      14400.0          14400.0   36 months     12.29       480.29   \n",
       "2    11000.0      11000.0          10950.0   36 months      9.17       350.67   \n",
       "3    10000.0      10000.0           9950.0   60 months     12.69       225.95   \n",
       "4    19800.0      19800.0          19700.0   36 months      6.99       611.28   \n",
       "\n",
       "  grade sub_grade emp_length home_ownership      ...       total_bal_il  \\\n",
       "0     B        B5   < 1 year       MORTGAGE      ...                NaN   \n",
       "1     C        C1    6 years           RENT      ...                NaN   \n",
       "2     B        B1    4 years           RENT      ...                NaN   \n",
       "3     C        C2    6 years           RENT      ...                NaN   \n",
       "4     A        A3  10+ years       MORTGAGE      ...                NaN   \n",
       "\n",
       "  il_util open_rv_12m open_rv_24m  max_bal_bc  all_util  total_rev_hi_lim  \\\n",
       "0     NaN         NaN         NaN         NaN       NaN               NaN   \n",
       "1     NaN         NaN         NaN         NaN       NaN           26600.0   \n",
       "2     NaN         NaN         NaN         NaN       NaN            8800.0   \n",
       "3     NaN         NaN         NaN         NaN       NaN           43900.0   \n",
       "4     NaN         NaN         NaN         NaN       NaN           87476.0   \n",
       "\n",
       "   inq_fi  total_cu_tl  inq_last_12m  \n",
       "0     NaN          NaN           NaN  \n",
       "1     NaN          NaN           NaN  \n",
       "2     NaN          NaN           NaN  \n",
       "3     NaN          NaN           NaN  \n",
       "4     NaN          NaN           NaN  \n",
       "\n",
       "[5 rows x 59 columns]"
      ]
     },
     "execution_count": 12,
     "metadata": {},
     "output_type": "execute_result"
    }
   ],
   "source": [
    "x.head()"
   ]
  },
  {
   "cell_type": "code",
   "execution_count": 13,
   "metadata": {},
   "outputs": [
    {
     "data": {
      "text/plain": [
       "0    1\n",
       "1    1\n",
       "2    1\n",
       "3    1\n",
       "4    1\n",
       "Name: loan_status, dtype: int64"
      ]
     },
     "execution_count": 13,
     "metadata": {},
     "output_type": "execute_result"
    }
   ],
   "source": [
    "y.head()"
   ]
  },
  {
   "cell_type": "code",
   "execution_count": 14,
   "metadata": {},
   "outputs": [
    {
     "data": {
      "text/plain": [
       "['input_col.pkl']"
      ]
     },
     "execution_count": 14,
     "metadata": {},
     "output_type": "execute_result"
    }
   ],
   "source": [
    "# save column input\n",
    "joblib.dump(x.columns, 'input_col.pkl')"
   ]
  },
  {
   "cell_type": "markdown",
   "metadata": {},
   "source": [
    "# Train Test Split"
   ]
  },
  {
   "cell_type": "code",
   "execution_count": 15,
   "metadata": {},
   "outputs": [],
   "source": [
    "# import library train_test_split\n",
    "from sklearn.model_selection import train_test_split"
   ]
  },
  {
   "cell_type": "code",
   "execution_count": 16,
   "metadata": {},
   "outputs": [],
   "source": [
    "x_train, x_test, y_train, y_test = train_test_split(x, \n",
    "                                                    y, \n",
    "                                                    test_size = 0.25, \n",
    "                                                    random_state=123)"
   ]
  },
  {
   "cell_type": "code",
   "execution_count": 17,
   "metadata": {},
   "outputs": [
    {
     "name": "stdout",
     "output_type": "stream",
     "text": [
      "(32958, 59) (32958,)\n",
      "(10986, 59) (10986,)\n"
     ]
    }
   ],
   "source": [
    "print(x_train.shape, y_train.shape)\n",
    "print(x_test.shape,  y_test.shape)"
   ]
  },
  {
   "cell_type": "markdown",
   "metadata": {
    "slideshow": {
     "slide_type": "slide"
    }
   },
   "source": [
    "# Missing Data"
   ]
  },
  {
   "cell_type": "markdown",
   "metadata": {
    "slideshow": {
     "slide_type": "subslide"
    }
   },
   "source": [
    "## Checking Missing Data"
   ]
  },
  {
   "cell_type": "code",
   "execution_count": 18,
   "metadata": {
    "scrolled": true,
    "slideshow": {
     "slide_type": "fragment"
    }
   },
   "outputs": [
    {
     "data": {
      "text/plain": [
       "loan_amnt                          0\n",
       "funded_amnt                        0\n",
       "funded_amnt_inv                    0\n",
       "term                               0\n",
       "int_rate                           0\n",
       "installment                        0\n",
       "grade                              0\n",
       "sub_grade                          0\n",
       "emp_length                      1668\n",
       "home_ownership                     0\n",
       "annual_inc                         0\n",
       "verification_status                0\n",
       "purpose                            0\n",
       "addr_state                         0\n",
       "dti                                0\n",
       "delinq_2yrs                        0\n",
       "inq_last_6mths                     0\n",
       "mths_since_last_delinq         16934\n",
       "mths_since_last_record         27952\n",
       "open_acc                           0\n",
       "pub_rec                            0\n",
       "revol_bal                          0\n",
       "revol_util                        13\n",
       "total_acc                          0\n",
       "initial_list_status                0\n",
       "out_prncp                          0\n",
       "out_prncp_inv                      0\n",
       "total_pymnt                        0\n",
       "total_pymnt_inv                    0\n",
       "total_rec_prncp                    0\n",
       "total_rec_int                      0\n",
       "total_rec_late_fee                 0\n",
       "recoveries                         0\n",
       "collection_recovery_fee            0\n",
       "last_pymnt_amnt                    0\n",
       "collections_12_mths_ex_med         5\n",
       "mths_since_last_major_derog    24685\n",
       "application_type                   0\n",
       "annual_inc_joint               32934\n",
       "dti_joint                      32934\n",
       "verification_status_joint      32934\n",
       "acc_now_delinq                     0\n",
       "tot_coll_amt                    2590\n",
       "tot_cur_bal                     2590\n",
       "open_acc_6m                    32484\n",
       "open_il_6m                     32484\n",
       "open_il_12m                    32484\n",
       "open_il_24m                    32484\n",
       "mths_since_rcnt_il             32498\n",
       "total_bal_il                   32484\n",
       "il_util                        32544\n",
       "open_rv_12m                    32484\n",
       "open_rv_24m                    32484\n",
       "max_bal_bc                     32484\n",
       "all_util                       32484\n",
       "total_rev_hi_lim                2590\n",
       "inq_fi                         32484\n",
       "total_cu_tl                    32484\n",
       "inq_last_12m                   32484\n",
       "dtype: int64"
      ]
     },
     "execution_count": 18,
     "metadata": {},
     "output_type": "execute_result"
    }
   ],
   "source": [
    "# cek missing data dari x_train\n",
    "x_train.isnull().sum()"
   ]
  },
  {
   "cell_type": "markdown",
   "metadata": {
    "slideshow": {
     "slide_type": "subslide"
    }
   },
   "source": [
    "# Handling Missing Values\n",
    "* Imputation "
   ]
  },
  {
   "cell_type": "markdown",
   "metadata": {
    "slideshow": {
     "slide_type": "subslide"
    }
   },
   "source": [
    "## Missing Values Imputation\n",
    "\n",
    "Data imputation adalah proses pengisian data yang memiliki data yang kosong, biasanya diperlihatkan sebagai NaN\n",
    "\n",
    "Proses tersebut terbagi menjadi 2:\n",
    "* Numerical Imputation\n",
    "* Categorical Imputation"
   ]
  },
  {
   "cell_type": "markdown",
   "metadata": {
    "slideshow": {
     "slide_type": "subslide"
    }
   },
   "source": [
    "# Split Numeric and Categoric"
   ]
  },
  {
   "cell_type": "markdown",
   "metadata": {},
   "source": [
    "data_input = data_numerical + data_categorical <br>\n",
    "data_categorical = data - data_numerical"
   ]
  },
  {
   "cell_type": "code",
   "execution_count": 19,
   "metadata": {},
   "outputs": [],
   "source": [
    "# soalnya float tapi banyaknya jenis data di bawah 5\n",
    "watched = ['collections_12_mths_ex_med', 'acc_now_delinq']"
   ]
  },
  {
   "cell_type": "code",
   "execution_count": 20,
   "metadata": {},
   "outputs": [],
   "source": [
    "# data.select_dtypes(['float64']).nunique()"
   ]
  },
  {
   "cell_type": "markdown",
   "metadata": {},
   "source": [
    "# <font color = 'blue'> FUNCTION: splitNumCat"
   ]
  },
  {
   "cell_type": "code",
   "execution_count": 21,
   "metadata": {},
   "outputs": [],
   "source": [
    "def splitNumCat(data, num_categorical):\n",
    "    '''\n",
    "    Fungsi untuk memisahkan kolom numerik dan kategorik\n",
    "    \n",
    "    Parameter\n",
    "    ----------\n",
    "    data : DataFrame, \n",
    "        data yang hendak dipisahkan numerik dan kategorik\n",
    "    num_categorical : list, default []\n",
    "        kolom kategorik yang berbentuk numerik.\n",
    "        Misal bernilai 1 0 (Ya Tidak)\n",
    "        \n",
    "    Output\n",
    "    -------\n",
    "    data_num  : DataFrame     \n",
    "    data_cat : DataFrame\n",
    "    \n",
    "    '''\n",
    "    data_num = data._get_numeric_data()\n",
    "    data_num = data_num.drop(num_categorical, axis = 1)\n",
    "    data_cat = data.drop(list(data_num.columns.values) , axis = 1)\n",
    "\n",
    "    return data_num, data_cat"
   ]
  },
  {
   "cell_type": "code",
   "execution_count": 22,
   "metadata": {},
   "outputs": [],
   "source": [
    "x_train_numerical, x_train_categorical = splitNumCat(x_train, [])"
   ]
  },
  {
   "cell_type": "code",
   "execution_count": 23,
   "metadata": {
    "scrolled": true
   },
   "outputs": [
    {
     "data": {
      "text/html": [
       "<div>\n",
       "<style scoped>\n",
       "    .dataframe tbody tr th:only-of-type {\n",
       "        vertical-align: middle;\n",
       "    }\n",
       "\n",
       "    .dataframe tbody tr th {\n",
       "        vertical-align: top;\n",
       "    }\n",
       "\n",
       "    .dataframe thead th {\n",
       "        text-align: right;\n",
       "    }\n",
       "</style>\n",
       "<table border=\"1\" class=\"dataframe\">\n",
       "  <thead>\n",
       "    <tr style=\"text-align: right;\">\n",
       "      <th></th>\n",
       "      <th>loan_amnt</th>\n",
       "      <th>funded_amnt</th>\n",
       "      <th>funded_amnt_inv</th>\n",
       "      <th>int_rate</th>\n",
       "      <th>installment</th>\n",
       "      <th>annual_inc</th>\n",
       "      <th>dti</th>\n",
       "      <th>delinq_2yrs</th>\n",
       "      <th>inq_last_6mths</th>\n",
       "      <th>mths_since_last_delinq</th>\n",
       "      <th>...</th>\n",
       "      <th>total_bal_il</th>\n",
       "      <th>il_util</th>\n",
       "      <th>open_rv_12m</th>\n",
       "      <th>open_rv_24m</th>\n",
       "      <th>max_bal_bc</th>\n",
       "      <th>all_util</th>\n",
       "      <th>total_rev_hi_lim</th>\n",
       "      <th>inq_fi</th>\n",
       "      <th>total_cu_tl</th>\n",
       "      <th>inq_last_12m</th>\n",
       "    </tr>\n",
       "  </thead>\n",
       "  <tbody>\n",
       "    <tr>\n",
       "      <th>37891</th>\n",
       "      <td>20000.0</td>\n",
       "      <td>20000.0</td>\n",
       "      <td>18260.96303</td>\n",
       "      <td>7.88</td>\n",
       "      <td>625.63</td>\n",
       "      <td>76000.0</td>\n",
       "      <td>12.52</td>\n",
       "      <td>0.0</td>\n",
       "      <td>0.0</td>\n",
       "      <td>29.0</td>\n",
       "      <td>...</td>\n",
       "      <td>NaN</td>\n",
       "      <td>NaN</td>\n",
       "      <td>NaN</td>\n",
       "      <td>NaN</td>\n",
       "      <td>NaN</td>\n",
       "      <td>NaN</td>\n",
       "      <td>NaN</td>\n",
       "      <td>NaN</td>\n",
       "      <td>NaN</td>\n",
       "      <td>NaN</td>\n",
       "    </tr>\n",
       "    <tr>\n",
       "      <th>5450</th>\n",
       "      <td>8950.0</td>\n",
       "      <td>8950.0</td>\n",
       "      <td>8950.00000</td>\n",
       "      <td>14.99</td>\n",
       "      <td>310.22</td>\n",
       "      <td>31800.0</td>\n",
       "      <td>13.28</td>\n",
       "      <td>0.0</td>\n",
       "      <td>3.0</td>\n",
       "      <td>NaN</td>\n",
       "      <td>...</td>\n",
       "      <td>NaN</td>\n",
       "      <td>NaN</td>\n",
       "      <td>NaN</td>\n",
       "      <td>NaN</td>\n",
       "      <td>NaN</td>\n",
       "      <td>NaN</td>\n",
       "      <td>6600.0</td>\n",
       "      <td>NaN</td>\n",
       "      <td>NaN</td>\n",
       "      <td>NaN</td>\n",
       "    </tr>\n",
       "    <tr>\n",
       "      <th>20180</th>\n",
       "      <td>5000.0</td>\n",
       "      <td>5000.0</td>\n",
       "      <td>5000.00000</td>\n",
       "      <td>7.26</td>\n",
       "      <td>154.99</td>\n",
       "      <td>70000.0</td>\n",
       "      <td>11.55</td>\n",
       "      <td>0.0</td>\n",
       "      <td>0.0</td>\n",
       "      <td>47.0</td>\n",
       "      <td>...</td>\n",
       "      <td>NaN</td>\n",
       "      <td>NaN</td>\n",
       "      <td>NaN</td>\n",
       "      <td>NaN</td>\n",
       "      <td>NaN</td>\n",
       "      <td>NaN</td>\n",
       "      <td>31500.0</td>\n",
       "      <td>NaN</td>\n",
       "      <td>NaN</td>\n",
       "      <td>NaN</td>\n",
       "    </tr>\n",
       "    <tr>\n",
       "      <th>34277</th>\n",
       "      <td>7225.0</td>\n",
       "      <td>7225.0</td>\n",
       "      <td>7225.00000</td>\n",
       "      <td>15.31</td>\n",
       "      <td>251.56</td>\n",
       "      <td>33000.0</td>\n",
       "      <td>17.53</td>\n",
       "      <td>1.0</td>\n",
       "      <td>2.0</td>\n",
       "      <td>16.0</td>\n",
       "      <td>...</td>\n",
       "      <td>NaN</td>\n",
       "      <td>NaN</td>\n",
       "      <td>NaN</td>\n",
       "      <td>NaN</td>\n",
       "      <td>NaN</td>\n",
       "      <td>NaN</td>\n",
       "      <td>16400.0</td>\n",
       "      <td>NaN</td>\n",
       "      <td>NaN</td>\n",
       "      <td>NaN</td>\n",
       "    </tr>\n",
       "    <tr>\n",
       "      <th>14156</th>\n",
       "      <td>18000.0</td>\n",
       "      <td>18000.0</td>\n",
       "      <td>18000.00000</td>\n",
       "      <td>21.18</td>\n",
       "      <td>488.79</td>\n",
       "      <td>91000.0</td>\n",
       "      <td>15.21</td>\n",
       "      <td>0.0</td>\n",
       "      <td>0.0</td>\n",
       "      <td>NaN</td>\n",
       "      <td>...</td>\n",
       "      <td>NaN</td>\n",
       "      <td>NaN</td>\n",
       "      <td>NaN</td>\n",
       "      <td>NaN</td>\n",
       "      <td>NaN</td>\n",
       "      <td>NaN</td>\n",
       "      <td>44300.0</td>\n",
       "      <td>NaN</td>\n",
       "      <td>NaN</td>\n",
       "      <td>NaN</td>\n",
       "    </tr>\n",
       "  </tbody>\n",
       "</table>\n",
       "<p>5 rows × 48 columns</p>\n",
       "</div>"
      ],
      "text/plain": [
       "       loan_amnt  funded_amnt  funded_amnt_inv  int_rate  installment  \\\n",
       "37891    20000.0      20000.0      18260.96303      7.88       625.63   \n",
       "5450      8950.0       8950.0       8950.00000     14.99       310.22   \n",
       "20180     5000.0       5000.0       5000.00000      7.26       154.99   \n",
       "34277     7225.0       7225.0       7225.00000     15.31       251.56   \n",
       "14156    18000.0      18000.0      18000.00000     21.18       488.79   \n",
       "\n",
       "       annual_inc    dti  delinq_2yrs  inq_last_6mths  mths_since_last_delinq  \\\n",
       "37891     76000.0  12.52          0.0             0.0                    29.0   \n",
       "5450      31800.0  13.28          0.0             3.0                     NaN   \n",
       "20180     70000.0  11.55          0.0             0.0                    47.0   \n",
       "34277     33000.0  17.53          1.0             2.0                    16.0   \n",
       "14156     91000.0  15.21          0.0             0.0                     NaN   \n",
       "\n",
       "           ...       total_bal_il  il_util  open_rv_12m  open_rv_24m  \\\n",
       "37891      ...                NaN      NaN          NaN          NaN   \n",
       "5450       ...                NaN      NaN          NaN          NaN   \n",
       "20180      ...                NaN      NaN          NaN          NaN   \n",
       "34277      ...                NaN      NaN          NaN          NaN   \n",
       "14156      ...                NaN      NaN          NaN          NaN   \n",
       "\n",
       "       max_bal_bc  all_util  total_rev_hi_lim  inq_fi  total_cu_tl  \\\n",
       "37891         NaN       NaN               NaN     NaN          NaN   \n",
       "5450          NaN       NaN            6600.0     NaN          NaN   \n",
       "20180         NaN       NaN           31500.0     NaN          NaN   \n",
       "34277         NaN       NaN           16400.0     NaN          NaN   \n",
       "14156         NaN       NaN           44300.0     NaN          NaN   \n",
       "\n",
       "       inq_last_12m  \n",
       "37891           NaN  \n",
       "5450            NaN  \n",
       "20180           NaN  \n",
       "34277           NaN  \n",
       "14156           NaN  \n",
       "\n",
       "[5 rows x 48 columns]"
      ]
     },
     "execution_count": 23,
     "metadata": {},
     "output_type": "execute_result"
    }
   ],
   "source": [
    "x_train_numerical.head()"
   ]
  },
  {
   "cell_type": "code",
   "execution_count": 24,
   "metadata": {},
   "outputs": [],
   "source": [
    "# num_cat = \n",
    "# x_train_numerical, x_train_categorical = splitNumCat(x_train, num_cat)"
   ]
  },
  {
   "cell_type": "code",
   "execution_count": 25,
   "metadata": {
    "scrolled": true
   },
   "outputs": [
    {
     "data": {
      "text/html": [
       "<div>\n",
       "<style scoped>\n",
       "    .dataframe tbody tr th:only-of-type {\n",
       "        vertical-align: middle;\n",
       "    }\n",
       "\n",
       "    .dataframe tbody tr th {\n",
       "        vertical-align: top;\n",
       "    }\n",
       "\n",
       "    .dataframe thead th {\n",
       "        text-align: right;\n",
       "    }\n",
       "</style>\n",
       "<table border=\"1\" class=\"dataframe\">\n",
       "  <thead>\n",
       "    <tr style=\"text-align: right;\">\n",
       "      <th></th>\n",
       "      <th>term</th>\n",
       "      <th>grade</th>\n",
       "      <th>sub_grade</th>\n",
       "      <th>emp_length</th>\n",
       "      <th>home_ownership</th>\n",
       "      <th>verification_status</th>\n",
       "      <th>purpose</th>\n",
       "      <th>addr_state</th>\n",
       "      <th>initial_list_status</th>\n",
       "      <th>application_type</th>\n",
       "      <th>verification_status_joint</th>\n",
       "    </tr>\n",
       "  </thead>\n",
       "  <tbody>\n",
       "    <tr>\n",
       "      <th>37891</th>\n",
       "      <td>36 months</td>\n",
       "      <td>A</td>\n",
       "      <td>A5</td>\n",
       "      <td>10+ years</td>\n",
       "      <td>MORTGAGE</td>\n",
       "      <td>Verified</td>\n",
       "      <td>debt_consolidation</td>\n",
       "      <td>CO</td>\n",
       "      <td>f</td>\n",
       "      <td>INDIVIDUAL</td>\n",
       "      <td>NaN</td>\n",
       "    </tr>\n",
       "    <tr>\n",
       "      <th>5450</th>\n",
       "      <td>36 months</td>\n",
       "      <td>C</td>\n",
       "      <td>C5</td>\n",
       "      <td>NaN</td>\n",
       "      <td>MORTGAGE</td>\n",
       "      <td>Verified</td>\n",
       "      <td>debt_consolidation</td>\n",
       "      <td>NV</td>\n",
       "      <td>w</td>\n",
       "      <td>INDIVIDUAL</td>\n",
       "      <td>NaN</td>\n",
       "    </tr>\n",
       "    <tr>\n",
       "      <th>20180</th>\n",
       "      <td>36 months</td>\n",
       "      <td>A</td>\n",
       "      <td>A4</td>\n",
       "      <td>10+ years</td>\n",
       "      <td>MORTGAGE</td>\n",
       "      <td>Not Verified</td>\n",
       "      <td>home_improvement</td>\n",
       "      <td>CA</td>\n",
       "      <td>w</td>\n",
       "      <td>INDIVIDUAL</td>\n",
       "      <td>NaN</td>\n",
       "    </tr>\n",
       "    <tr>\n",
       "      <th>34277</th>\n",
       "      <td>36 months</td>\n",
       "      <td>C</td>\n",
       "      <td>C4</td>\n",
       "      <td>10+ years</td>\n",
       "      <td>RENT</td>\n",
       "      <td>Not Verified</td>\n",
       "      <td>debt_consolidation</td>\n",
       "      <td>AL</td>\n",
       "      <td>f</td>\n",
       "      <td>INDIVIDUAL</td>\n",
       "      <td>NaN</td>\n",
       "    </tr>\n",
       "    <tr>\n",
       "      <th>14156</th>\n",
       "      <td>60 months</td>\n",
       "      <td>E</td>\n",
       "      <td>E3</td>\n",
       "      <td>9 years</td>\n",
       "      <td>MORTGAGE</td>\n",
       "      <td>Not Verified</td>\n",
       "      <td>debt_consolidation</td>\n",
       "      <td>TN</td>\n",
       "      <td>f</td>\n",
       "      <td>INDIVIDUAL</td>\n",
       "      <td>NaN</td>\n",
       "    </tr>\n",
       "  </tbody>\n",
       "</table>\n",
       "</div>"
      ],
      "text/plain": [
       "             term grade sub_grade emp_length home_ownership  \\\n",
       "37891   36 months     A        A5  10+ years       MORTGAGE   \n",
       "5450    36 months     C        C5        NaN       MORTGAGE   \n",
       "20180   36 months     A        A4  10+ years       MORTGAGE   \n",
       "34277   36 months     C        C4  10+ years           RENT   \n",
       "14156   60 months     E        E3    9 years       MORTGAGE   \n",
       "\n",
       "      verification_status             purpose addr_state initial_list_status  \\\n",
       "37891            Verified  debt_consolidation         CO                   f   \n",
       "5450             Verified  debt_consolidation         NV                   w   \n",
       "20180        Not Verified    home_improvement         CA                   w   \n",
       "34277        Not Verified  debt_consolidation         AL                   f   \n",
       "14156        Not Verified  debt_consolidation         TN                   f   \n",
       "\n",
       "      application_type verification_status_joint  \n",
       "37891       INDIVIDUAL                       NaN  \n",
       "5450        INDIVIDUAL                       NaN  \n",
       "20180       INDIVIDUAL                       NaN  \n",
       "34277       INDIVIDUAL                       NaN  \n",
       "14156       INDIVIDUAL                       NaN  "
      ]
     },
     "execution_count": 25,
     "metadata": {},
     "output_type": "execute_result"
    }
   ],
   "source": [
    "x_train_categorical.head()"
   ]
  },
  {
   "cell_type": "code",
   "execution_count": 26,
   "metadata": {
    "scrolled": true,
    "slideshow": {
     "slide_type": "subslide"
    }
   },
   "outputs": [],
   "source": [
    "numerical =  x_train_numerical.columns # kolom numerik"
   ]
  },
  {
   "cell_type": "code",
   "execution_count": 27,
   "metadata": {},
   "outputs": [
    {
     "data": {
      "text/plain": [
       "['numerical_col.pkl']"
      ]
     },
     "execution_count": 27,
     "metadata": {},
     "output_type": "execute_result"
    }
   ],
   "source": [
    "# save column numeric\n",
    "joblib.dump(numerical, 'numerical_col.pkl')"
   ]
  },
  {
   "cell_type": "code",
   "execution_count": 28,
   "metadata": {
    "scrolled": true
   },
   "outputs": [
    {
     "data": {
      "text/html": [
       "<div>\n",
       "<style scoped>\n",
       "    .dataframe tbody tr th:only-of-type {\n",
       "        vertical-align: middle;\n",
       "    }\n",
       "\n",
       "    .dataframe tbody tr th {\n",
       "        vertical-align: top;\n",
       "    }\n",
       "\n",
       "    .dataframe thead th {\n",
       "        text-align: right;\n",
       "    }\n",
       "</style>\n",
       "<table border=\"1\" class=\"dataframe\">\n",
       "  <thead>\n",
       "    <tr style=\"text-align: right;\">\n",
       "      <th></th>\n",
       "      <th>loan_amnt</th>\n",
       "      <th>funded_amnt</th>\n",
       "      <th>funded_amnt_inv</th>\n",
       "      <th>int_rate</th>\n",
       "      <th>installment</th>\n",
       "      <th>annual_inc</th>\n",
       "      <th>dti</th>\n",
       "      <th>delinq_2yrs</th>\n",
       "      <th>inq_last_6mths</th>\n",
       "      <th>mths_since_last_delinq</th>\n",
       "      <th>...</th>\n",
       "      <th>total_bal_il</th>\n",
       "      <th>il_util</th>\n",
       "      <th>open_rv_12m</th>\n",
       "      <th>open_rv_24m</th>\n",
       "      <th>max_bal_bc</th>\n",
       "      <th>all_util</th>\n",
       "      <th>total_rev_hi_lim</th>\n",
       "      <th>inq_fi</th>\n",
       "      <th>total_cu_tl</th>\n",
       "      <th>inq_last_12m</th>\n",
       "    </tr>\n",
       "  </thead>\n",
       "  <tbody>\n",
       "    <tr>\n",
       "      <th>count</th>\n",
       "      <td>32958.000000</td>\n",
       "      <td>32958.000000</td>\n",
       "      <td>32958.000000</td>\n",
       "      <td>32958.000000</td>\n",
       "      <td>32958.000000</td>\n",
       "      <td>3.295800e+04</td>\n",
       "      <td>32958.000000</td>\n",
       "      <td>32958.000000</td>\n",
       "      <td>32958.000000</td>\n",
       "      <td>16024.000000</td>\n",
       "      <td>...</td>\n",
       "      <td>474.000000</td>\n",
       "      <td>414.000000</td>\n",
       "      <td>474.000000</td>\n",
       "      <td>474.000000</td>\n",
       "      <td>474.000000</td>\n",
       "      <td>474.000000</td>\n",
       "      <td>3.036800e+04</td>\n",
       "      <td>474.000000</td>\n",
       "      <td>474.000000</td>\n",
       "      <td>474.000000</td>\n",
       "    </tr>\n",
       "    <tr>\n",
       "      <th>mean</th>\n",
       "      <td>14761.950058</td>\n",
       "      <td>14749.827053</td>\n",
       "      <td>14709.610543</td>\n",
       "      <td>13.200539</td>\n",
       "      <td>436.855577</td>\n",
       "      <td>7.521347e+04</td>\n",
       "      <td>18.110919</td>\n",
       "      <td>0.307846</td>\n",
       "      <td>0.695431</td>\n",
       "      <td>34.055791</td>\n",
       "      <td>...</td>\n",
       "      <td>38365.675105</td>\n",
       "      <td>71.584058</td>\n",
       "      <td>1.388186</td>\n",
       "      <td>2.934599</td>\n",
       "      <td>5622.835443</td>\n",
       "      <td>60.029747</td>\n",
       "      <td>3.198295e+04</td>\n",
       "      <td>0.871308</td>\n",
       "      <td>1.466245</td>\n",
       "      <td>1.810127</td>\n",
       "    </tr>\n",
       "    <tr>\n",
       "      <th>std</th>\n",
       "      <td>8426.825613</td>\n",
       "      <td>8421.578750</td>\n",
       "      <td>8433.766445</td>\n",
       "      <td>4.366487</td>\n",
       "      <td>244.378487</td>\n",
       "      <td>6.982543e+04</td>\n",
       "      <td>8.259707</td>\n",
       "      <td>0.846049</td>\n",
       "      <td>0.997566</td>\n",
       "      <td>21.752120</td>\n",
       "      <td>...</td>\n",
       "      <td>44627.307298</td>\n",
       "      <td>21.607692</td>\n",
       "      <td>1.463130</td>\n",
       "      <td>2.520517</td>\n",
       "      <td>4832.789683</td>\n",
       "      <td>19.695340</td>\n",
       "      <td>3.145419e+04</td>\n",
       "      <td>1.384870</td>\n",
       "      <td>2.677903</td>\n",
       "      <td>2.946640</td>\n",
       "    </tr>\n",
       "    <tr>\n",
       "      <th>min</th>\n",
       "      <td>1000.000000</td>\n",
       "      <td>1000.000000</td>\n",
       "      <td>0.000000</td>\n",
       "      <td>5.320000</td>\n",
       "      <td>21.620000</td>\n",
       "      <td>5.000000e+03</td>\n",
       "      <td>0.000000</td>\n",
       "      <td>0.000000</td>\n",
       "      <td>0.000000</td>\n",
       "      <td>0.000000</td>\n",
       "      <td>...</td>\n",
       "      <td>0.000000</td>\n",
       "      <td>0.000000</td>\n",
       "      <td>0.000000</td>\n",
       "      <td>0.000000</td>\n",
       "      <td>0.000000</td>\n",
       "      <td>0.000000</td>\n",
       "      <td>0.000000e+00</td>\n",
       "      <td>0.000000</td>\n",
       "      <td>0.000000</td>\n",
       "      <td>-4.000000</td>\n",
       "    </tr>\n",
       "    <tr>\n",
       "      <th>25%</th>\n",
       "      <td>8000.000000</td>\n",
       "      <td>8000.000000</td>\n",
       "      <td>8000.000000</td>\n",
       "      <td>9.990000</td>\n",
       "      <td>260.550000</td>\n",
       "      <td>4.500000e+04</td>\n",
       "      <td>11.930000</td>\n",
       "      <td>0.000000</td>\n",
       "      <td>0.000000</td>\n",
       "      <td>15.000000</td>\n",
       "      <td>...</td>\n",
       "      <td>10774.000000</td>\n",
       "      <td>58.350000</td>\n",
       "      <td>0.000000</td>\n",
       "      <td>1.000000</td>\n",
       "      <td>2158.250000</td>\n",
       "      <td>48.125000</td>\n",
       "      <td>1.410000e+04</td>\n",
       "      <td>0.000000</td>\n",
       "      <td>0.000000</td>\n",
       "      <td>1.000000</td>\n",
       "    </tr>\n",
       "    <tr>\n",
       "      <th>50%</th>\n",
       "      <td>13000.000000</td>\n",
       "      <td>13000.000000</td>\n",
       "      <td>13000.000000</td>\n",
       "      <td>12.990000</td>\n",
       "      <td>382.550000</td>\n",
       "      <td>6.500000e+04</td>\n",
       "      <td>17.655000</td>\n",
       "      <td>0.000000</td>\n",
       "      <td>0.000000</td>\n",
       "      <td>31.000000</td>\n",
       "      <td>...</td>\n",
       "      <td>27671.000000</td>\n",
       "      <td>73.250000</td>\n",
       "      <td>1.000000</td>\n",
       "      <td>2.000000</td>\n",
       "      <td>4318.000000</td>\n",
       "      <td>60.850000</td>\n",
       "      <td>2.370000e+04</td>\n",
       "      <td>0.000000</td>\n",
       "      <td>0.000000</td>\n",
       "      <td>2.000000</td>\n",
       "    </tr>\n",
       "    <tr>\n",
       "      <th>75%</th>\n",
       "      <td>20000.000000</td>\n",
       "      <td>20000.000000</td>\n",
       "      <td>20000.000000</td>\n",
       "      <td>15.990000</td>\n",
       "      <td>573.320000</td>\n",
       "      <td>9.000000e+04</td>\n",
       "      <td>23.870000</td>\n",
       "      <td>0.000000</td>\n",
       "      <td>1.000000</td>\n",
       "      <td>49.000000</td>\n",
       "      <td>...</td>\n",
       "      <td>48655.750000</td>\n",
       "      <td>87.475000</td>\n",
       "      <td>2.000000</td>\n",
       "      <td>4.000000</td>\n",
       "      <td>7349.000000</td>\n",
       "      <td>73.900000</td>\n",
       "      <td>3.990000e+04</td>\n",
       "      <td>1.000000</td>\n",
       "      <td>2.000000</td>\n",
       "      <td>3.000000</td>\n",
       "    </tr>\n",
       "    <tr>\n",
       "      <th>max</th>\n",
       "      <td>35000.000000</td>\n",
       "      <td>35000.000000</td>\n",
       "      <td>35000.000000</td>\n",
       "      <td>28.990000</td>\n",
       "      <td>1406.080000</td>\n",
       "      <td>7.141778e+06</td>\n",
       "      <td>45.580000</td>\n",
       "      <td>20.000000</td>\n",
       "      <td>10.000000</td>\n",
       "      <td>139.000000</td>\n",
       "      <td>...</td>\n",
       "      <td>471609.000000</td>\n",
       "      <td>131.700000</td>\n",
       "      <td>10.000000</td>\n",
       "      <td>16.000000</td>\n",
       "      <td>30528.000000</td>\n",
       "      <td>119.500000</td>\n",
       "      <td>1.013700e+06</td>\n",
       "      <td>13.000000</td>\n",
       "      <td>22.000000</td>\n",
       "      <td>15.000000</td>\n",
       "    </tr>\n",
       "  </tbody>\n",
       "</table>\n",
       "<p>8 rows × 48 columns</p>\n",
       "</div>"
      ],
      "text/plain": [
       "          loan_amnt   funded_amnt  funded_amnt_inv      int_rate  \\\n",
       "count  32958.000000  32958.000000     32958.000000  32958.000000   \n",
       "mean   14761.950058  14749.827053     14709.610543     13.200539   \n",
       "std     8426.825613   8421.578750      8433.766445      4.366487   \n",
       "min     1000.000000   1000.000000         0.000000      5.320000   \n",
       "25%     8000.000000   8000.000000      8000.000000      9.990000   \n",
       "50%    13000.000000  13000.000000     13000.000000     12.990000   \n",
       "75%    20000.000000  20000.000000     20000.000000     15.990000   \n",
       "max    35000.000000  35000.000000     35000.000000     28.990000   \n",
       "\n",
       "        installment    annual_inc           dti   delinq_2yrs  inq_last_6mths  \\\n",
       "count  32958.000000  3.295800e+04  32958.000000  32958.000000    32958.000000   \n",
       "mean     436.855577  7.521347e+04     18.110919      0.307846        0.695431   \n",
       "std      244.378487  6.982543e+04      8.259707      0.846049        0.997566   \n",
       "min       21.620000  5.000000e+03      0.000000      0.000000        0.000000   \n",
       "25%      260.550000  4.500000e+04     11.930000      0.000000        0.000000   \n",
       "50%      382.550000  6.500000e+04     17.655000      0.000000        0.000000   \n",
       "75%      573.320000  9.000000e+04     23.870000      0.000000        1.000000   \n",
       "max     1406.080000  7.141778e+06     45.580000     20.000000       10.000000   \n",
       "\n",
       "       mths_since_last_delinq      ...        total_bal_il     il_util  \\\n",
       "count            16024.000000      ...          474.000000  414.000000   \n",
       "mean                34.055791      ...        38365.675105   71.584058   \n",
       "std                 21.752120      ...        44627.307298   21.607692   \n",
       "min                  0.000000      ...            0.000000    0.000000   \n",
       "25%                 15.000000      ...        10774.000000   58.350000   \n",
       "50%                 31.000000      ...        27671.000000   73.250000   \n",
       "75%                 49.000000      ...        48655.750000   87.475000   \n",
       "max                139.000000      ...       471609.000000  131.700000   \n",
       "\n",
       "       open_rv_12m  open_rv_24m    max_bal_bc    all_util  total_rev_hi_lim  \\\n",
       "count   474.000000   474.000000    474.000000  474.000000      3.036800e+04   \n",
       "mean      1.388186     2.934599   5622.835443   60.029747      3.198295e+04   \n",
       "std       1.463130     2.520517   4832.789683   19.695340      3.145419e+04   \n",
       "min       0.000000     0.000000      0.000000    0.000000      0.000000e+00   \n",
       "25%       0.000000     1.000000   2158.250000   48.125000      1.410000e+04   \n",
       "50%       1.000000     2.000000   4318.000000   60.850000      2.370000e+04   \n",
       "75%       2.000000     4.000000   7349.000000   73.900000      3.990000e+04   \n",
       "max      10.000000    16.000000  30528.000000  119.500000      1.013700e+06   \n",
       "\n",
       "           inq_fi  total_cu_tl  inq_last_12m  \n",
       "count  474.000000   474.000000    474.000000  \n",
       "mean     0.871308     1.466245      1.810127  \n",
       "std      1.384870     2.677903      2.946640  \n",
       "min      0.000000     0.000000     -4.000000  \n",
       "25%      0.000000     0.000000      1.000000  \n",
       "50%      0.000000     0.000000      2.000000  \n",
       "75%      1.000000     2.000000      3.000000  \n",
       "max     13.000000    22.000000     15.000000  \n",
       "\n",
       "[8 rows x 48 columns]"
      ]
     },
     "execution_count": 28,
     "metadata": {},
     "output_type": "execute_result"
    }
   ],
   "source": [
    "x_train_numerical.describe()"
   ]
  },
  {
   "cell_type": "code",
   "execution_count": 29,
   "metadata": {
    "slideshow": {
     "slide_type": "fragment"
    }
   },
   "outputs": [],
   "source": [
    "categorical =  x_train_categorical.columns# kolom kategorik"
   ]
  },
  {
   "cell_type": "code",
   "execution_count": 30,
   "metadata": {},
   "outputs": [
    {
     "data": {
      "text/plain": [
       "['categorical_col.pkl']"
      ]
     },
     "execution_count": 30,
     "metadata": {},
     "output_type": "execute_result"
    }
   ],
   "source": [
    "# save column categorical\n",
    "joblib.dump(categorical, 'categorical_col.pkl')"
   ]
  },
  {
   "cell_type": "code",
   "execution_count": 31,
   "metadata": {
    "scrolled": true
   },
   "outputs": [
    {
     "name": "stdout",
     "output_type": "stream",
     "text": [
      "term\n",
      " 36 months    0.700664\n",
      " 60 months    0.299336\n",
      "Name: term, dtype: float64\n",
      "===\n",
      "grade\n",
      "B    0.288230\n",
      "C    0.277057\n",
      "A    0.168100\n",
      "D    0.156199\n",
      "E    0.080125\n",
      "F    0.024122\n",
      "G    0.006167\n",
      "Name: grade, dtype: float64\n",
      "===\n",
      "sub_grade\n",
      "B3    0.063285\n",
      "B4    0.062602\n",
      "C1    0.060304\n",
      "C2    0.057004\n",
      "C3    0.056936\n",
      "C4    0.055753\n",
      "B5    0.055298\n",
      "B1    0.053727\n",
      "B2    0.053318\n",
      "A5    0.051247\n",
      "C5    0.047060\n",
      "D1    0.040028\n",
      "A4    0.038185\n",
      "D2    0.034089\n",
      "D4    0.028923\n",
      "D3    0.028855\n",
      "A3    0.026875\n",
      "A2    0.026215\n",
      "A1    0.025578\n",
      "D5    0.024304\n",
      "E1    0.020754\n",
      "E2    0.020071\n",
      "E3    0.015770\n",
      "E4    0.012835\n",
      "E5    0.010695\n",
      "F1    0.006941\n",
      "F2    0.006167\n",
      "F3    0.004870\n",
      "F4    0.003732\n",
      "F5    0.002412\n",
      "G1    0.001957\n",
      "G2    0.001707\n",
      "G3    0.001115\n",
      "G5    0.000728\n",
      "G4    0.000660\n",
      "Name: sub_grade, dtype: float64\n",
      "===\n",
      "emp_length\n",
      "10+ years    0.346478\n",
      "2 years      0.093436\n",
      "< 1 year     0.084643\n",
      "3 years      0.082702\n",
      "5 years      0.068951\n",
      "1 year       0.066723\n",
      "4 years      0.063752\n",
      "7 years      0.052180\n",
      "8 years      0.050958\n",
      "6 years      0.050264\n",
      "9 years      0.039914\n",
      "Name: emp_length, dtype: float64\n",
      "===\n",
      "home_ownership\n",
      "MORTGAGE    0.502480\n",
      "RENT        0.398735\n",
      "OWN         0.098534\n",
      "OTHER       0.000250\n",
      "Name: home_ownership, dtype: float64\n",
      "===\n",
      "verification_status\n",
      "Source Verified    0.373339\n",
      "Verified           0.326120\n",
      "Not Verified       0.300542\n",
      "Name: verification_status, dtype: float64\n",
      "===\n",
      "purpose\n",
      "debt_consolidation    0.589910\n",
      "credit_card           0.231590\n",
      "home_improvement      0.059371\n",
      "other                 0.049108\n",
      "major_purchase        0.019730\n",
      "small_business        0.010582\n",
      "medical               0.010195\n",
      "car                   0.009785\n",
      "moving                0.006121\n",
      "vacation              0.005211\n",
      "house                 0.004528\n",
      "wedding               0.002571\n",
      "renewable_energy      0.000865\n",
      "educational           0.000432\n",
      "Name: purpose, dtype: float64\n",
      "===\n",
      "addr_state\n",
      "CA    0.145936\n",
      "NY    0.082104\n",
      "TX    0.080489\n",
      "FL    0.068405\n",
      "IL    0.040961\n",
      "NJ    0.039050\n",
      "PA    0.035431\n",
      "GA    0.033975\n",
      "OH    0.032314\n",
      "VA    0.029469\n",
      "NC    0.028218\n",
      "MI    0.024986\n",
      "MD    0.024053\n",
      "MA    0.022916\n",
      "WA    0.022756\n",
      "AZ    0.022096\n",
      "CO    0.021095\n",
      "MN    0.017795\n",
      "MO    0.016043\n",
      "TN    0.015838\n",
      "IN    0.015042\n",
      "CT    0.014200\n",
      "NV    0.013813\n",
      "WI    0.012812\n",
      "AL    0.012425\n",
      "SC    0.012357\n",
      "LA    0.012175\n",
      "OR    0.011492\n",
      "KY    0.010172\n",
      "OK    0.008829\n",
      "KS    0.008647\n",
      "AR    0.007737\n",
      "UT    0.007714\n",
      "HI    0.005666\n",
      "NM    0.005188\n",
      "NH    0.004984\n",
      "WV    0.004938\n",
      "RI    0.004324\n",
      "MS    0.003755\n",
      "MT    0.002776\n",
      "DE    0.002754\n",
      "AK    0.002617\n",
      "DC    0.002594\n",
      "WY    0.002230\n",
      "SD    0.002116\n",
      "VT    0.001934\n",
      "NE    0.001365\n",
      "ME    0.000796\n",
      "ND    0.000569\n",
      "IA    0.000046\n",
      "Name: addr_state, dtype: float64\n",
      "===\n",
      "initial_list_status\n",
      "f    0.517909\n",
      "w    0.482091\n",
      "Name: initial_list_status, dtype: float64\n",
      "===\n",
      "application_type\n",
      "INDIVIDUAL    0.999249\n",
      "JOINT         0.000751\n",
      "Name: application_type, dtype: float64\n",
      "===\n",
      "verification_status_joint\n",
      "Not Verified       0.636364\n",
      "Verified           0.212121\n",
      "Source Verified    0.151515\n",
      "Name: verification_status_joint, dtype: float64\n",
      "===\n"
     ]
    }
   ],
   "source": [
    "for col in x_train_categorical.columns:\n",
    "    print(col)\n",
    "    print(data[col].value_counts(normalize = True))\n",
    "    print(\"===\")"
   ]
  },
  {
   "cell_type": "markdown",
   "metadata": {
    "slideshow": {
     "slide_type": "slide"
    }
   },
   "source": [
    "# Missing Values Imputation"
   ]
  },
  {
   "cell_type": "markdown",
   "metadata": {
    "slideshow": {
     "slide_type": "subslide"
    }
   },
   "source": [
    "## Missing Values Imputation: Numerical "
   ]
  },
  {
   "cell_type": "code",
   "execution_count": 32,
   "metadata": {
    "slideshow": {
     "slide_type": "fragment"
    }
   },
   "outputs": [],
   "source": [
    "# import library untuk imputation\n",
    "from sklearn.preprocessing import Imputer"
   ]
  },
  {
   "cell_type": "markdown",
   "metadata": {},
   "source": [
    "# <font color = 'blue'> FUNCTION: fitImputNum"
   ]
  },
  {
   "cell_type": "code",
   "execution_count": 33,
   "metadata": {},
   "outputs": [],
   "source": [
    "# fitImputNum\n",
    "from sklearn.preprocessing import Imputer\n",
    "def fitImputNum(data, missing_values='NaN', strategy='median'):\n",
    "    '''\n",
    "    Fitting imputer untuk data numerik\n",
    "    \n",
    "    Parameter\n",
    "    ----------\n",
    "    data : DataFrame, \n",
    "        data kolom numerik\n",
    "    missing_values : integer or \"NaN\", default 'NaN'\n",
    "        The placeholder for the missing values. All occurrences of\n",
    "        `missing_values` will be imputed.\n",
    "    strategy : default 'median'\n",
    "        The imputation strategy.\n",
    "        - If \"mean\", then replace missing values using the mean along\n",
    "          the axis.\n",
    "        - If \"median\", then replace missing values using the median along\n",
    "          the axis.\n",
    "        - If \"most_frequent\", then replace missing using the most frequent\n",
    "          value along the axis.\n",
    "        \n",
    "    Output\n",
    "    -------\n",
    "    imputer    : Object Imputer setelah difit\n",
    "    \n",
    "    '''\n",
    "    imputer = Imputer(missing_values=missing_values, strategy = strategy)\n",
    "    imputer.fit(data)\n",
    "    return imputer"
   ]
  },
  {
   "cell_type": "code",
   "execution_count": 34,
   "metadata": {},
   "outputs": [],
   "source": [
    "imput = fitImputNum(x_train_numerical, 'NaN', 'median')"
   ]
  },
  {
   "cell_type": "code",
   "execution_count": 35,
   "metadata": {},
   "outputs": [
    {
     "data": {
      "text/plain": [
       "['imputer.pkl']"
      ]
     },
     "execution_count": 35,
     "metadata": {},
     "output_type": "execute_result"
    }
   ],
   "source": [
    "# save imputer\n",
    "joblib.dump(imput, 'imputer.pkl')"
   ]
  },
  {
   "cell_type": "markdown",
   "metadata": {},
   "source": [
    "# <font color = 'blue'> FUNCTION: transformNumerical"
   ]
  },
  {
   "cell_type": "code",
   "execution_count": 36,
   "metadata": {},
   "outputs": [],
   "source": [
    "# transformNumerical\n",
    "def transformNumerical(data, transformer):\n",
    "    '''\n",
    "    Fungsi untuk transformasi data numerik menggunakan transformator yang sudah difitting\n",
    "    \n",
    "    Parameter\n",
    "    ----------\n",
    "    data : DataFrame, \n",
    "        data kolom numerik\n",
    "    transform_:  Object,\n",
    "        Dapat berupa Imputer atau Standardizer\n",
    "\n",
    "    Output\n",
    "    -------\n",
    "    data_numeric_transform :  DataFrame     \n",
    "    \n",
    "    '''\n",
    "    data_numeric = pd.DataFrame(transformer.transform(data))\n",
    "    data_numeric.columns = data.columns\n",
    "    data_numeric.index = data.index\n",
    "  \n",
    "    return data_numeric"
   ]
  },
  {
   "cell_type": "code",
   "execution_count": 37,
   "metadata": {},
   "outputs": [],
   "source": [
    "x_train_num_imput = transformNumerical(x_train_numerical, imput)"
   ]
  },
  {
   "cell_type": "markdown",
   "metadata": {
    "slideshow": {
     "slide_type": "slide"
    }
   },
   "source": [
    "## Missing Value: Categorical"
   ]
  },
  {
   "cell_type": "code",
   "execution_count": 38,
   "metadata": {
    "slideshow": {
     "slide_type": "subslide"
    }
   },
   "outputs": [
    {
     "data": {
      "text/plain": [
       "term                             0\n",
       "grade                            0\n",
       "sub_grade                        0\n",
       "emp_length                    1668\n",
       "home_ownership                   0\n",
       "verification_status              0\n",
       "purpose                          0\n",
       "addr_state                       0\n",
       "initial_list_status              0\n",
       "application_type                 0\n",
       "verification_status_joint    32934\n",
       "dtype: int64"
      ]
     },
     "execution_count": 38,
     "metadata": {},
     "output_type": "execute_result"
    }
   ],
   "source": [
    "# Cek data kosong pada data_categorical \n",
    "x_train_categorical.isnull().sum()"
   ]
  },
  {
   "cell_type": "code",
   "execution_count": 39,
   "metadata": {
    "slideshow": {
     "slide_type": "fragment"
    }
   },
   "outputs": [
    {
     "data": {
      "text/html": [
       "<div>\n",
       "<style scoped>\n",
       "    .dataframe tbody tr th:only-of-type {\n",
       "        vertical-align: middle;\n",
       "    }\n",
       "\n",
       "    .dataframe tbody tr th {\n",
       "        vertical-align: top;\n",
       "    }\n",
       "\n",
       "    .dataframe thead th {\n",
       "        text-align: right;\n",
       "    }\n",
       "</style>\n",
       "<table border=\"1\" class=\"dataframe\">\n",
       "  <thead>\n",
       "    <tr style=\"text-align: right;\">\n",
       "      <th></th>\n",
       "      <th>term</th>\n",
       "      <th>grade</th>\n",
       "      <th>sub_grade</th>\n",
       "      <th>emp_length</th>\n",
       "      <th>home_ownership</th>\n",
       "      <th>verification_status</th>\n",
       "      <th>purpose</th>\n",
       "      <th>addr_state</th>\n",
       "      <th>initial_list_status</th>\n",
       "      <th>application_type</th>\n",
       "      <th>verification_status_joint</th>\n",
       "    </tr>\n",
       "  </thead>\n",
       "  <tbody>\n",
       "    <tr>\n",
       "      <th>37891</th>\n",
       "      <td>36 months</td>\n",
       "      <td>A</td>\n",
       "      <td>A5</td>\n",
       "      <td>10+ years</td>\n",
       "      <td>MORTGAGE</td>\n",
       "      <td>Verified</td>\n",
       "      <td>debt_consolidation</td>\n",
       "      <td>CO</td>\n",
       "      <td>f</td>\n",
       "      <td>INDIVIDUAL</td>\n",
       "      <td>KOSONG</td>\n",
       "    </tr>\n",
       "    <tr>\n",
       "      <th>5450</th>\n",
       "      <td>36 months</td>\n",
       "      <td>C</td>\n",
       "      <td>C5</td>\n",
       "      <td>KOSONG</td>\n",
       "      <td>MORTGAGE</td>\n",
       "      <td>Verified</td>\n",
       "      <td>debt_consolidation</td>\n",
       "      <td>NV</td>\n",
       "      <td>w</td>\n",
       "      <td>INDIVIDUAL</td>\n",
       "      <td>KOSONG</td>\n",
       "    </tr>\n",
       "    <tr>\n",
       "      <th>20180</th>\n",
       "      <td>36 months</td>\n",
       "      <td>A</td>\n",
       "      <td>A4</td>\n",
       "      <td>10+ years</td>\n",
       "      <td>MORTGAGE</td>\n",
       "      <td>Not Verified</td>\n",
       "      <td>home_improvement</td>\n",
       "      <td>CA</td>\n",
       "      <td>w</td>\n",
       "      <td>INDIVIDUAL</td>\n",
       "      <td>KOSONG</td>\n",
       "    </tr>\n",
       "    <tr>\n",
       "      <th>34277</th>\n",
       "      <td>36 months</td>\n",
       "      <td>C</td>\n",
       "      <td>C4</td>\n",
       "      <td>10+ years</td>\n",
       "      <td>RENT</td>\n",
       "      <td>Not Verified</td>\n",
       "      <td>debt_consolidation</td>\n",
       "      <td>AL</td>\n",
       "      <td>f</td>\n",
       "      <td>INDIVIDUAL</td>\n",
       "      <td>KOSONG</td>\n",
       "    </tr>\n",
       "    <tr>\n",
       "      <th>14156</th>\n",
       "      <td>60 months</td>\n",
       "      <td>E</td>\n",
       "      <td>E3</td>\n",
       "      <td>9 years</td>\n",
       "      <td>MORTGAGE</td>\n",
       "      <td>Not Verified</td>\n",
       "      <td>debt_consolidation</td>\n",
       "      <td>TN</td>\n",
       "      <td>f</td>\n",
       "      <td>INDIVIDUAL</td>\n",
       "      <td>KOSONG</td>\n",
       "    </tr>\n",
       "  </tbody>\n",
       "</table>\n",
       "</div>"
      ],
      "text/plain": [
       "             term grade sub_grade emp_length home_ownership  \\\n",
       "37891   36 months     A        A5  10+ years       MORTGAGE   \n",
       "5450    36 months     C        C5     KOSONG       MORTGAGE   \n",
       "20180   36 months     A        A4  10+ years       MORTGAGE   \n",
       "34277   36 months     C        C4  10+ years           RENT   \n",
       "14156   60 months     E        E3    9 years       MORTGAGE   \n",
       "\n",
       "      verification_status             purpose addr_state initial_list_status  \\\n",
       "37891            Verified  debt_consolidation         CO                   f   \n",
       "5450             Verified  debt_consolidation         NV                   w   \n",
       "20180        Not Verified    home_improvement         CA                   w   \n",
       "34277        Not Verified  debt_consolidation         AL                   f   \n",
       "14156        Not Verified  debt_consolidation         TN                   f   \n",
       "\n",
       "      application_type verification_status_joint  \n",
       "37891       INDIVIDUAL                    KOSONG  \n",
       "5450        INDIVIDUAL                    KOSONG  \n",
       "20180       INDIVIDUAL                    KOSONG  \n",
       "34277       INDIVIDUAL                    KOSONG  \n",
       "14156       INDIVIDUAL                    KOSONG  "
      ]
     },
     "execution_count": 39,
     "metadata": {},
     "output_type": "execute_result"
    }
   ],
   "source": [
    "x_train_cat_imput = x_train_categorical.fillna(\"KOSONG\") # mengisi data kosong dengan nilai KOSONG\n",
    "x_train_cat_imput.head()# cek head\n"
   ]
  },
  {
   "cell_type": "code",
   "execution_count": 40,
   "metadata": {
    "slideshow": {
     "slide_type": "subslide"
    }
   },
   "outputs": [
    {
     "data": {
      "text/plain": [
       "term                         0\n",
       "grade                        0\n",
       "sub_grade                    0\n",
       "emp_length                   0\n",
       "home_ownership               0\n",
       "verification_status          0\n",
       "purpose                      0\n",
       "addr_state                   0\n",
       "initial_list_status          0\n",
       "application_type             0\n",
       "verification_status_joint    0\n",
       "dtype: int64"
      ]
     },
     "execution_count": 40,
     "metadata": {},
     "output_type": "execute_result"
    }
   ],
   "source": [
    "x_train_cat_imput.isnull().sum()"
   ]
  },
  {
   "cell_type": "markdown",
   "metadata": {},
   "source": [
    "# Plotting with Python"
   ]
  },
  {
   "cell_type": "code",
   "execution_count": 41,
   "metadata": {
    "slideshow": {
     "slide_type": "fragment"
    }
   },
   "outputs": [
    {
     "data": {
      "text/html": [
       "<div>\n",
       "<style scoped>\n",
       "    .dataframe tbody tr th:only-of-type {\n",
       "        vertical-align: middle;\n",
       "    }\n",
       "\n",
       "    .dataframe tbody tr th {\n",
       "        vertical-align: top;\n",
       "    }\n",
       "\n",
       "    .dataframe thead th {\n",
       "        text-align: right;\n",
       "    }\n",
       "</style>\n",
       "<table border=\"1\" class=\"dataframe\">\n",
       "  <thead>\n",
       "    <tr style=\"text-align: right;\">\n",
       "      <th></th>\n",
       "      <th>loan_amnt</th>\n",
       "      <th>funded_amnt</th>\n",
       "      <th>funded_amnt_inv</th>\n",
       "      <th>int_rate</th>\n",
       "      <th>installment</th>\n",
       "      <th>annual_inc</th>\n",
       "      <th>dti</th>\n",
       "      <th>delinq_2yrs</th>\n",
       "      <th>inq_last_6mths</th>\n",
       "      <th>mths_since_last_delinq</th>\n",
       "      <th>...</th>\n",
       "      <th>sub_grade</th>\n",
       "      <th>emp_length</th>\n",
       "      <th>home_ownership</th>\n",
       "      <th>verification_status</th>\n",
       "      <th>purpose</th>\n",
       "      <th>addr_state</th>\n",
       "      <th>initial_list_status</th>\n",
       "      <th>application_type</th>\n",
       "      <th>verification_status_joint</th>\n",
       "      <th>loan_status</th>\n",
       "    </tr>\n",
       "  </thead>\n",
       "  <tbody>\n",
       "    <tr>\n",
       "      <th>37891</th>\n",
       "      <td>20000.0</td>\n",
       "      <td>20000.0</td>\n",
       "      <td>18260.96303</td>\n",
       "      <td>7.88</td>\n",
       "      <td>625.63</td>\n",
       "      <td>76000.0</td>\n",
       "      <td>12.52</td>\n",
       "      <td>0.0</td>\n",
       "      <td>0.0</td>\n",
       "      <td>29.0</td>\n",
       "      <td>...</td>\n",
       "      <td>A5</td>\n",
       "      <td>10+ years</td>\n",
       "      <td>MORTGAGE</td>\n",
       "      <td>Verified</td>\n",
       "      <td>debt_consolidation</td>\n",
       "      <td>CO</td>\n",
       "      <td>f</td>\n",
       "      <td>INDIVIDUAL</td>\n",
       "      <td>KOSONG</td>\n",
       "      <td>1</td>\n",
       "    </tr>\n",
       "    <tr>\n",
       "      <th>5450</th>\n",
       "      <td>8950.0</td>\n",
       "      <td>8950.0</td>\n",
       "      <td>8950.00000</td>\n",
       "      <td>14.99</td>\n",
       "      <td>310.22</td>\n",
       "      <td>31800.0</td>\n",
       "      <td>13.28</td>\n",
       "      <td>0.0</td>\n",
       "      <td>3.0</td>\n",
       "      <td>31.0</td>\n",
       "      <td>...</td>\n",
       "      <td>C5</td>\n",
       "      <td>KOSONG</td>\n",
       "      <td>MORTGAGE</td>\n",
       "      <td>Verified</td>\n",
       "      <td>debt_consolidation</td>\n",
       "      <td>NV</td>\n",
       "      <td>w</td>\n",
       "      <td>INDIVIDUAL</td>\n",
       "      <td>KOSONG</td>\n",
       "      <td>1</td>\n",
       "    </tr>\n",
       "    <tr>\n",
       "      <th>20180</th>\n",
       "      <td>5000.0</td>\n",
       "      <td>5000.0</td>\n",
       "      <td>5000.00000</td>\n",
       "      <td>7.26</td>\n",
       "      <td>154.99</td>\n",
       "      <td>70000.0</td>\n",
       "      <td>11.55</td>\n",
       "      <td>0.0</td>\n",
       "      <td>0.0</td>\n",
       "      <td>47.0</td>\n",
       "      <td>...</td>\n",
       "      <td>A4</td>\n",
       "      <td>10+ years</td>\n",
       "      <td>MORTGAGE</td>\n",
       "      <td>Not Verified</td>\n",
       "      <td>home_improvement</td>\n",
       "      <td>CA</td>\n",
       "      <td>w</td>\n",
       "      <td>INDIVIDUAL</td>\n",
       "      <td>KOSONG</td>\n",
       "      <td>1</td>\n",
       "    </tr>\n",
       "    <tr>\n",
       "      <th>34277</th>\n",
       "      <td>7225.0</td>\n",
       "      <td>7225.0</td>\n",
       "      <td>7225.00000</td>\n",
       "      <td>15.31</td>\n",
       "      <td>251.56</td>\n",
       "      <td>33000.0</td>\n",
       "      <td>17.53</td>\n",
       "      <td>1.0</td>\n",
       "      <td>2.0</td>\n",
       "      <td>16.0</td>\n",
       "      <td>...</td>\n",
       "      <td>C4</td>\n",
       "      <td>10+ years</td>\n",
       "      <td>RENT</td>\n",
       "      <td>Not Verified</td>\n",
       "      <td>debt_consolidation</td>\n",
       "      <td>AL</td>\n",
       "      <td>f</td>\n",
       "      <td>INDIVIDUAL</td>\n",
       "      <td>KOSONG</td>\n",
       "      <td>1</td>\n",
       "    </tr>\n",
       "    <tr>\n",
       "      <th>14156</th>\n",
       "      <td>18000.0</td>\n",
       "      <td>18000.0</td>\n",
       "      <td>18000.00000</td>\n",
       "      <td>21.18</td>\n",
       "      <td>488.79</td>\n",
       "      <td>91000.0</td>\n",
       "      <td>15.21</td>\n",
       "      <td>0.0</td>\n",
       "      <td>0.0</td>\n",
       "      <td>31.0</td>\n",
       "      <td>...</td>\n",
       "      <td>E3</td>\n",
       "      <td>9 years</td>\n",
       "      <td>MORTGAGE</td>\n",
       "      <td>Not Verified</td>\n",
       "      <td>debt_consolidation</td>\n",
       "      <td>TN</td>\n",
       "      <td>f</td>\n",
       "      <td>INDIVIDUAL</td>\n",
       "      <td>KOSONG</td>\n",
       "      <td>1</td>\n",
       "    </tr>\n",
       "  </tbody>\n",
       "</table>\n",
       "<p>5 rows × 60 columns</p>\n",
       "</div>"
      ],
      "text/plain": [
       "       loan_amnt  funded_amnt  funded_amnt_inv  int_rate  installment  \\\n",
       "37891    20000.0      20000.0      18260.96303      7.88       625.63   \n",
       "5450      8950.0       8950.0       8950.00000     14.99       310.22   \n",
       "20180     5000.0       5000.0       5000.00000      7.26       154.99   \n",
       "34277     7225.0       7225.0       7225.00000     15.31       251.56   \n",
       "14156    18000.0      18000.0      18000.00000     21.18       488.79   \n",
       "\n",
       "       annual_inc    dti  delinq_2yrs  inq_last_6mths  mths_since_last_delinq  \\\n",
       "37891     76000.0  12.52          0.0             0.0                    29.0   \n",
       "5450      31800.0  13.28          0.0             3.0                    31.0   \n",
       "20180     70000.0  11.55          0.0             0.0                    47.0   \n",
       "34277     33000.0  17.53          1.0             2.0                    16.0   \n",
       "14156     91000.0  15.21          0.0             0.0                    31.0   \n",
       "\n",
       "          ...       sub_grade  emp_length  home_ownership  \\\n",
       "37891     ...              A5   10+ years        MORTGAGE   \n",
       "5450      ...              C5      KOSONG        MORTGAGE   \n",
       "20180     ...              A4   10+ years        MORTGAGE   \n",
       "34277     ...              C4   10+ years            RENT   \n",
       "14156     ...              E3     9 years        MORTGAGE   \n",
       "\n",
       "       verification_status             purpose  addr_state  \\\n",
       "37891             Verified  debt_consolidation          CO   \n",
       "5450              Verified  debt_consolidation          NV   \n",
       "20180         Not Verified    home_improvement          CA   \n",
       "34277         Not Verified  debt_consolidation          AL   \n",
       "14156         Not Verified  debt_consolidation          TN   \n",
       "\n",
       "       initial_list_status  application_type  verification_status_joint  \\\n",
       "37891                    f        INDIVIDUAL                     KOSONG   \n",
       "5450                     w        INDIVIDUAL                     KOSONG   \n",
       "20180                    w        INDIVIDUAL                     KOSONG   \n",
       "34277                    f        INDIVIDUAL                     KOSONG   \n",
       "14156                    f        INDIVIDUAL                     KOSONG   \n",
       "\n",
       "       loan_status  \n",
       "37891            1  \n",
       "5450             1  \n",
       "20180            1  \n",
       "34277            1  \n",
       "14156            1  \n",
       "\n",
       "[5 rows x 60 columns]"
      ]
     },
     "execution_count": 41,
     "metadata": {},
     "output_type": "execute_result"
    }
   ],
   "source": [
    "# menggabungkan data_numerical dan data_categorical yang sudah diimputasi dengan data_output\n",
    "data_plot = pd.concat([x_train_num_imput, x_train_cat_imput, y_train], axis = 1)\n",
    "data_plot.head()"
   ]
  },
  {
   "cell_type": "code",
   "execution_count": 42,
   "metadata": {},
   "outputs": [],
   "source": [
    "import matplotlib.pyplot as plt # import matplotlib.pyplot\n",
    "import seaborn as sns           # import seaborn\n",
    "%matplotlib inline \n",
    "sns.set_style('darkgrid')"
   ]
  },
  {
   "cell_type": "code",
   "execution_count": 43,
   "metadata": {},
   "outputs": [
    {
     "data": {
      "text/html": [
       "<div>\n",
       "<style scoped>\n",
       "    .dataframe tbody tr th:only-of-type {\n",
       "        vertical-align: middle;\n",
       "    }\n",
       "\n",
       "    .dataframe tbody tr th {\n",
       "        vertical-align: top;\n",
       "    }\n",
       "\n",
       "    .dataframe thead th {\n",
       "        text-align: right;\n",
       "    }\n",
       "</style>\n",
       "<table border=\"1\" class=\"dataframe\">\n",
       "  <thead>\n",
       "    <tr style=\"text-align: right;\">\n",
       "      <th></th>\n",
       "      <th>loan_amnt</th>\n",
       "      <th>funded_amnt</th>\n",
       "      <th>funded_amnt_inv</th>\n",
       "      <th>int_rate</th>\n",
       "      <th>installment</th>\n",
       "      <th>annual_inc</th>\n",
       "      <th>dti</th>\n",
       "      <th>delinq_2yrs</th>\n",
       "      <th>inq_last_6mths</th>\n",
       "      <th>mths_since_last_delinq</th>\n",
       "      <th>...</th>\n",
       "      <th>sub_grade</th>\n",
       "      <th>emp_length</th>\n",
       "      <th>home_ownership</th>\n",
       "      <th>verification_status</th>\n",
       "      <th>purpose</th>\n",
       "      <th>addr_state</th>\n",
       "      <th>initial_list_status</th>\n",
       "      <th>application_type</th>\n",
       "      <th>verification_status_joint</th>\n",
       "      <th>loan_status</th>\n",
       "    </tr>\n",
       "  </thead>\n",
       "  <tbody>\n",
       "    <tr>\n",
       "      <th>37891</th>\n",
       "      <td>20000.0</td>\n",
       "      <td>20000.0</td>\n",
       "      <td>18260.96303</td>\n",
       "      <td>7.88</td>\n",
       "      <td>625.63</td>\n",
       "      <td>76000.0</td>\n",
       "      <td>12.52</td>\n",
       "      <td>0.0</td>\n",
       "      <td>0.0</td>\n",
       "      <td>29.0</td>\n",
       "      <td>...</td>\n",
       "      <td>A5</td>\n",
       "      <td>10+ years</td>\n",
       "      <td>MORTGAGE</td>\n",
       "      <td>Verified</td>\n",
       "      <td>debt_consolidation</td>\n",
       "      <td>CO</td>\n",
       "      <td>f</td>\n",
       "      <td>INDIVIDUAL</td>\n",
       "      <td>KOSONG</td>\n",
       "      <td>1</td>\n",
       "    </tr>\n",
       "    <tr>\n",
       "      <th>5450</th>\n",
       "      <td>8950.0</td>\n",
       "      <td>8950.0</td>\n",
       "      <td>8950.00000</td>\n",
       "      <td>14.99</td>\n",
       "      <td>310.22</td>\n",
       "      <td>31800.0</td>\n",
       "      <td>13.28</td>\n",
       "      <td>0.0</td>\n",
       "      <td>3.0</td>\n",
       "      <td>31.0</td>\n",
       "      <td>...</td>\n",
       "      <td>C5</td>\n",
       "      <td>KOSONG</td>\n",
       "      <td>MORTGAGE</td>\n",
       "      <td>Verified</td>\n",
       "      <td>debt_consolidation</td>\n",
       "      <td>NV</td>\n",
       "      <td>w</td>\n",
       "      <td>INDIVIDUAL</td>\n",
       "      <td>KOSONG</td>\n",
       "      <td>1</td>\n",
       "    </tr>\n",
       "    <tr>\n",
       "      <th>20180</th>\n",
       "      <td>5000.0</td>\n",
       "      <td>5000.0</td>\n",
       "      <td>5000.00000</td>\n",
       "      <td>7.26</td>\n",
       "      <td>154.99</td>\n",
       "      <td>70000.0</td>\n",
       "      <td>11.55</td>\n",
       "      <td>0.0</td>\n",
       "      <td>0.0</td>\n",
       "      <td>47.0</td>\n",
       "      <td>...</td>\n",
       "      <td>A4</td>\n",
       "      <td>10+ years</td>\n",
       "      <td>MORTGAGE</td>\n",
       "      <td>Not Verified</td>\n",
       "      <td>home_improvement</td>\n",
       "      <td>CA</td>\n",
       "      <td>w</td>\n",
       "      <td>INDIVIDUAL</td>\n",
       "      <td>KOSONG</td>\n",
       "      <td>1</td>\n",
       "    </tr>\n",
       "    <tr>\n",
       "      <th>34277</th>\n",
       "      <td>7225.0</td>\n",
       "      <td>7225.0</td>\n",
       "      <td>7225.00000</td>\n",
       "      <td>15.31</td>\n",
       "      <td>251.56</td>\n",
       "      <td>33000.0</td>\n",
       "      <td>17.53</td>\n",
       "      <td>1.0</td>\n",
       "      <td>2.0</td>\n",
       "      <td>16.0</td>\n",
       "      <td>...</td>\n",
       "      <td>C4</td>\n",
       "      <td>10+ years</td>\n",
       "      <td>RENT</td>\n",
       "      <td>Not Verified</td>\n",
       "      <td>debt_consolidation</td>\n",
       "      <td>AL</td>\n",
       "      <td>f</td>\n",
       "      <td>INDIVIDUAL</td>\n",
       "      <td>KOSONG</td>\n",
       "      <td>1</td>\n",
       "    </tr>\n",
       "    <tr>\n",
       "      <th>14156</th>\n",
       "      <td>18000.0</td>\n",
       "      <td>18000.0</td>\n",
       "      <td>18000.00000</td>\n",
       "      <td>21.18</td>\n",
       "      <td>488.79</td>\n",
       "      <td>91000.0</td>\n",
       "      <td>15.21</td>\n",
       "      <td>0.0</td>\n",
       "      <td>0.0</td>\n",
       "      <td>31.0</td>\n",
       "      <td>...</td>\n",
       "      <td>E3</td>\n",
       "      <td>9 years</td>\n",
       "      <td>MORTGAGE</td>\n",
       "      <td>Not Verified</td>\n",
       "      <td>debt_consolidation</td>\n",
       "      <td>TN</td>\n",
       "      <td>f</td>\n",
       "      <td>INDIVIDUAL</td>\n",
       "      <td>KOSONG</td>\n",
       "      <td>1</td>\n",
       "    </tr>\n",
       "  </tbody>\n",
       "</table>\n",
       "<p>5 rows × 60 columns</p>\n",
       "</div>"
      ],
      "text/plain": [
       "       loan_amnt  funded_amnt  funded_amnt_inv  int_rate  installment  \\\n",
       "37891    20000.0      20000.0      18260.96303      7.88       625.63   \n",
       "5450      8950.0       8950.0       8950.00000     14.99       310.22   \n",
       "20180     5000.0       5000.0       5000.00000      7.26       154.99   \n",
       "34277     7225.0       7225.0       7225.00000     15.31       251.56   \n",
       "14156    18000.0      18000.0      18000.00000     21.18       488.79   \n",
       "\n",
       "       annual_inc    dti  delinq_2yrs  inq_last_6mths  mths_since_last_delinq  \\\n",
       "37891     76000.0  12.52          0.0             0.0                    29.0   \n",
       "5450      31800.0  13.28          0.0             3.0                    31.0   \n",
       "20180     70000.0  11.55          0.0             0.0                    47.0   \n",
       "34277     33000.0  17.53          1.0             2.0                    16.0   \n",
       "14156     91000.0  15.21          0.0             0.0                    31.0   \n",
       "\n",
       "          ...       sub_grade  emp_length  home_ownership  \\\n",
       "37891     ...              A5   10+ years        MORTGAGE   \n",
       "5450      ...              C5      KOSONG        MORTGAGE   \n",
       "20180     ...              A4   10+ years        MORTGAGE   \n",
       "34277     ...              C4   10+ years            RENT   \n",
       "14156     ...              E3     9 years        MORTGAGE   \n",
       "\n",
       "       verification_status             purpose  addr_state  \\\n",
       "37891             Verified  debt_consolidation          CO   \n",
       "5450              Verified  debt_consolidation          NV   \n",
       "20180         Not Verified    home_improvement          CA   \n",
       "34277         Not Verified  debt_consolidation          AL   \n",
       "14156         Not Verified  debt_consolidation          TN   \n",
       "\n",
       "       initial_list_status  application_type  verification_status_joint  \\\n",
       "37891                    f        INDIVIDUAL                     KOSONG   \n",
       "5450                     w        INDIVIDUAL                     KOSONG   \n",
       "20180                    w        INDIVIDUAL                     KOSONG   \n",
       "34277                    f        INDIVIDUAL                     KOSONG   \n",
       "14156                    f        INDIVIDUAL                     KOSONG   \n",
       "\n",
       "       loan_status  \n",
       "37891            1  \n",
       "5450             1  \n",
       "20180            1  \n",
       "34277            1  \n",
       "14156            1  \n",
       "\n",
       "[5 rows x 60 columns]"
      ]
     },
     "execution_count": 43,
     "metadata": {},
     "output_type": "execute_result"
    }
   ],
   "source": [
    "# cek head dari data_plot\n",
    "data_plot.head()"
   ]
  },
  {
   "cell_type": "markdown",
   "metadata": {},
   "source": [
    "# KDE+dist plot"
   ]
  },
  {
   "cell_type": "code",
   "execution_count": 44,
   "metadata": {
    "scrolled": true
   },
   "outputs": [
    {
     "data": {
      "image/png": "[encoded data removed]",
      "text/plain": [
       "<matplotlib.figure.Figure at 0x3efc380a58>"
      ]
     },
     "metadata": {},
     "output_type": "display_data"
    },
    {
     "data": {
      "image/png": "[encoded data removed]",
      "text/plain": [
       "<matplotlib.figure.Figure at 0x3efc46bc18>"
      ]
     },
     "metadata": {},
     "output_type": "display_data"
    },
    {
     "data": {
      "image/png": "[encoded data removed]",
      "text/plain": [
       "<matplotlib.figure.Figure at 0x3efc535240>"
      ]
     },
     "metadata": {},
     "output_type": "display_data"
    }
   ],
   "source": [
    "for col in numerical[45:50]: #Give Me Some Credit\n",
    "    plt.figure()\n",
    "    sns.distplot(data_plot[col])"
   ]
  },
  {
   "cell_type": "code",
   "execution_count": 45,
   "metadata": {},
   "outputs": [],
   "source": [
    "temp = ['annual_inc', 'delinq_2yrs', 'pub_rec', 'revol_bal', 'total_rec_late_fee', 'recoveries', 'collection_recovery_fee',\n",
    "        'last_pymnt_amnt', 'collections_12_mths_ex_med', 'acc_now_delinq', 'tot_coll_amnt', 'open_il_12m', 'inq_fi', 'total_cu_tl'\n",
    "       ]"
   ]
  },
  {
   "cell_type": "markdown",
   "metadata": {},
   "source": [
    "# Discriminate Output"
   ]
  },
  {
   "cell_type": "markdown",
   "metadata": {},
   "source": [
    "### KDE plot"
   ]
  },
  {
   "cell_type": "code",
   "execution_count": 49,
   "metadata": {
    "scrolled": true
   },
   "outputs": [],
   "source": [
    "# for col in numerical:\n",
    "#     plt.figure()\n",
    "#     ax = sns.FacetGrid(data_plot, hue=\"loan_status\", size=6)\n",
    "#     ax.map(sns.kdeplot, col)\n",
    "#     ax.add_legend()"
   ]
  },
  {
   "cell_type": "code",
   "execution_count": 50,
   "metadata": {},
   "outputs": [],
   "source": [
    "# for col in numerical:\n",
    "#     plt.figure()\n",
    "#     sns.boxplot(x = data_plot['SeriousDlqin2yrs'], y = data_plot[col])"
   ]
  },
  {
   "cell_type": "code",
   "execution_count": 51,
   "metadata": {},
   "outputs": [
    {
     "data": {
      "text/plain": [
       "1    0.949208\n",
       "0    0.050792\n",
       "Name: loan_status, dtype: float64"
      ]
     },
     "execution_count": 51,
     "metadata": {},
     "output_type": "execute_result"
    }
   ],
   "source": [
    "data_plot['loan_status'].value_counts(normalize=True)"
   ]
  },
  {
   "cell_type": "markdown",
   "metadata": {},
   "source": [
    "# Feature Engineering"
   ]
  },
  {
   "cell_type": "markdown",
   "metadata": {},
   "source": [
    "## Data Transformation"
   ]
  },
  {
   "cell_type": "markdown",
   "metadata": {},
   "source": [
    "### Select columns for data transform"
   ]
  },
  {
   "cell_type": "code",
   "execution_count": 52,
   "metadata": {
    "scrolled": true
   },
   "outputs": [
    {
     "data": {
      "text/plain": [
       "Index(['loan_amnt', 'funded_amnt', 'funded_amnt_inv', 'int_rate',\n",
       "       'installment', 'annual_inc', 'dti', 'delinq_2yrs', 'inq_last_6mths',\n",
       "       'mths_since_last_delinq', 'mths_since_last_record', 'open_acc',\n",
       "       'pub_rec', 'revol_bal', 'revol_util', 'total_acc', 'out_prncp',\n",
       "       'out_prncp_inv', 'total_pymnt', 'total_pymnt_inv', 'total_rec_prncp',\n",
       "       'total_rec_int', 'total_rec_late_fee', 'recoveries',\n",
       "       'collection_recovery_fee', 'last_pymnt_amnt',\n",
       "       'collections_12_mths_ex_med', 'mths_since_last_major_derog',\n",
       "       'annual_inc_joint', 'dti_joint', 'acc_now_delinq', 'tot_coll_amt',\n",
       "       'tot_cur_bal', 'open_acc_6m', 'open_il_6m', 'open_il_12m',\n",
       "       'open_il_24m', 'mths_since_rcnt_il', 'total_bal_il', 'il_util',\n",
       "       'open_rv_12m', 'open_rv_24m', 'max_bal_bc', 'all_util',\n",
       "       'total_rev_hi_lim', 'inq_fi', 'total_cu_tl', 'inq_last_12m'],\n",
       "      dtype='object')"
      ]
     },
     "execution_count": 52,
     "metadata": {},
     "output_type": "execute_result"
    }
   ],
   "source": [
    "# kolom numerik\n",
    "numerical"
   ]
  },
  {
   "cell_type": "code",
   "execution_count": 53,
   "metadata": {},
   "outputs": [],
   "source": [
    "num_col_transform = ['annual_inc', 'delinq_2yrs', 'pub_rec', 'revol_bal', 'total_rec_late_fee', 'recoveries', 'collection_recovery_fee',\n",
    "        'last_pymnt_amnt', 'collections_12_mths_ex_med', 'acc_now_delinq', 'tot_coll_amt', 'open_il_12m', 'inq_fi', 'total_cu_tl'\n",
    "       ]"
   ]
  },
  {
   "cell_type": "code",
   "execution_count": 54,
   "metadata": {},
   "outputs": [
    {
     "data": {
      "text/plain": [
       "['annual_inc',\n",
       " 'delinq_2yrs',\n",
       " 'pub_rec',\n",
       " 'revol_bal',\n",
       " 'total_rec_late_fee',\n",
       " 'recoveries',\n",
       " 'collection_recovery_fee',\n",
       " 'last_pymnt_amnt',\n",
       " 'collections_12_mths_ex_med',\n",
       " 'acc_now_delinq',\n",
       " 'tot_coll_amt',\n",
       " 'open_il_12m',\n",
       " 'inq_fi',\n",
       " 'total_cu_tl']"
      ]
     },
     "execution_count": 54,
     "metadata": {},
     "output_type": "execute_result"
    }
   ],
   "source": [
    "# kolom yang perlu ditransformasi\n",
    "num_col_transform"
   ]
  },
  {
   "cell_type": "code",
   "execution_count": 55,
   "metadata": {},
   "outputs": [
    {
     "data": {
      "text/plain": [
       "['num_col_transform.pkl']"
      ]
     },
     "execution_count": 55,
     "metadata": {},
     "output_type": "execute_result"
    }
   ],
   "source": [
    "# save nama kolom tersebut\n",
    "joblib.dump(num_col_transform, 'num_col_transform.pkl')"
   ]
  },
  {
   "cell_type": "markdown",
   "metadata": {},
   "source": [
    "### Save median for each numerical columns"
   ]
  },
  {
   "cell_type": "code",
   "execution_count": 56,
   "metadata": {},
   "outputs": [],
   "source": [
    "# menyiapkan series untuk menyimpan median\n",
    "median_num_col = pd.Series([])"
   ]
  },
  {
   "cell_type": "code",
   "execution_count": 57,
   "metadata": {},
   "outputs": [],
   "source": [
    "# mengambil median tiap kolom\n",
    "for col in numerical:\n",
    "    median_num_col[col] = x_train_num_imput[col].median()"
   ]
  },
  {
   "cell_type": "code",
   "execution_count": 58,
   "metadata": {},
   "outputs": [
    {
     "data": {
      "text/plain": [
       "loan_amnt                      13000.000\n",
       "funded_amnt                    13000.000\n",
       "funded_amnt_inv                13000.000\n",
       "int_rate                          12.990\n",
       "installment                      382.550\n",
       "annual_inc                     65000.000\n",
       "dti                               17.655\n",
       "delinq_2yrs                        0.000\n",
       "inq_last_6mths                     0.000\n",
       "mths_since_last_delinq            31.000\n",
       "mths_since_last_record            70.000\n",
       "open_acc                          11.000\n",
       "pub_rec                            0.000\n",
       "revol_bal                      11901.000\n",
       "revol_util                        56.100\n",
       "total_acc                         24.000\n",
       "out_prncp                       6517.650\n",
       "out_prncp_inv                   6514.530\n",
       "total_pymnt                     4910.450\n",
       "total_pymnt_inv                 4887.705\n",
       "total_rec_prncp                 3256.160\n",
       "total_rec_int                   1082.760\n",
       "total_rec_late_fee                 0.000\n",
       "recoveries                         0.000\n",
       "collection_recovery_fee            0.000\n",
       "last_pymnt_amnt                  467.770\n",
       "collections_12_mths_ex_med         0.000\n",
       "mths_since_last_major_derog       44.000\n",
       "annual_inc_joint               92500.000\n",
       "dti_joint                         17.630\n",
       "acc_now_delinq                     0.000\n",
       "tot_coll_amt                       0.000\n",
       "tot_cur_bal                    80583.500\n",
       "open_acc_6m                        1.000\n",
       "open_il_6m                         2.000\n",
       "open_il_12m                        0.000\n",
       "open_il_24m                        1.000\n",
       "mths_since_rcnt_il                12.000\n",
       "total_bal_il                   27671.000\n",
       "il_util                           73.250\n",
       "open_rv_12m                        1.000\n",
       "open_rv_24m                        2.000\n",
       "max_bal_bc                      4318.000\n",
       "all_util                          60.850\n",
       "total_rev_hi_lim               23700.000\n",
       "inq_fi                             0.000\n",
       "total_cu_tl                        0.000\n",
       "inq_last_12m                       2.000\n",
       "dtype: float64"
      ]
     },
     "execution_count": 58,
     "metadata": {},
     "output_type": "execute_result"
    }
   ],
   "source": [
    "median_num_col"
   ]
  },
  {
   "cell_type": "code",
   "execution_count": 59,
   "metadata": {},
   "outputs": [
    {
     "data": {
      "text/plain": [
       "['median_num_col.pkl']"
      ]
     },
     "execution_count": 59,
     "metadata": {},
     "output_type": "execute_result"
    }
   ],
   "source": [
    "# save median\n",
    "joblib.dump(median_num_col, 'median_num_col.pkl')"
   ]
  },
  {
   "cell_type": "markdown",
   "metadata": {},
   "source": [
    "### Save threshold (3*std) for earch numerical columns"
   ]
  },
  {
   "cell_type": "code",
   "execution_count": 60,
   "metadata": {},
   "outputs": [],
   "source": [
    "# menyiapkan series untuk menyimpan cuttoff 3std\n",
    "cutoff_std = pd.Series([])"
   ]
  },
  {
   "cell_type": "code",
   "execution_count": 61,
   "metadata": {},
   "outputs": [],
   "source": [
    "# mengambil cutoff tiap kolom\n",
    "for col in numerical:\n",
    "    cutoff_std[col] = x_train_num_imput[col].std()*3"
   ]
  },
  {
   "cell_type": "code",
   "execution_count": 62,
   "metadata": {},
   "outputs": [
    {
     "data": {
      "text/plain": [
       "['cutoff_std.pkl']"
      ]
     },
     "execution_count": 62,
     "metadata": {},
     "output_type": "execute_result"
    }
   ],
   "source": [
    "# save cutoff\n",
    "joblib.dump(cutoff_std, 'cutoff_std.pkl')"
   ]
  },
  {
   "cell_type": "code",
   "execution_count": 63,
   "metadata": {},
   "outputs": [
    {
     "data": {
      "text/plain": [
       "loan_amnt                       25280.476838\n",
       "funded_amnt                     25264.736249\n",
       "funded_amnt_inv                 25301.299336\n",
       "int_rate                           13.099460\n",
       "installment                       733.135462\n",
       "annual_inc                     209476.297434\n",
       "dti                                24.779122\n",
       "delinq_2yrs                         2.538147\n",
       "inq_last_6mths                      2.992697\n",
       "mths_since_last_delinq             45.731123\n",
       "mths_since_last_record             33.145172\n",
       "open_acc                           15.939941\n",
       "pub_rec                             1.722255\n",
       "revol_bal                       62243.219580\n",
       "revol_util                         71.652470\n",
       "total_acc                          35.474741\n",
       "out_prncp                       25339.649703\n",
       "out_prncp_inv                   25329.651925\n",
       "total_pymnt                     23461.901037\n",
       "total_pymnt_inv                 23376.305050\n",
       "total_rec_prncp                 19741.514241\n",
       "total_rec_int                    6278.487797\n",
       "total_rec_late_fee                 12.514220\n",
       "recoveries                       1257.222632\n",
       "collection_recovery_fee           191.821219\n",
       "last_pymnt_amnt                 14222.182349\n",
       "collections_12_mths_ex_med          0.403386\n",
       "mths_since_last_major_derog        33.285354\n",
       "annual_inc_joint                 3126.840632\n",
       "dti_joint                           0.681886\n",
       "acc_now_delinq                      0.214388\n",
       "tot_coll_amt                     5437.714977\n",
       "tot_cur_bal                    439076.913628\n",
       "open_acc_6m                         0.480921\n",
       "open_il_6m                          1.168521\n",
       "open_il_12m                         0.473819\n",
       "open_il_24m                         0.669603\n",
       "mths_since_rcnt_il                  8.821190\n",
       "total_bal_il                    16487.669206\n",
       "il_util                             7.277877\n",
       "open_rv_12m                         0.543821\n",
       "open_rv_24m                         0.965425\n",
       "max_bal_bc                       1798.347359\n",
       "all_util                            7.084564\n",
       "total_rev_hi_lim                90825.329727\n",
       "inq_fi                              0.587012\n",
       "total_cu_tl                         1.095704\n",
       "inq_last_12m                        1.061192\n",
       "dtype: float64"
      ]
     },
     "execution_count": 63,
     "metadata": {},
     "output_type": "execute_result"
    }
   ],
   "source": [
    "cutoff_std"
   ]
  },
  {
   "cell_type": "code",
   "execution_count": 64,
   "metadata": {},
   "outputs": [],
   "source": [
    "def normalizeData(data_,\n",
    "                  transform_column,\n",
    "                  cutoff_point,\n",
    "                  median_transform):\n",
    "    '''\n",
    "    Fungsi untuk transformasi data dengan :\n",
    "        1. Mengganti nilai diatas 3std menjadi median\n",
    "        2. Log transform tiap kolom\n",
    "        \n",
    "    Parameter\n",
    "    ----------\n",
    "    data_ : DataFrame, \n",
    "        data kolom numerik\n",
    "    transform_column:  \n",
    "        Kolom yang ditransformasi\n",
    "    cutoff_point : DataFrame, \n",
    "        titik potong untuk diatas 3std\n",
    "    median_transform:  Object,\n",
    "        nilai median untuk mengganti nilai diatas 3std\n",
    "\n",
    "    Output\n",
    "    -------\n",
    "    data :  DataFrame     \n",
    "    \n",
    "    '''\n",
    "\n",
    "    # copy data_ ke data, agar tidak merusak nilai pada data input (x_train_numeric_imputed)\n",
    "    data = data_.copy()\n",
    "    \n",
    "    # mengambil kolom yang perlu ditransformasi\n",
    "    data = data[transform_column]\n",
    "    \n",
    "    # proses mengganti nilai diatas 3std dengan median\n",
    "    for col in transform_column:\n",
    "        data.loc[data[col]>cutoff_point[col], col] =  median_transform[col] \n",
    "        \n",
    "        # log transform tiap kolom\n",
    "        data[col] = np.log(data[col]+1)\n",
    "        \n",
    "    # menambahakan akhiran _log pada nama kolom\n",
    "    data = data.add_suffix('_log')\n",
    "        \n",
    "    return data "
   ]
  },
  {
   "cell_type": "code",
   "execution_count": 65,
   "metadata": {},
   "outputs": [
    {
     "data": {
      "text/html": [
       "<div>\n",
       "<style scoped>\n",
       "    .dataframe tbody tr th:only-of-type {\n",
       "        vertical-align: middle;\n",
       "    }\n",
       "\n",
       "    .dataframe tbody tr th {\n",
       "        vertical-align: top;\n",
       "    }\n",
       "\n",
       "    .dataframe thead th {\n",
       "        text-align: right;\n",
       "    }\n",
       "</style>\n",
       "<table border=\"1\" class=\"dataframe\">\n",
       "  <thead>\n",
       "    <tr style=\"text-align: right;\">\n",
       "      <th></th>\n",
       "      <th>annual_inc_log</th>\n",
       "      <th>delinq_2yrs_log</th>\n",
       "      <th>pub_rec_log</th>\n",
       "      <th>revol_bal_log</th>\n",
       "      <th>total_rec_late_fee_log</th>\n",
       "      <th>recoveries_log</th>\n",
       "      <th>collection_recovery_fee_log</th>\n",
       "      <th>last_pymnt_amnt_log</th>\n",
       "      <th>collections_12_mths_ex_med_log</th>\n",
       "      <th>acc_now_delinq_log</th>\n",
       "      <th>tot_coll_amt_log</th>\n",
       "      <th>open_il_12m_log</th>\n",
       "      <th>inq_fi_log</th>\n",
       "      <th>total_cu_tl_log</th>\n",
       "    </tr>\n",
       "  </thead>\n",
       "  <tbody>\n",
       "    <tr>\n",
       "      <th>37891</th>\n",
       "      <td>11.238502</td>\n",
       "      <td>0.000000</td>\n",
       "      <td>0.0</td>\n",
       "      <td>9.524129</td>\n",
       "      <td>0.0</td>\n",
       "      <td>0.0</td>\n",
       "      <td>0.0</td>\n",
       "      <td>9.163788</td>\n",
       "      <td>0.0</td>\n",
       "      <td>0.0</td>\n",
       "      <td>0.0</td>\n",
       "      <td>0.0</td>\n",
       "      <td>0.0</td>\n",
       "      <td>0.0</td>\n",
       "    </tr>\n",
       "    <tr>\n",
       "      <th>5450</th>\n",
       "      <td>10.367253</td>\n",
       "      <td>0.000000</td>\n",
       "      <td>0.0</td>\n",
       "      <td>8.601350</td>\n",
       "      <td>0.0</td>\n",
       "      <td>0.0</td>\n",
       "      <td>0.0</td>\n",
       "      <td>5.740500</td>\n",
       "      <td>0.0</td>\n",
       "      <td>0.0</td>\n",
       "      <td>0.0</td>\n",
       "      <td>0.0</td>\n",
       "      <td>0.0</td>\n",
       "      <td>0.0</td>\n",
       "    </tr>\n",
       "    <tr>\n",
       "      <th>20180</th>\n",
       "      <td>11.156265</td>\n",
       "      <td>0.000000</td>\n",
       "      <td>0.0</td>\n",
       "      <td>9.374158</td>\n",
       "      <td>0.0</td>\n",
       "      <td>0.0</td>\n",
       "      <td>0.0</td>\n",
       "      <td>5.049792</td>\n",
       "      <td>0.0</td>\n",
       "      <td>0.0</td>\n",
       "      <td>0.0</td>\n",
       "      <td>0.0</td>\n",
       "      <td>0.0</td>\n",
       "      <td>0.0</td>\n",
       "    </tr>\n",
       "    <tr>\n",
       "      <th>34277</th>\n",
       "      <td>10.404293</td>\n",
       "      <td>0.693147</td>\n",
       "      <td>0.0</td>\n",
       "      <td>9.537484</td>\n",
       "      <td>0.0</td>\n",
       "      <td>0.0</td>\n",
       "      <td>0.0</td>\n",
       "      <td>5.531649</td>\n",
       "      <td>0.0</td>\n",
       "      <td>0.0</td>\n",
       "      <td>0.0</td>\n",
       "      <td>0.0</td>\n",
       "      <td>0.0</td>\n",
       "      <td>0.0</td>\n",
       "    </tr>\n",
       "    <tr>\n",
       "      <th>14156</th>\n",
       "      <td>11.418626</td>\n",
       "      <td>0.000000</td>\n",
       "      <td>0.0</td>\n",
       "      <td>10.645734</td>\n",
       "      <td>0.0</td>\n",
       "      <td>0.0</td>\n",
       "      <td>0.0</td>\n",
       "      <td>6.193977</td>\n",
       "      <td>0.0</td>\n",
       "      <td>0.0</td>\n",
       "      <td>0.0</td>\n",
       "      <td>0.0</td>\n",
       "      <td>0.0</td>\n",
       "      <td>0.0</td>\n",
       "    </tr>\n",
       "  </tbody>\n",
       "</table>\n",
       "</div>"
      ],
      "text/plain": [
       "       annual_inc_log  delinq_2yrs_log  pub_rec_log  revol_bal_log  \\\n",
       "37891       11.238502         0.000000          0.0       9.524129   \n",
       "5450        10.367253         0.000000          0.0       8.601350   \n",
       "20180       11.156265         0.000000          0.0       9.374158   \n",
       "34277       10.404293         0.693147          0.0       9.537484   \n",
       "14156       11.418626         0.000000          0.0      10.645734   \n",
       "\n",
       "       total_rec_late_fee_log  recoveries_log  collection_recovery_fee_log  \\\n",
       "37891                     0.0             0.0                          0.0   \n",
       "5450                      0.0             0.0                          0.0   \n",
       "20180                     0.0             0.0                          0.0   \n",
       "34277                     0.0             0.0                          0.0   \n",
       "14156                     0.0             0.0                          0.0   \n",
       "\n",
       "       last_pymnt_amnt_log  collections_12_mths_ex_med_log  \\\n",
       "37891             9.163788                             0.0   \n",
       "5450              5.740500                             0.0   \n",
       "20180             5.049792                             0.0   \n",
       "34277             5.531649                             0.0   \n",
       "14156             6.193977                             0.0   \n",
       "\n",
       "       acc_now_delinq_log  tot_coll_amt_log  open_il_12m_log  inq_fi_log  \\\n",
       "37891                 0.0               0.0              0.0         0.0   \n",
       "5450                  0.0               0.0              0.0         0.0   \n",
       "20180                 0.0               0.0              0.0         0.0   \n",
       "34277                 0.0               0.0              0.0         0.0   \n",
       "14156                 0.0               0.0              0.0         0.0   \n",
       "\n",
       "       total_cu_tl_log  \n",
       "37891              0.0  \n",
       "5450               0.0  \n",
       "20180              0.0  \n",
       "34277              0.0  \n",
       "14156              0.0  "
      ]
     },
     "execution_count": 65,
     "metadata": {},
     "output_type": "execute_result"
    }
   ],
   "source": [
    "x_train_num_log  = normalizeData(x_train_num_imput, \n",
    "                                num_col_transform,\n",
    "                                 cutoff_std,\n",
    "                                 median_num_col)\n",
    "x_train_num_log.head()"
   ]
  },
  {
   "cell_type": "code",
   "execution_count": 66,
   "metadata": {
    "scrolled": true
   },
   "outputs": [
    {
     "name": "stderr",
     "output_type": "stream",
     "text": [
      "C:\\Users\\ANTHONI\\Anaconda3\\lib\\site-packages\\statsmodels\\nonparametric\\kde.py:494: RuntimeWarning: invalid value encountered in true_divide\n",
      "  binned = fast_linbin(X,a,b,gridsize)/(delta*nobs)\n",
      "C:\\Users\\ANTHONI\\Anaconda3\\lib\\site-packages\\statsmodels\\nonparametric\\kdetools.py:34: RuntimeWarning: invalid value encountered in double_scalars\n",
      "  FAC1 = 2*(np.pi*bw/RANGE)**2\n",
      "C:\\Users\\ANTHONI\\Anaconda3\\lib\\site-packages\\numpy\\core\\_methods.py:26: RuntimeWarning: invalid value encountered in reduce\n",
      "  return umr_maximum(a, axis, None, out, keepdims)\n"
     ]
    },
    {
     "data": {
      "image/png": "[encoded data removed]",
      "text/plain": [
       "<matplotlib.figure.Figure at 0x3efe05a5c0>"
      ]
     },
     "metadata": {},
     "output_type": "display_data"
    },
    {
     "data": {
      "image/png": "[encoded data removed]",
      "text/plain": [
       "<matplotlib.figure.Figure at 0x3efe0cda58>"
      ]
     },
     "metadata": {},
     "output_type": "display_data"
    },
    {
     "data": {
      "image/png": "[encoded data removed]",
      "text/plain": [
       "<matplotlib.figure.Figure at 0x3efe067860>"
      ]
     },
     "metadata": {},
     "output_type": "display_data"
    },
    {
     "data": {
      "image/png": "[encoded data removed]",
      "text/plain": [
       "<matplotlib.figure.Figure at 0x3efe1820f0>"
      ]
     },
     "metadata": {},
     "output_type": "display_data"
    },
    {
     "data": {
      "image/png": "[encoded data removed]",
      "text/plain": [
       "<matplotlib.figure.Figure at 0x3efc4e3e80>"
      ]
     },
     "metadata": {},
     "output_type": "display_data"
    },
    {
     "data": {
      "image/png": "[encoded data removed]",
      "text/plain": [
       "<matplotlib.figure.Figure at 0x3efe5bd390>"
      ]
     },
     "metadata": {},
     "output_type": "display_data"
    },
    {
     "data": {
      "image/png": "[encoded data removed]",
      "text/plain": [
       "<matplotlib.figure.Figure at 0x3efe660e80>"
      ]
     },
     "metadata": {},
     "output_type": "display_data"
    },
    {
     "data": {
      "image/png": "[encoded data removed]",
      "text/plain": [
       "<matplotlib.figure.Figure at 0x3efe71b470>"
      ]
     },
     "metadata": {},
     "output_type": "display_data"
    },
    {
     "data": {
      "image/png": "[encoded data removed]",
      "text/plain": [
       "<matplotlib.figure.Figure at 0x3efe7c2e10>"
      ]
     },
     "metadata": {},
     "output_type": "display_data"
    },
    {
     "data": {
      "image/png": "[encoded data removed]",
      "text/plain": [
       "<matplotlib.figure.Figure at 0x3efe874c50>"
      ]
     },
     "metadata": {},
     "output_type": "display_data"
    },
    {
     "data": {
      "image/png": "[encoded data removed]",
      "text/plain": [
       "<matplotlib.figure.Figure at 0x3efe939630>"
      ]
     },
     "metadata": {},
     "output_type": "display_data"
    },
    {
     "data": {
      "image/png": "[encoded data removed]",
      "text/plain": [
       "<matplotlib.figure.Figure at 0x3efe9e81d0>"
      ]
     },
     "metadata": {},
     "output_type": "display_data"
    },
    {
     "data": {
      "image/png": "[encoded data removed]",
      "text/plain": [
       "<matplotlib.figure.Figure at 0x3efea987f0>"
      ]
     },
     "metadata": {},
     "output_type": "display_data"
    },
    {
     "data": {
      "image/png": "[encoded data removed]",
      "text/plain": [
       "<matplotlib.figure.Figure at 0x3efebb5eb8>"
      ]
     },
     "metadata": {},
     "output_type": "display_data"
    }
   ],
   "source": [
    "# melihat distribusi setelah transformasi\n",
    "for col in num_col_transform:\n",
    "    plt.figure()\n",
    "    sns.distplot(x_train_num_log[col+'_log'])\n",
    "    "
   ]
  },
  {
   "cell_type": "markdown",
   "metadata": {},
   "source": [
    "## Square Feature"
   ]
  },
  {
   "cell_type": "code",
   "execution_count": 67,
   "metadata": {},
   "outputs": [],
   "source": [
    "# menyiapkan dataframe untuk feature square\n",
    "square_feature = pd.DataFrame()"
   ]
  },
  {
   "cell_type": "code",
   "execution_count": 68,
   "metadata": {},
   "outputs": [],
   "source": [
    "# menghitung square dari tiap kolom feature\n",
    "for col in x_train_num_log.columns:\n",
    "    square_feature[col+'_square'] = x_train_num_log[col]**2"
   ]
  },
  {
   "cell_type": "code",
   "execution_count": 69,
   "metadata": {
    "scrolled": true
   },
   "outputs": [
    {
     "data": {
      "text/html": [
       "<div>\n",
       "<style scoped>\n",
       "    .dataframe tbody tr th:only-of-type {\n",
       "        vertical-align: middle;\n",
       "    }\n",
       "\n",
       "    .dataframe tbody tr th {\n",
       "        vertical-align: top;\n",
       "    }\n",
       "\n",
       "    .dataframe thead th {\n",
       "        text-align: right;\n",
       "    }\n",
       "</style>\n",
       "<table border=\"1\" class=\"dataframe\">\n",
       "  <thead>\n",
       "    <tr style=\"text-align: right;\">\n",
       "      <th></th>\n",
       "      <th>annual_inc_log_square</th>\n",
       "      <th>delinq_2yrs_log_square</th>\n",
       "      <th>pub_rec_log_square</th>\n",
       "      <th>revol_bal_log_square</th>\n",
       "      <th>total_rec_late_fee_log_square</th>\n",
       "      <th>recoveries_log_square</th>\n",
       "      <th>collection_recovery_fee_log_square</th>\n",
       "      <th>last_pymnt_amnt_log_square</th>\n",
       "      <th>collections_12_mths_ex_med_log_square</th>\n",
       "      <th>acc_now_delinq_log_square</th>\n",
       "      <th>tot_coll_amt_log_square</th>\n",
       "      <th>open_il_12m_log_square</th>\n",
       "      <th>inq_fi_log_square</th>\n",
       "      <th>total_cu_tl_log_square</th>\n",
       "    </tr>\n",
       "  </thead>\n",
       "  <tbody>\n",
       "    <tr>\n",
       "      <th>37891</th>\n",
       "      <td>126.303922</td>\n",
       "      <td>0.000000</td>\n",
       "      <td>0.0</td>\n",
       "      <td>90.709027</td>\n",
       "      <td>0.0</td>\n",
       "      <td>0.0</td>\n",
       "      <td>0.0</td>\n",
       "      <td>83.975019</td>\n",
       "      <td>0.0</td>\n",
       "      <td>0.0</td>\n",
       "      <td>0.0</td>\n",
       "      <td>0.0</td>\n",
       "      <td>0.0</td>\n",
       "      <td>0.0</td>\n",
       "    </tr>\n",
       "    <tr>\n",
       "      <th>5450</th>\n",
       "      <td>107.479935</td>\n",
       "      <td>0.000000</td>\n",
       "      <td>0.0</td>\n",
       "      <td>73.983230</td>\n",
       "      <td>0.0</td>\n",
       "      <td>0.0</td>\n",
       "      <td>0.0</td>\n",
       "      <td>32.953341</td>\n",
       "      <td>0.0</td>\n",
       "      <td>0.0</td>\n",
       "      <td>0.0</td>\n",
       "      <td>0.0</td>\n",
       "      <td>0.0</td>\n",
       "      <td>0.0</td>\n",
       "    </tr>\n",
       "    <tr>\n",
       "      <th>20180</th>\n",
       "      <td>124.462244</td>\n",
       "      <td>0.000000</td>\n",
       "      <td>0.0</td>\n",
       "      <td>87.874847</td>\n",
       "      <td>0.0</td>\n",
       "      <td>0.0</td>\n",
       "      <td>0.0</td>\n",
       "      <td>25.500398</td>\n",
       "      <td>0.0</td>\n",
       "      <td>0.0</td>\n",
       "      <td>0.0</td>\n",
       "      <td>0.0</td>\n",
       "      <td>0.0</td>\n",
       "      <td>0.0</td>\n",
       "    </tr>\n",
       "    <tr>\n",
       "      <th>34277</th>\n",
       "      <td>108.249316</td>\n",
       "      <td>0.480453</td>\n",
       "      <td>0.0</td>\n",
       "      <td>90.963592</td>\n",
       "      <td>0.0</td>\n",
       "      <td>0.0</td>\n",
       "      <td>0.0</td>\n",
       "      <td>30.599139</td>\n",
       "      <td>0.0</td>\n",
       "      <td>0.0</td>\n",
       "      <td>0.0</td>\n",
       "      <td>0.0</td>\n",
       "      <td>0.0</td>\n",
       "      <td>0.0</td>\n",
       "    </tr>\n",
       "    <tr>\n",
       "      <th>14156</th>\n",
       "      <td>130.385015</td>\n",
       "      <td>0.000000</td>\n",
       "      <td>0.0</td>\n",
       "      <td>113.331660</td>\n",
       "      <td>0.0</td>\n",
       "      <td>0.0</td>\n",
       "      <td>0.0</td>\n",
       "      <td>38.365348</td>\n",
       "      <td>0.0</td>\n",
       "      <td>0.0</td>\n",
       "      <td>0.0</td>\n",
       "      <td>0.0</td>\n",
       "      <td>0.0</td>\n",
       "      <td>0.0</td>\n",
       "    </tr>\n",
       "  </tbody>\n",
       "</table>\n",
       "</div>"
      ],
      "text/plain": [
       "       annual_inc_log_square  delinq_2yrs_log_square  pub_rec_log_square  \\\n",
       "37891             126.303922                0.000000                 0.0   \n",
       "5450              107.479935                0.000000                 0.0   \n",
       "20180             124.462244                0.000000                 0.0   \n",
       "34277             108.249316                0.480453                 0.0   \n",
       "14156             130.385015                0.000000                 0.0   \n",
       "\n",
       "       revol_bal_log_square  total_rec_late_fee_log_square  \\\n",
       "37891             90.709027                            0.0   \n",
       "5450              73.983230                            0.0   \n",
       "20180             87.874847                            0.0   \n",
       "34277             90.963592                            0.0   \n",
       "14156            113.331660                            0.0   \n",
       "\n",
       "       recoveries_log_square  collection_recovery_fee_log_square  \\\n",
       "37891                    0.0                                 0.0   \n",
       "5450                     0.0                                 0.0   \n",
       "20180                    0.0                                 0.0   \n",
       "34277                    0.0                                 0.0   \n",
       "14156                    0.0                                 0.0   \n",
       "\n",
       "       last_pymnt_amnt_log_square  collections_12_mths_ex_med_log_square  \\\n",
       "37891                   83.975019                                    0.0   \n",
       "5450                    32.953341                                    0.0   \n",
       "20180                   25.500398                                    0.0   \n",
       "34277                   30.599139                                    0.0   \n",
       "14156                   38.365348                                    0.0   \n",
       "\n",
       "       acc_now_delinq_log_square  tot_coll_amt_log_square  \\\n",
       "37891                        0.0                      0.0   \n",
       "5450                         0.0                      0.0   \n",
       "20180                        0.0                      0.0   \n",
       "34277                        0.0                      0.0   \n",
       "14156                        0.0                      0.0   \n",
       "\n",
       "       open_il_12m_log_square  inq_fi_log_square  total_cu_tl_log_square  \n",
       "37891                     0.0                0.0                     0.0  \n",
       "5450                      0.0                0.0                     0.0  \n",
       "20180                     0.0                0.0                     0.0  \n",
       "34277                     0.0                0.0                     0.0  \n",
       "14156                     0.0                0.0                     0.0  "
      ]
     },
     "execution_count": 69,
     "metadata": {},
     "output_type": "execute_result"
    }
   ],
   "source": [
    "square_feature.head()"
   ]
  },
  {
   "cell_type": "code",
   "execution_count": 70,
   "metadata": {},
   "outputs": [
    {
     "name": "stderr",
     "output_type": "stream",
     "text": [
      "C:\\Users\\ANTHONI\\Anaconda3\\lib\\site-packages\\statsmodels\\nonparametric\\kde.py:494: RuntimeWarning: invalid value encountered in true_divide\n",
      "  binned = fast_linbin(X,a,b,gridsize)/(delta*nobs)\n",
      "C:\\Users\\ANTHONI\\Anaconda3\\lib\\site-packages\\statsmodels\\nonparametric\\kdetools.py:34: RuntimeWarning: invalid value encountered in double_scalars\n",
      "  FAC1 = 2*(np.pi*bw/RANGE)**2\n",
      "C:\\Users\\ANTHONI\\Anaconda3\\lib\\site-packages\\numpy\\core\\_methods.py:26: RuntimeWarning: invalid value encountered in reduce\n",
      "  return umr_maximum(a, axis, None, out, keepdims)\n"
     ]
    },
    {
     "data": {
      "image/png": "[encoded data removed]",
      "text/plain": [
       "<matplotlib.figure.Figure at 0x3efeaebf98>"
      ]
     },
     "metadata": {},
     "output_type": "display_data"
    },
    {
     "data": {
      "image/png": "[encoded data removed]",
      "text/plain": [
       "<matplotlib.figure.Figure at 0x3efeba2c50>"
      ]
     },
     "metadata": {},
     "output_type": "display_data"
    },
    {
     "data": {
      "image/png": "[encoded data removed]",
      "text/plain": [
       "<matplotlib.figure.Figure at 0x3efeaeb5c0>"
      ]
     },
     "metadata": {},
     "output_type": "display_data"
    },
    {
     "data": {
      "image/png": "[encoded data removed]",
      "text/plain": [
       "<matplotlib.figure.Figure at 0x3efed98f28>"
      ]
     },
     "metadata": {},
     "output_type": "display_data"
    },
    {
     "data": {
      "image/png": "[encoded data removed]",
      "text/plain": [
       "<matplotlib.figure.Figure at 0x3efe80aeb8>"
      ]
     },
     "metadata": {},
     "output_type": "display_data"
    },
    {
     "data": {
      "image/png": "[encoded data removed]",
      "text/plain": [
       "<matplotlib.figure.Figure at 0x3efe0e03c8>"
      ]
     },
     "metadata": {},
     "output_type": "display_data"
    },
    {
     "data": {
      "image/png": "[encoded data removed]",
      "text/plain": [
       "<matplotlib.figure.Figure at 0x3efe028940>"
      ]
     },
     "metadata": {},
     "output_type": "display_data"
    },
    {
     "data": {
      "image/png": "[encoded data removed]",
      "text/plain": [
       "<matplotlib.figure.Figure at 0x3eff1d2780>"
      ]
     },
     "metadata": {},
     "output_type": "display_data"
    },
    {
     "data": {
      "image/png": "[encoded data removed]",
      "text/plain": [
       "<matplotlib.figure.Figure at 0x3efc4ddfd0>"
      ]
     },
     "metadata": {},
     "output_type": "display_data"
    },
    {
     "data": {
      "image/png": "[encoded data removed]",
      "text/plain": [
       "<matplotlib.figure.Figure at 0x3efec64b00>"
      ]
     },
     "metadata": {},
     "output_type": "display_data"
    },
    {
     "data": {
      "image/png": "[encoded data removed]",
      "text/plain": [
       "<matplotlib.figure.Figure at 0x3efea345f8>"
      ]
     },
     "metadata": {},
     "output_type": "display_data"
    },
    {
     "data": {
      "image/png": "[encoded data removed]",
      "text/plain": [
       "<matplotlib.figure.Figure at 0x3efe957eb8>"
      ]
     },
     "metadata": {},
     "output_type": "display_data"
    },
    {
     "data": {
      "image/png": "[encoded data removed]",
      "text/plain": [
       "<matplotlib.figure.Figure at 0x3efeb1ca20>"
      ]
     },
     "metadata": {},
     "output_type": "display_data"
    },
    {
     "data": {
      "image/png": "[encoded data removed]",
      "text/plain": [
       "<matplotlib.figure.Figure at 0x3efed12f98>"
      ]
     },
     "metadata": {},
     "output_type": "display_data"
    }
   ],
   "source": [
    "for col in square_feature.columns:\n",
    "    plt.figure()\n",
    "    sns.distplot(square_feature[col])\n",
    "    "
   ]
  },
  {
   "cell_type": "code",
   "execution_count": 71,
   "metadata": {},
   "outputs": [],
   "source": [
    "# membuat normalizeData dan square_feature ke dalam satu fungsi\n",
    "def featureEngineering(data, \n",
    "                       transform_column, \n",
    "                       median_transform,\n",
    "                      cutoff_point):\n",
    "    \n",
    "    '''\n",
    "    Fungsi untuk feature engineering, melakukan:\n",
    "        1. Mengganti nilai diatas 3std menjadi median, kemudian Log transform tiap kolom\n",
    "        2. Membuat feature baru dengan mengkuadratkan nilai tiap kolom\n",
    "        \n",
    "    Parameter\n",
    "    ----------\n",
    "    data_ : DataFrame, \n",
    "        data kolom numerik\n",
    "    transform_column:  \n",
    "        Kolom yang ditransformasi\n",
    "    median_transform:  Object,\n",
    "        nilai median untuk mengganti nilai diatas 3std\n",
    "    cutoff_point : DataFrame, \n",
    "        titik potong untuk diatas 3std\n",
    "\n",
    "\n",
    "    Output\n",
    "    -------\n",
    "    data :  DataFrame     \n",
    "    \n",
    "    '''\n",
    "    # normalizeData\n",
    "    data_log = normalizeData(data,\n",
    "                             transform_column,\n",
    "                             cutoff_point,\n",
    "                             median_transform)\n",
    "    # square feature\n",
    "    data_square_log = pd.DataFrame()\n",
    "    for col in data_log.columns:\n",
    "        data_square_log[col+'_square'] = data_log[col]**2\n",
    "    \n",
    "    # join\n",
    "    data_num_log_square = pd.concat([data,\n",
    "                                    data_log,\n",
    "                                    data_square_log],\n",
    "                                   axis = 1)\n",
    "\n",
    "    return data_num_log_square"
   ]
  },
  {
   "cell_type": "code",
   "execution_count": 72,
   "metadata": {},
   "outputs": [
    {
     "data": {
      "text/html": [
       "<div>\n",
       "<style scoped>\n",
       "    .dataframe tbody tr th:only-of-type {\n",
       "        vertical-align: middle;\n",
       "    }\n",
       "\n",
       "    .dataframe tbody tr th {\n",
       "        vertical-align: top;\n",
       "    }\n",
       "\n",
       "    .dataframe thead th {\n",
       "        text-align: right;\n",
       "    }\n",
       "</style>\n",
       "<table border=\"1\" class=\"dataframe\">\n",
       "  <thead>\n",
       "    <tr style=\"text-align: right;\">\n",
       "      <th></th>\n",
       "      <th>loan_amnt</th>\n",
       "      <th>funded_amnt</th>\n",
       "      <th>funded_amnt_inv</th>\n",
       "      <th>int_rate</th>\n",
       "      <th>installment</th>\n",
       "      <th>annual_inc</th>\n",
       "      <th>dti</th>\n",
       "      <th>delinq_2yrs</th>\n",
       "      <th>inq_last_6mths</th>\n",
       "      <th>mths_since_last_delinq</th>\n",
       "      <th>...</th>\n",
       "      <th>total_rec_late_fee_log_square</th>\n",
       "      <th>recoveries_log_square</th>\n",
       "      <th>collection_recovery_fee_log_square</th>\n",
       "      <th>last_pymnt_amnt_log_square</th>\n",
       "      <th>collections_12_mths_ex_med_log_square</th>\n",
       "      <th>acc_now_delinq_log_square</th>\n",
       "      <th>tot_coll_amt_log_square</th>\n",
       "      <th>open_il_12m_log_square</th>\n",
       "      <th>inq_fi_log_square</th>\n",
       "      <th>total_cu_tl_log_square</th>\n",
       "    </tr>\n",
       "  </thead>\n",
       "  <tbody>\n",
       "    <tr>\n",
       "      <th>37891</th>\n",
       "      <td>20000.0</td>\n",
       "      <td>20000.0</td>\n",
       "      <td>18260.96303</td>\n",
       "      <td>7.88</td>\n",
       "      <td>625.63</td>\n",
       "      <td>76000.0</td>\n",
       "      <td>12.52</td>\n",
       "      <td>0.0</td>\n",
       "      <td>0.0</td>\n",
       "      <td>29.0</td>\n",
       "      <td>...</td>\n",
       "      <td>0.0</td>\n",
       "      <td>0.0</td>\n",
       "      <td>0.0</td>\n",
       "      <td>83.975019</td>\n",
       "      <td>0.0</td>\n",
       "      <td>0.0</td>\n",
       "      <td>0.0</td>\n",
       "      <td>0.0</td>\n",
       "      <td>0.0</td>\n",
       "      <td>0.0</td>\n",
       "    </tr>\n",
       "    <tr>\n",
       "      <th>5450</th>\n",
       "      <td>8950.0</td>\n",
       "      <td>8950.0</td>\n",
       "      <td>8950.00000</td>\n",
       "      <td>14.99</td>\n",
       "      <td>310.22</td>\n",
       "      <td>31800.0</td>\n",
       "      <td>13.28</td>\n",
       "      <td>0.0</td>\n",
       "      <td>3.0</td>\n",
       "      <td>31.0</td>\n",
       "      <td>...</td>\n",
       "      <td>0.0</td>\n",
       "      <td>0.0</td>\n",
       "      <td>0.0</td>\n",
       "      <td>32.953341</td>\n",
       "      <td>0.0</td>\n",
       "      <td>0.0</td>\n",
       "      <td>0.0</td>\n",
       "      <td>0.0</td>\n",
       "      <td>0.0</td>\n",
       "      <td>0.0</td>\n",
       "    </tr>\n",
       "    <tr>\n",
       "      <th>20180</th>\n",
       "      <td>5000.0</td>\n",
       "      <td>5000.0</td>\n",
       "      <td>5000.00000</td>\n",
       "      <td>7.26</td>\n",
       "      <td>154.99</td>\n",
       "      <td>70000.0</td>\n",
       "      <td>11.55</td>\n",
       "      <td>0.0</td>\n",
       "      <td>0.0</td>\n",
       "      <td>47.0</td>\n",
       "      <td>...</td>\n",
       "      <td>0.0</td>\n",
       "      <td>0.0</td>\n",
       "      <td>0.0</td>\n",
       "      <td>25.500398</td>\n",
       "      <td>0.0</td>\n",
       "      <td>0.0</td>\n",
       "      <td>0.0</td>\n",
       "      <td>0.0</td>\n",
       "      <td>0.0</td>\n",
       "      <td>0.0</td>\n",
       "    </tr>\n",
       "    <tr>\n",
       "      <th>34277</th>\n",
       "      <td>7225.0</td>\n",
       "      <td>7225.0</td>\n",
       "      <td>7225.00000</td>\n",
       "      <td>15.31</td>\n",
       "      <td>251.56</td>\n",
       "      <td>33000.0</td>\n",
       "      <td>17.53</td>\n",
       "      <td>1.0</td>\n",
       "      <td>2.0</td>\n",
       "      <td>16.0</td>\n",
       "      <td>...</td>\n",
       "      <td>0.0</td>\n",
       "      <td>0.0</td>\n",
       "      <td>0.0</td>\n",
       "      <td>30.599139</td>\n",
       "      <td>0.0</td>\n",
       "      <td>0.0</td>\n",
       "      <td>0.0</td>\n",
       "      <td>0.0</td>\n",
       "      <td>0.0</td>\n",
       "      <td>0.0</td>\n",
       "    </tr>\n",
       "    <tr>\n",
       "      <th>14156</th>\n",
       "      <td>18000.0</td>\n",
       "      <td>18000.0</td>\n",
       "      <td>18000.00000</td>\n",
       "      <td>21.18</td>\n",
       "      <td>488.79</td>\n",
       "      <td>91000.0</td>\n",
       "      <td>15.21</td>\n",
       "      <td>0.0</td>\n",
       "      <td>0.0</td>\n",
       "      <td>31.0</td>\n",
       "      <td>...</td>\n",
       "      <td>0.0</td>\n",
       "      <td>0.0</td>\n",
       "      <td>0.0</td>\n",
       "      <td>38.365348</td>\n",
       "      <td>0.0</td>\n",
       "      <td>0.0</td>\n",
       "      <td>0.0</td>\n",
       "      <td>0.0</td>\n",
       "      <td>0.0</td>\n",
       "      <td>0.0</td>\n",
       "    </tr>\n",
       "  </tbody>\n",
       "</table>\n",
       "<p>5 rows × 76 columns</p>\n",
       "</div>"
      ],
      "text/plain": [
       "       loan_amnt  funded_amnt  funded_amnt_inv  int_rate  installment  \\\n",
       "37891    20000.0      20000.0      18260.96303      7.88       625.63   \n",
       "5450      8950.0       8950.0       8950.00000     14.99       310.22   \n",
       "20180     5000.0       5000.0       5000.00000      7.26       154.99   \n",
       "34277     7225.0       7225.0       7225.00000     15.31       251.56   \n",
       "14156    18000.0      18000.0      18000.00000     21.18       488.79   \n",
       "\n",
       "       annual_inc    dti  delinq_2yrs  inq_last_6mths  mths_since_last_delinq  \\\n",
       "37891     76000.0  12.52          0.0             0.0                    29.0   \n",
       "5450      31800.0  13.28          0.0             3.0                    31.0   \n",
       "20180     70000.0  11.55          0.0             0.0                    47.0   \n",
       "34277     33000.0  17.53          1.0             2.0                    16.0   \n",
       "14156     91000.0  15.21          0.0             0.0                    31.0   \n",
       "\n",
       "                ...            total_rec_late_fee_log_square  \\\n",
       "37891           ...                                      0.0   \n",
       "5450            ...                                      0.0   \n",
       "20180           ...                                      0.0   \n",
       "34277           ...                                      0.0   \n",
       "14156           ...                                      0.0   \n",
       "\n",
       "       recoveries_log_square  collection_recovery_fee_log_square  \\\n",
       "37891                    0.0                                 0.0   \n",
       "5450                     0.0                                 0.0   \n",
       "20180                    0.0                                 0.0   \n",
       "34277                    0.0                                 0.0   \n",
       "14156                    0.0                                 0.0   \n",
       "\n",
       "       last_pymnt_amnt_log_square  collections_12_mths_ex_med_log_square  \\\n",
       "37891                   83.975019                                    0.0   \n",
       "5450                    32.953341                                    0.0   \n",
       "20180                   25.500398                                    0.0   \n",
       "34277                   30.599139                                    0.0   \n",
       "14156                   38.365348                                    0.0   \n",
       "\n",
       "       acc_now_delinq_log_square  tot_coll_amt_log_square  \\\n",
       "37891                        0.0                      0.0   \n",
       "5450                         0.0                      0.0   \n",
       "20180                        0.0                      0.0   \n",
       "34277                        0.0                      0.0   \n",
       "14156                        0.0                      0.0   \n",
       "\n",
       "       open_il_12m_log_square  inq_fi_log_square  total_cu_tl_log_square  \n",
       "37891                     0.0                0.0                     0.0  \n",
       "5450                      0.0                0.0                     0.0  \n",
       "20180                     0.0                0.0                     0.0  \n",
       "34277                     0.0                0.0                     0.0  \n",
       "14156                     0.0                0.0                     0.0  \n",
       "\n",
       "[5 rows x 76 columns]"
      ]
     },
     "execution_count": 72,
     "metadata": {},
     "output_type": "execute_result"
    }
   ],
   "source": [
    "x_train_num_log_square = featureEngineering(x_train_num_imput,\n",
    "                                            num_col_transform,\n",
    "                                           median_num_col,\n",
    "                                           cutoff_std)\n",
    "x_train_num_log_square.head()"
   ]
  },
  {
   "cell_type": "code",
   "execution_count": 73,
   "metadata": {},
   "outputs": [
    {
     "data": {
      "text/plain": [
       "['x_train_num_log_square.pkl']"
      ]
     },
     "execution_count": 73,
     "metadata": {},
     "output_type": "execute_result"
    }
   ],
   "source": [
    "joblib.dump(x_train_num_log_square, 'x_train_num_log_square.pkl')"
   ]
  },
  {
   "cell_type": "markdown",
   "metadata": {},
   "source": [
    "# Numerical Standardizing\n"
   ]
  },
  {
   "cell_type": "code",
   "execution_count": 74,
   "metadata": {},
   "outputs": [],
   "source": [
    "# import library untuk standardizing\n",
    "from sklearn.preprocessing import StandardScaler"
   ]
  },
  {
   "cell_type": "markdown",
   "metadata": {},
   "source": [
    "# <font color = 'blue'> FUNCTION: fitStandardize"
   ]
  },
  {
   "cell_type": "code",
   "execution_count": 75,
   "metadata": {},
   "outputs": [],
   "source": [
    "from sklearn.preprocessing import StandardScaler\n",
    "def fitStandardize(data):\n",
    "    '''\n",
    "    Fitting standardizer untuk data numerik\n",
    "    \n",
    "    Parameter\n",
    "    ----------\n",
    "    data : DataFrame, \n",
    "        data kolom numerik\n",
    "        \n",
    "    Output\n",
    "    -------\n",
    "    standard    : Object StandardScaler setelah difit\n",
    "    \n",
    "    '''\n",
    "    standard = StandardScaler()\n",
    "    standard.fit(data)\n",
    "    return standard"
   ]
  },
  {
   "cell_type": "code",
   "execution_count": 76,
   "metadata": {},
   "outputs": [],
   "source": [
    "standardizer = fitStandardize(x_train_num_log_square)"
   ]
  },
  {
   "cell_type": "code",
   "execution_count": 77,
   "metadata": {},
   "outputs": [
    {
     "data": {
      "text/plain": [
       "['standardizer.pkl']"
      ]
     },
     "execution_count": 77,
     "metadata": {},
     "output_type": "execute_result"
    }
   ],
   "source": [
    "# save standardizer\n",
    "joblib.dump(standardizer, 'standardizer.pkl')"
   ]
  },
  {
   "cell_type": "markdown",
   "metadata": {},
   "source": [
    "# <font color = 'blue'> FUNCTION: transformNumerical"
   ]
  },
  {
   "cell_type": "code",
   "execution_count": 78,
   "metadata": {},
   "outputs": [],
   "source": [
    "x_train_num_std = transformNumerical(x_train_num_log_square, standardizer)"
   ]
  },
  {
   "cell_type": "code",
   "execution_count": 79,
   "metadata": {},
   "outputs": [
    {
     "data": {
      "text/html": [
       "<div>\n",
       "<style scoped>\n",
       "    .dataframe tbody tr th:only-of-type {\n",
       "        vertical-align: middle;\n",
       "    }\n",
       "\n",
       "    .dataframe tbody tr th {\n",
       "        vertical-align: top;\n",
       "    }\n",
       "\n",
       "    .dataframe thead th {\n",
       "        text-align: right;\n",
       "    }\n",
       "</style>\n",
       "<table border=\"1\" class=\"dataframe\">\n",
       "  <thead>\n",
       "    <tr style=\"text-align: right;\">\n",
       "      <th></th>\n",
       "      <th>loan_amnt</th>\n",
       "      <th>funded_amnt</th>\n",
       "      <th>funded_amnt_inv</th>\n",
       "      <th>int_rate</th>\n",
       "      <th>installment</th>\n",
       "      <th>annual_inc</th>\n",
       "      <th>dti</th>\n",
       "      <th>delinq_2yrs</th>\n",
       "      <th>inq_last_6mths</th>\n",
       "      <th>mths_since_last_delinq</th>\n",
       "      <th>...</th>\n",
       "      <th>total_rec_late_fee_log_square</th>\n",
       "      <th>recoveries_log_square</th>\n",
       "      <th>collection_recovery_fee_log_square</th>\n",
       "      <th>last_pymnt_amnt_log_square</th>\n",
       "      <th>collections_12_mths_ex_med_log_square</th>\n",
       "      <th>acc_now_delinq_log_square</th>\n",
       "      <th>tot_coll_amt_log_square</th>\n",
       "      <th>open_il_12m_log_square</th>\n",
       "      <th>inq_fi_log_square</th>\n",
       "      <th>total_cu_tl_log_square</th>\n",
       "    </tr>\n",
       "  </thead>\n",
       "  <tbody>\n",
       "    <tr>\n",
       "      <th>37891</th>\n",
       "      <td>0.621602</td>\n",
       "      <td>0.623429</td>\n",
       "      <td>0.421094</td>\n",
       "      <td>-1.218513</td>\n",
       "      <td>0.772479</td>\n",
       "      <td>0.011264</td>\n",
       "      <td>-0.676901</td>\n",
       "      <td>-0.363869</td>\n",
       "      <td>-0.697138</td>\n",
       "      <td>-0.228669</td>\n",
       "      <td>...</td>\n",
       "      <td>-0.005508</td>\n",
       "      <td>-0.113238</td>\n",
       "      <td>-0.106311</td>\n",
       "      <td>2.688563</td>\n",
       "      <td>0.0</td>\n",
       "      <td>0.0</td>\n",
       "      <td>-0.34253</td>\n",
       "      <td>0.0</td>\n",
       "      <td>0.0</td>\n",
       "      <td>-0.049636</td>\n",
       "    </tr>\n",
       "    <tr>\n",
       "      <th>5450</th>\n",
       "      <td>-0.689707</td>\n",
       "      <td>-0.688697</td>\n",
       "      <td>-0.682933</td>\n",
       "      <td>0.409823</td>\n",
       "      <td>-0.518202</td>\n",
       "      <td>-0.621752</td>\n",
       "      <td>-0.584887</td>\n",
       "      <td>-0.363869</td>\n",
       "      <td>2.310229</td>\n",
       "      <td>-0.097465</td>\n",
       "      <td>...</td>\n",
       "      <td>-0.005508</td>\n",
       "      <td>-0.113238</td>\n",
       "      <td>-0.106311</td>\n",
       "      <td>-0.472004</td>\n",
       "      <td>0.0</td>\n",
       "      <td>0.0</td>\n",
       "      <td>-0.34253</td>\n",
       "      <td>0.0</td>\n",
       "      <td>0.0</td>\n",
       "      <td>-0.049636</td>\n",
       "    </tr>\n",
       "    <tr>\n",
       "      <th>20180</th>\n",
       "      <td>-1.158455</td>\n",
       "      <td>-1.157737</td>\n",
       "      <td>-1.151296</td>\n",
       "      <td>-1.360506</td>\n",
       "      <td>-1.153415</td>\n",
       "      <td>-0.074665</td>\n",
       "      <td>-0.794340</td>\n",
       "      <td>-0.363869</td>\n",
       "      <td>-0.697138</td>\n",
       "      <td>0.952164</td>\n",
       "      <td>...</td>\n",
       "      <td>-0.005508</td>\n",
       "      <td>-0.113238</td>\n",
       "      <td>-0.106311</td>\n",
       "      <td>-0.933681</td>\n",
       "      <td>0.0</td>\n",
       "      <td>0.0</td>\n",
       "      <td>-0.34253</td>\n",
       "      <td>0.0</td>\n",
       "      <td>0.0</td>\n",
       "      <td>-0.049636</td>\n",
       "    </tr>\n",
       "    <tr>\n",
       "      <th>34277</th>\n",
       "      <td>-0.894413</td>\n",
       "      <td>-0.893531</td>\n",
       "      <td>-0.887471</td>\n",
       "      <td>0.483110</td>\n",
       "      <td>-0.758243</td>\n",
       "      <td>-0.604566</td>\n",
       "      <td>-0.070333</td>\n",
       "      <td>0.818113</td>\n",
       "      <td>1.307773</td>\n",
       "      <td>-1.081493</td>\n",
       "      <td>...</td>\n",
       "      <td>-0.005508</td>\n",
       "      <td>-0.113238</td>\n",
       "      <td>-0.106311</td>\n",
       "      <td>-0.617836</td>\n",
       "      <td>0.0</td>\n",
       "      <td>0.0</td>\n",
       "      <td>-0.34253</td>\n",
       "      <td>0.0</td>\n",
       "      <td>0.0</td>\n",
       "      <td>-0.049636</td>\n",
       "    </tr>\n",
       "    <tr>\n",
       "      <th>14156</th>\n",
       "      <td>0.384261</td>\n",
       "      <td>0.385940</td>\n",
       "      <td>0.390151</td>\n",
       "      <td>1.827460</td>\n",
       "      <td>0.212520</td>\n",
       "      <td>0.226089</td>\n",
       "      <td>-0.351219</td>\n",
       "      <td>-0.363869</td>\n",
       "      <td>-0.697138</td>\n",
       "      <td>-0.097465</td>\n",
       "      <td>...</td>\n",
       "      <td>-0.005508</td>\n",
       "      <td>-0.113238</td>\n",
       "      <td>-0.106311</td>\n",
       "      <td>-0.136754</td>\n",
       "      <td>0.0</td>\n",
       "      <td>0.0</td>\n",
       "      <td>-0.34253</td>\n",
       "      <td>0.0</td>\n",
       "      <td>0.0</td>\n",
       "      <td>-0.049636</td>\n",
       "    </tr>\n",
       "  </tbody>\n",
       "</table>\n",
       "<p>5 rows × 76 columns</p>\n",
       "</div>"
      ],
      "text/plain": [
       "       loan_amnt  funded_amnt  funded_amnt_inv  int_rate  installment  \\\n",
       "37891   0.621602     0.623429         0.421094 -1.218513     0.772479   \n",
       "5450   -0.689707    -0.688697        -0.682933  0.409823    -0.518202   \n",
       "20180  -1.158455    -1.157737        -1.151296 -1.360506    -1.153415   \n",
       "34277  -0.894413    -0.893531        -0.887471  0.483110    -0.758243   \n",
       "14156   0.384261     0.385940         0.390151  1.827460     0.212520   \n",
       "\n",
       "       annual_inc       dti  delinq_2yrs  inq_last_6mths  \\\n",
       "37891    0.011264 -0.676901    -0.363869       -0.697138   \n",
       "5450    -0.621752 -0.584887    -0.363869        2.310229   \n",
       "20180   -0.074665 -0.794340    -0.363869       -0.697138   \n",
       "34277   -0.604566 -0.070333     0.818113        1.307773   \n",
       "14156    0.226089 -0.351219    -0.363869       -0.697138   \n",
       "\n",
       "       mths_since_last_delinq           ...            \\\n",
       "37891               -0.228669           ...             \n",
       "5450                -0.097465           ...             \n",
       "20180                0.952164           ...             \n",
       "34277               -1.081493           ...             \n",
       "14156               -0.097465           ...             \n",
       "\n",
       "       total_rec_late_fee_log_square  recoveries_log_square  \\\n",
       "37891                      -0.005508              -0.113238   \n",
       "5450                       -0.005508              -0.113238   \n",
       "20180                      -0.005508              -0.113238   \n",
       "34277                      -0.005508              -0.113238   \n",
       "14156                      -0.005508              -0.113238   \n",
       "\n",
       "       collection_recovery_fee_log_square  last_pymnt_amnt_log_square  \\\n",
       "37891                           -0.106311                    2.688563   \n",
       "5450                            -0.106311                   -0.472004   \n",
       "20180                           -0.106311                   -0.933681   \n",
       "34277                           -0.106311                   -0.617836   \n",
       "14156                           -0.106311                   -0.136754   \n",
       "\n",
       "       collections_12_mths_ex_med_log_square  acc_now_delinq_log_square  \\\n",
       "37891                                    0.0                        0.0   \n",
       "5450                                     0.0                        0.0   \n",
       "20180                                    0.0                        0.0   \n",
       "34277                                    0.0                        0.0   \n",
       "14156                                    0.0                        0.0   \n",
       "\n",
       "       tot_coll_amt_log_square  open_il_12m_log_square  inq_fi_log_square  \\\n",
       "37891                 -0.34253                     0.0                0.0   \n",
       "5450                  -0.34253                     0.0                0.0   \n",
       "20180                 -0.34253                     0.0                0.0   \n",
       "34277                 -0.34253                     0.0                0.0   \n",
       "14156                 -0.34253                     0.0                0.0   \n",
       "\n",
       "       total_cu_tl_log_square  \n",
       "37891               -0.049636  \n",
       "5450                -0.049636  \n",
       "20180               -0.049636  \n",
       "34277               -0.049636  \n",
       "14156               -0.049636  \n",
       "\n",
       "[5 rows x 76 columns]"
      ]
     },
     "execution_count": 79,
     "metadata": {},
     "output_type": "execute_result"
    }
   ],
   "source": [
    "x_train_num_std.head()"
   ]
  },
  {
   "cell_type": "code",
   "execution_count": 80,
   "metadata": {},
   "outputs": [
    {
     "data": {
      "text/plain": [
       "(32958, 76)"
      ]
     },
     "execution_count": 80,
     "metadata": {},
     "output_type": "execute_result"
    }
   ],
   "source": [
    "x_train_num_std.shape"
   ]
  },
  {
   "cell_type": "markdown",
   "metadata": {},
   "source": [
    "# Categorical Dummy"
   ]
  },
  {
   "cell_type": "code",
   "execution_count": 81,
   "metadata": {},
   "outputs": [
    {
     "data": {
      "text/html": [
       "<div>\n",
       "<style scoped>\n",
       "    .dataframe tbody tr th:only-of-type {\n",
       "        vertical-align: middle;\n",
       "    }\n",
       "\n",
       "    .dataframe tbody tr th {\n",
       "        vertical-align: top;\n",
       "    }\n",
       "\n",
       "    .dataframe thead th {\n",
       "        text-align: right;\n",
       "    }\n",
       "</style>\n",
       "<table border=\"1\" class=\"dataframe\">\n",
       "  <thead>\n",
       "    <tr style=\"text-align: right;\">\n",
       "      <th></th>\n",
       "      <th>term</th>\n",
       "      <th>grade</th>\n",
       "      <th>sub_grade</th>\n",
       "      <th>emp_length</th>\n",
       "      <th>home_ownership</th>\n",
       "      <th>verification_status</th>\n",
       "      <th>purpose</th>\n",
       "      <th>addr_state</th>\n",
       "      <th>initial_list_status</th>\n",
       "      <th>application_type</th>\n",
       "      <th>verification_status_joint</th>\n",
       "    </tr>\n",
       "  </thead>\n",
       "  <tbody>\n",
       "    <tr>\n",
       "      <th>37891</th>\n",
       "      <td>36 months</td>\n",
       "      <td>A</td>\n",
       "      <td>A5</td>\n",
       "      <td>10+ years</td>\n",
       "      <td>MORTGAGE</td>\n",
       "      <td>Verified</td>\n",
       "      <td>debt_consolidation</td>\n",
       "      <td>CO</td>\n",
       "      <td>f</td>\n",
       "      <td>INDIVIDUAL</td>\n",
       "      <td>KOSONG</td>\n",
       "    </tr>\n",
       "    <tr>\n",
       "      <th>5450</th>\n",
       "      <td>36 months</td>\n",
       "      <td>C</td>\n",
       "      <td>C5</td>\n",
       "      <td>KOSONG</td>\n",
       "      <td>MORTGAGE</td>\n",
       "      <td>Verified</td>\n",
       "      <td>debt_consolidation</td>\n",
       "      <td>NV</td>\n",
       "      <td>w</td>\n",
       "      <td>INDIVIDUAL</td>\n",
       "      <td>KOSONG</td>\n",
       "    </tr>\n",
       "    <tr>\n",
       "      <th>20180</th>\n",
       "      <td>36 months</td>\n",
       "      <td>A</td>\n",
       "      <td>A4</td>\n",
       "      <td>10+ years</td>\n",
       "      <td>MORTGAGE</td>\n",
       "      <td>Not Verified</td>\n",
       "      <td>home_improvement</td>\n",
       "      <td>CA</td>\n",
       "      <td>w</td>\n",
       "      <td>INDIVIDUAL</td>\n",
       "      <td>KOSONG</td>\n",
       "    </tr>\n",
       "    <tr>\n",
       "      <th>34277</th>\n",
       "      <td>36 months</td>\n",
       "      <td>C</td>\n",
       "      <td>C4</td>\n",
       "      <td>10+ years</td>\n",
       "      <td>RENT</td>\n",
       "      <td>Not Verified</td>\n",
       "      <td>debt_consolidation</td>\n",
       "      <td>AL</td>\n",
       "      <td>f</td>\n",
       "      <td>INDIVIDUAL</td>\n",
       "      <td>KOSONG</td>\n",
       "    </tr>\n",
       "    <tr>\n",
       "      <th>14156</th>\n",
       "      <td>60 months</td>\n",
       "      <td>E</td>\n",
       "      <td>E3</td>\n",
       "      <td>9 years</td>\n",
       "      <td>MORTGAGE</td>\n",
       "      <td>Not Verified</td>\n",
       "      <td>debt_consolidation</td>\n",
       "      <td>TN</td>\n",
       "      <td>f</td>\n",
       "      <td>INDIVIDUAL</td>\n",
       "      <td>KOSONG</td>\n",
       "    </tr>\n",
       "  </tbody>\n",
       "</table>\n",
       "</div>"
      ],
      "text/plain": [
       "             term grade sub_grade emp_length home_ownership  \\\n",
       "37891   36 months     A        A5  10+ years       MORTGAGE   \n",
       "5450    36 months     C        C5     KOSONG       MORTGAGE   \n",
       "20180   36 months     A        A4  10+ years       MORTGAGE   \n",
       "34277   36 months     C        C4  10+ years           RENT   \n",
       "14156   60 months     E        E3    9 years       MORTGAGE   \n",
       "\n",
       "      verification_status             purpose addr_state initial_list_status  \\\n",
       "37891            Verified  debt_consolidation         CO                   f   \n",
       "5450             Verified  debt_consolidation         NV                   w   \n",
       "20180        Not Verified    home_improvement         CA                   w   \n",
       "34277        Not Verified  debt_consolidation         AL                   f   \n",
       "14156        Not Verified  debt_consolidation         TN                   f   \n",
       "\n",
       "      application_type verification_status_joint  \n",
       "37891       INDIVIDUAL                    KOSONG  \n",
       "5450        INDIVIDUAL                    KOSONG  \n",
       "20180       INDIVIDUAL                    KOSONG  \n",
       "34277       INDIVIDUAL                    KOSONG  \n",
       "14156       INDIVIDUAL                    KOSONG  "
      ]
     },
     "execution_count": 81,
     "metadata": {},
     "output_type": "execute_result"
    }
   ],
   "source": [
    "# cek head dari data_categorical_imputed\n",
    "x_train_cat_imput.head()"
   ]
  },
  {
   "cell_type": "code",
   "execution_count": 82,
   "metadata": {},
   "outputs": [
    {
     "data": {
      "text/html": [
       "<div>\n",
       "<style scoped>\n",
       "    .dataframe tbody tr th:only-of-type {\n",
       "        vertical-align: middle;\n",
       "    }\n",
       "\n",
       "    .dataframe tbody tr th {\n",
       "        vertical-align: top;\n",
       "    }\n",
       "\n",
       "    .dataframe thead th {\n",
       "        text-align: right;\n",
       "    }\n",
       "</style>\n",
       "<table border=\"1\" class=\"dataframe\">\n",
       "  <thead>\n",
       "    <tr style=\"text-align: right;\">\n",
       "      <th></th>\n",
       "      <th>term_ 36 months</th>\n",
       "      <th>term_ 60 months</th>\n",
       "      <th>grade_A</th>\n",
       "      <th>grade_B</th>\n",
       "      <th>grade_C</th>\n",
       "      <th>grade_D</th>\n",
       "      <th>grade_E</th>\n",
       "      <th>grade_F</th>\n",
       "      <th>grade_G</th>\n",
       "      <th>sub_grade_A1</th>\n",
       "      <th>...</th>\n",
       "      <th>addr_state_WV</th>\n",
       "      <th>addr_state_WY</th>\n",
       "      <th>initial_list_status_f</th>\n",
       "      <th>initial_list_status_w</th>\n",
       "      <th>application_type_INDIVIDUAL</th>\n",
       "      <th>application_type_JOINT</th>\n",
       "      <th>verification_status_joint_KOSONG</th>\n",
       "      <th>verification_status_joint_Not Verified</th>\n",
       "      <th>verification_status_joint_Source Verified</th>\n",
       "      <th>verification_status_joint_Verified</th>\n",
       "    </tr>\n",
       "  </thead>\n",
       "  <tbody>\n",
       "    <tr>\n",
       "      <th>37891</th>\n",
       "      <td>1</td>\n",
       "      <td>0</td>\n",
       "      <td>1</td>\n",
       "      <td>0</td>\n",
       "      <td>0</td>\n",
       "      <td>0</td>\n",
       "      <td>0</td>\n",
       "      <td>0</td>\n",
       "      <td>0</td>\n",
       "      <td>0</td>\n",
       "      <td>...</td>\n",
       "      <td>0</td>\n",
       "      <td>0</td>\n",
       "      <td>1</td>\n",
       "      <td>0</td>\n",
       "      <td>1</td>\n",
       "      <td>0</td>\n",
       "      <td>1</td>\n",
       "      <td>0</td>\n",
       "      <td>0</td>\n",
       "      <td>0</td>\n",
       "    </tr>\n",
       "    <tr>\n",
       "      <th>5450</th>\n",
       "      <td>1</td>\n",
       "      <td>0</td>\n",
       "      <td>0</td>\n",
       "      <td>0</td>\n",
       "      <td>1</td>\n",
       "      <td>0</td>\n",
       "      <td>0</td>\n",
       "      <td>0</td>\n",
       "      <td>0</td>\n",
       "      <td>0</td>\n",
       "      <td>...</td>\n",
       "      <td>0</td>\n",
       "      <td>0</td>\n",
       "      <td>0</td>\n",
       "      <td>1</td>\n",
       "      <td>1</td>\n",
       "      <td>0</td>\n",
       "      <td>1</td>\n",
       "      <td>0</td>\n",
       "      <td>0</td>\n",
       "      <td>0</td>\n",
       "    </tr>\n",
       "    <tr>\n",
       "      <th>20180</th>\n",
       "      <td>1</td>\n",
       "      <td>0</td>\n",
       "      <td>1</td>\n",
       "      <td>0</td>\n",
       "      <td>0</td>\n",
       "      <td>0</td>\n",
       "      <td>0</td>\n",
       "      <td>0</td>\n",
       "      <td>0</td>\n",
       "      <td>0</td>\n",
       "      <td>...</td>\n",
       "      <td>0</td>\n",
       "      <td>0</td>\n",
       "      <td>0</td>\n",
       "      <td>1</td>\n",
       "      <td>1</td>\n",
       "      <td>0</td>\n",
       "      <td>1</td>\n",
       "      <td>0</td>\n",
       "      <td>0</td>\n",
       "      <td>0</td>\n",
       "    </tr>\n",
       "    <tr>\n",
       "      <th>34277</th>\n",
       "      <td>1</td>\n",
       "      <td>0</td>\n",
       "      <td>0</td>\n",
       "      <td>0</td>\n",
       "      <td>1</td>\n",
       "      <td>0</td>\n",
       "      <td>0</td>\n",
       "      <td>0</td>\n",
       "      <td>0</td>\n",
       "      <td>0</td>\n",
       "      <td>...</td>\n",
       "      <td>0</td>\n",
       "      <td>0</td>\n",
       "      <td>1</td>\n",
       "      <td>0</td>\n",
       "      <td>1</td>\n",
       "      <td>0</td>\n",
       "      <td>1</td>\n",
       "      <td>0</td>\n",
       "      <td>0</td>\n",
       "      <td>0</td>\n",
       "    </tr>\n",
       "    <tr>\n",
       "      <th>14156</th>\n",
       "      <td>0</td>\n",
       "      <td>1</td>\n",
       "      <td>0</td>\n",
       "      <td>0</td>\n",
       "      <td>0</td>\n",
       "      <td>0</td>\n",
       "      <td>1</td>\n",
       "      <td>0</td>\n",
       "      <td>0</td>\n",
       "      <td>0</td>\n",
       "      <td>...</td>\n",
       "      <td>0</td>\n",
       "      <td>0</td>\n",
       "      <td>1</td>\n",
       "      <td>0</td>\n",
       "      <td>1</td>\n",
       "      <td>0</td>\n",
       "      <td>1</td>\n",
       "      <td>0</td>\n",
       "      <td>0</td>\n",
       "      <td>0</td>\n",
       "    </tr>\n",
       "  </tbody>\n",
       "</table>\n",
       "<p>5 rows × 135 columns</p>\n",
       "</div>"
      ],
      "text/plain": [
       "       term_ 36 months  term_ 60 months  grade_A  grade_B  grade_C  grade_D  \\\n",
       "37891                1                0        1        0        0        0   \n",
       "5450                 1                0        0        0        1        0   \n",
       "20180                1                0        1        0        0        0   \n",
       "34277                1                0        0        0        1        0   \n",
       "14156                0                1        0        0        0        0   \n",
       "\n",
       "       grade_E  grade_F  grade_G  sub_grade_A1  \\\n",
       "37891        0        0        0             0   \n",
       "5450         0        0        0             0   \n",
       "20180        0        0        0             0   \n",
       "34277        0        0        0             0   \n",
       "14156        1        0        0             0   \n",
       "\n",
       "                      ...                  addr_state_WV  addr_state_WY  \\\n",
       "37891                 ...                              0              0   \n",
       "5450                  ...                              0              0   \n",
       "20180                 ...                              0              0   \n",
       "34277                 ...                              0              0   \n",
       "14156                 ...                              0              0   \n",
       "\n",
       "       initial_list_status_f  initial_list_status_w  \\\n",
       "37891                      1                      0   \n",
       "5450                       0                      1   \n",
       "20180                      0                      1   \n",
       "34277                      1                      0   \n",
       "14156                      1                      0   \n",
       "\n",
       "       application_type_INDIVIDUAL  application_type_JOINT  \\\n",
       "37891                            1                       0   \n",
       "5450                             1                       0   \n",
       "20180                            1                       0   \n",
       "34277                            1                       0   \n",
       "14156                            1                       0   \n",
       "\n",
       "       verification_status_joint_KOSONG  \\\n",
       "37891                                 1   \n",
       "5450                                  1   \n",
       "20180                                 1   \n",
       "34277                                 1   \n",
       "14156                                 1   \n",
       "\n",
       "       verification_status_joint_Not Verified  \\\n",
       "37891                                       0   \n",
       "5450                                        0   \n",
       "20180                                       0   \n",
       "34277                                       0   \n",
       "14156                                       0   \n",
       "\n",
       "       verification_status_joint_Source Verified  \\\n",
       "37891                                          0   \n",
       "5450                                           0   \n",
       "20180                                          0   \n",
       "34277                                          0   \n",
       "14156                                          0   \n",
       "\n",
       "       verification_status_joint_Verified  \n",
       "37891                                   0  \n",
       "5450                                    0  \n",
       "20180                                   0  \n",
       "34277                                   0  \n",
       "14156                                   0  \n",
       "\n",
       "[5 rows x 135 columns]"
      ]
     },
     "execution_count": 82,
     "metadata": {},
     "output_type": "execute_result"
    }
   ],
   "source": [
    "x_train_cat_dummy = pd.get_dummies(x_train_cat_imput)\n",
    "x_train_cat_dummy.head()"
   ]
  },
  {
   "cell_type": "markdown",
   "metadata": {},
   "source": [
    "# Join Data Numerical Standard & Categorical Dummy"
   ]
  },
  {
   "cell_type": "code",
   "execution_count": 83,
   "metadata": {},
   "outputs": [],
   "source": [
    "# gabungkan data_numerical, data_categorical, dan data_output\n",
    "x_train_clean = pd.concat([x_train_num_std, x_train_cat_dummy], axis=1)"
   ]
  },
  {
   "cell_type": "code",
   "execution_count": 84,
   "metadata": {},
   "outputs": [
    {
     "data": {
      "text/html": [
       "<div>\n",
       "<style scoped>\n",
       "    .dataframe tbody tr th:only-of-type {\n",
       "        vertical-align: middle;\n",
       "    }\n",
       "\n",
       "    .dataframe tbody tr th {\n",
       "        vertical-align: top;\n",
       "    }\n",
       "\n",
       "    .dataframe thead th {\n",
       "        text-align: right;\n",
       "    }\n",
       "</style>\n",
       "<table border=\"1\" class=\"dataframe\">\n",
       "  <thead>\n",
       "    <tr style=\"text-align: right;\">\n",
       "      <th></th>\n",
       "      <th>loan_amnt</th>\n",
       "      <th>funded_amnt</th>\n",
       "      <th>funded_amnt_inv</th>\n",
       "      <th>int_rate</th>\n",
       "      <th>installment</th>\n",
       "      <th>annual_inc</th>\n",
       "      <th>dti</th>\n",
       "      <th>delinq_2yrs</th>\n",
       "      <th>inq_last_6mths</th>\n",
       "      <th>mths_since_last_delinq</th>\n",
       "      <th>...</th>\n",
       "      <th>addr_state_WV</th>\n",
       "      <th>addr_state_WY</th>\n",
       "      <th>initial_list_status_f</th>\n",
       "      <th>initial_list_status_w</th>\n",
       "      <th>application_type_INDIVIDUAL</th>\n",
       "      <th>application_type_JOINT</th>\n",
       "      <th>verification_status_joint_KOSONG</th>\n",
       "      <th>verification_status_joint_Not Verified</th>\n",
       "      <th>verification_status_joint_Source Verified</th>\n",
       "      <th>verification_status_joint_Verified</th>\n",
       "    </tr>\n",
       "  </thead>\n",
       "  <tbody>\n",
       "    <tr>\n",
       "      <th>37891</th>\n",
       "      <td>0.621602</td>\n",
       "      <td>0.623429</td>\n",
       "      <td>0.421094</td>\n",
       "      <td>-1.218513</td>\n",
       "      <td>0.772479</td>\n",
       "      <td>0.011264</td>\n",
       "      <td>-0.676901</td>\n",
       "      <td>-0.363869</td>\n",
       "      <td>-0.697138</td>\n",
       "      <td>-0.228669</td>\n",
       "      <td>...</td>\n",
       "      <td>0</td>\n",
       "      <td>0</td>\n",
       "      <td>1</td>\n",
       "      <td>0</td>\n",
       "      <td>1</td>\n",
       "      <td>0</td>\n",
       "      <td>1</td>\n",
       "      <td>0</td>\n",
       "      <td>0</td>\n",
       "      <td>0</td>\n",
       "    </tr>\n",
       "    <tr>\n",
       "      <th>5450</th>\n",
       "      <td>-0.689707</td>\n",
       "      <td>-0.688697</td>\n",
       "      <td>-0.682933</td>\n",
       "      <td>0.409823</td>\n",
       "      <td>-0.518202</td>\n",
       "      <td>-0.621752</td>\n",
       "      <td>-0.584887</td>\n",
       "      <td>-0.363869</td>\n",
       "      <td>2.310229</td>\n",
       "      <td>-0.097465</td>\n",
       "      <td>...</td>\n",
       "      <td>0</td>\n",
       "      <td>0</td>\n",
       "      <td>0</td>\n",
       "      <td>1</td>\n",
       "      <td>1</td>\n",
       "      <td>0</td>\n",
       "      <td>1</td>\n",
       "      <td>0</td>\n",
       "      <td>0</td>\n",
       "      <td>0</td>\n",
       "    </tr>\n",
       "    <tr>\n",
       "      <th>20180</th>\n",
       "      <td>-1.158455</td>\n",
       "      <td>-1.157737</td>\n",
       "      <td>-1.151296</td>\n",
       "      <td>-1.360506</td>\n",
       "      <td>-1.153415</td>\n",
       "      <td>-0.074665</td>\n",
       "      <td>-0.794340</td>\n",
       "      <td>-0.363869</td>\n",
       "      <td>-0.697138</td>\n",
       "      <td>0.952164</td>\n",
       "      <td>...</td>\n",
       "      <td>0</td>\n",
       "      <td>0</td>\n",
       "      <td>0</td>\n",
       "      <td>1</td>\n",
       "      <td>1</td>\n",
       "      <td>0</td>\n",
       "      <td>1</td>\n",
       "      <td>0</td>\n",
       "      <td>0</td>\n",
       "      <td>0</td>\n",
       "    </tr>\n",
       "    <tr>\n",
       "      <th>34277</th>\n",
       "      <td>-0.894413</td>\n",
       "      <td>-0.893531</td>\n",
       "      <td>-0.887471</td>\n",
       "      <td>0.483110</td>\n",
       "      <td>-0.758243</td>\n",
       "      <td>-0.604566</td>\n",
       "      <td>-0.070333</td>\n",
       "      <td>0.818113</td>\n",
       "      <td>1.307773</td>\n",
       "      <td>-1.081493</td>\n",
       "      <td>...</td>\n",
       "      <td>0</td>\n",
       "      <td>0</td>\n",
       "      <td>1</td>\n",
       "      <td>0</td>\n",
       "      <td>1</td>\n",
       "      <td>0</td>\n",
       "      <td>1</td>\n",
       "      <td>0</td>\n",
       "      <td>0</td>\n",
       "      <td>0</td>\n",
       "    </tr>\n",
       "    <tr>\n",
       "      <th>14156</th>\n",
       "      <td>0.384261</td>\n",
       "      <td>0.385940</td>\n",
       "      <td>0.390151</td>\n",
       "      <td>1.827460</td>\n",
       "      <td>0.212520</td>\n",
       "      <td>0.226089</td>\n",
       "      <td>-0.351219</td>\n",
       "      <td>-0.363869</td>\n",
       "      <td>-0.697138</td>\n",
       "      <td>-0.097465</td>\n",
       "      <td>...</td>\n",
       "      <td>0</td>\n",
       "      <td>0</td>\n",
       "      <td>1</td>\n",
       "      <td>0</td>\n",
       "      <td>1</td>\n",
       "      <td>0</td>\n",
       "      <td>1</td>\n",
       "      <td>0</td>\n",
       "      <td>0</td>\n",
       "      <td>0</td>\n",
       "    </tr>\n",
       "  </tbody>\n",
       "</table>\n",
       "<p>5 rows × 211 columns</p>\n",
       "</div>"
      ],
      "text/plain": [
       "       loan_amnt  funded_amnt  funded_amnt_inv  int_rate  installment  \\\n",
       "37891   0.621602     0.623429         0.421094 -1.218513     0.772479   \n",
       "5450   -0.689707    -0.688697        -0.682933  0.409823    -0.518202   \n",
       "20180  -1.158455    -1.157737        -1.151296 -1.360506    -1.153415   \n",
       "34277  -0.894413    -0.893531        -0.887471  0.483110    -0.758243   \n",
       "14156   0.384261     0.385940         0.390151  1.827460     0.212520   \n",
       "\n",
       "       annual_inc       dti  delinq_2yrs  inq_last_6mths  \\\n",
       "37891    0.011264 -0.676901    -0.363869       -0.697138   \n",
       "5450    -0.621752 -0.584887    -0.363869        2.310229   \n",
       "20180   -0.074665 -0.794340    -0.363869       -0.697138   \n",
       "34277   -0.604566 -0.070333     0.818113        1.307773   \n",
       "14156    0.226089 -0.351219    -0.363869       -0.697138   \n",
       "\n",
       "       mths_since_last_delinq                 ...                  \\\n",
       "37891               -0.228669                 ...                   \n",
       "5450                -0.097465                 ...                   \n",
       "20180                0.952164                 ...                   \n",
       "34277               -1.081493                 ...                   \n",
       "14156               -0.097465                 ...                   \n",
       "\n",
       "       addr_state_WV  addr_state_WY  initial_list_status_f  \\\n",
       "37891              0              0                      1   \n",
       "5450               0              0                      0   \n",
       "20180              0              0                      0   \n",
       "34277              0              0                      1   \n",
       "14156              0              0                      1   \n",
       "\n",
       "       initial_list_status_w  application_type_INDIVIDUAL  \\\n",
       "37891                      0                            1   \n",
       "5450                       1                            1   \n",
       "20180                      1                            1   \n",
       "34277                      0                            1   \n",
       "14156                      0                            1   \n",
       "\n",
       "       application_type_JOINT  verification_status_joint_KOSONG  \\\n",
       "37891                       0                                 1   \n",
       "5450                        0                                 1   \n",
       "20180                       0                                 1   \n",
       "34277                       0                                 1   \n",
       "14156                       0                                 1   \n",
       "\n",
       "       verification_status_joint_Not Verified  \\\n",
       "37891                                       0   \n",
       "5450                                        0   \n",
       "20180                                       0   \n",
       "34277                                       0   \n",
       "14156                                       0   \n",
       "\n",
       "       verification_status_joint_Source Verified  \\\n",
       "37891                                          0   \n",
       "5450                                           0   \n",
       "20180                                          0   \n",
       "34277                                          0   \n",
       "14156                                          0   \n",
       "\n",
       "       verification_status_joint_Verified  \n",
       "37891                                   0  \n",
       "5450                                    0  \n",
       "20180                                   0  \n",
       "34277                                   0  \n",
       "14156                                   0  \n",
       "\n",
       "[5 rows x 211 columns]"
      ]
     },
     "execution_count": 84,
     "metadata": {},
     "output_type": "execute_result"
    }
   ],
   "source": [
    "# cek head dari data\n",
    "x_train_clean.head()"
   ]
  },
  {
   "cell_type": "code",
   "execution_count": 85,
   "metadata": {},
   "outputs": [
    {
     "data": {
      "text/plain": [
       "loan_amnt                                    0\n",
       "funded_amnt                                  0\n",
       "funded_amnt_inv                              0\n",
       "int_rate                                     0\n",
       "installment                                  0\n",
       "annual_inc                                   0\n",
       "dti                                          0\n",
       "delinq_2yrs                                  0\n",
       "inq_last_6mths                               0\n",
       "mths_since_last_delinq                       0\n",
       "mths_since_last_record                       0\n",
       "open_acc                                     0\n",
       "pub_rec                                      0\n",
       "revol_bal                                    0\n",
       "revol_util                                   0\n",
       "total_acc                                    0\n",
       "out_prncp                                    0\n",
       "out_prncp_inv                                0\n",
       "total_pymnt                                  0\n",
       "total_pymnt_inv                              0\n",
       "total_rec_prncp                              0\n",
       "total_rec_int                                0\n",
       "total_rec_late_fee                           0\n",
       "recoveries                                   0\n",
       "collection_recovery_fee                      0\n",
       "last_pymnt_amnt                              0\n",
       "collections_12_mths_ex_med                   0\n",
       "mths_since_last_major_derog                  0\n",
       "annual_inc_joint                             0\n",
       "dti_joint                                    0\n",
       "                                            ..\n",
       "addr_state_NE                                0\n",
       "addr_state_NH                                0\n",
       "addr_state_NJ                                0\n",
       "addr_state_NM                                0\n",
       "addr_state_NV                                0\n",
       "addr_state_NY                                0\n",
       "addr_state_OH                                0\n",
       "addr_state_OK                                0\n",
       "addr_state_OR                                0\n",
       "addr_state_PA                                0\n",
       "addr_state_RI                                0\n",
       "addr_state_SC                                0\n",
       "addr_state_SD                                0\n",
       "addr_state_TN                                0\n",
       "addr_state_TX                                0\n",
       "addr_state_UT                                0\n",
       "addr_state_VA                                0\n",
       "addr_state_VT                                0\n",
       "addr_state_WA                                0\n",
       "addr_state_WI                                0\n",
       "addr_state_WV                                0\n",
       "addr_state_WY                                0\n",
       "initial_list_status_f                        0\n",
       "initial_list_status_w                        0\n",
       "application_type_INDIVIDUAL                  0\n",
       "application_type_JOINT                       0\n",
       "verification_status_joint_KOSONG             0\n",
       "verification_status_joint_Not Verified       0\n",
       "verification_status_joint_Source Verified    0\n",
       "verification_status_joint_Verified           0\n",
       "Length: 211, dtype: int64"
      ]
     },
     "execution_count": 85,
     "metadata": {},
     "output_type": "execute_result"
    }
   ],
   "source": [
    "x_train_clean.isnull().sum()"
   ]
  },
  {
   "cell_type": "markdown",
   "metadata": {},
   "source": [
    "# <font color = 'blue'> FUNCTION: preprocessTest \n",
    "(call another function)"
   ]
  },
  {
   "cell_type": "code",
   "execution_count": 86,
   "metadata": {},
   "outputs": [],
   "source": [
    "def preprocessTest(data,\n",
    "                   numerical_col,\n",
    "                   categorical_col, \n",
    "                   imputer,\n",
    "                   standardizer,\n",
    "                   transform_column, \n",
    "                    median_transform,\n",
    "                   cutoff_point):\n",
    "\n",
    "    # memisahkan numerical dan categorical\n",
    "    data_numerical   = data[numerical_col]\n",
    "    data_categorical = data[categorical_col]\n",
    "    \n",
    "    # categorical imputation\n",
    "    data_categorical_imput = data_categorical.fillna(\"KOSONG\")\n",
    "    \n",
    "    # dummy categorical\n",
    "    data_categorical_dummy = pd.get_dummies(data_categorical_imput)\n",
    "   \n",
    "    # numerical imputation  \n",
    "    data_numerical_imput = transformNumerical(data_numerical, imputer)\n",
    "    \n",
    "    # feature engineering\n",
    "    data_numerical_eng = featureEngineering(data_numerical_imput,\n",
    "                                            transform_column,\n",
    "                                            median_transform,\n",
    "                                            cutoff_point)\n",
    "        \n",
    "    # numerical standardizing\n",
    "    data_numerical_std = transformNumerical(data_numerical_eng, standardizer)\n",
    "    \n",
    "    # join numerical and categorical (clean)\n",
    "    data_train_clean = pd.concat([data_numerical_std, data_categorical_dummy], axis=1)\n",
    "    \n",
    "    return data_train_clean\n",
    "    "
   ]
  },
  {
   "cell_type": "code",
   "execution_count": 87,
   "metadata": {},
   "outputs": [],
   "source": [
    "numerical_col     = joblib.load(\"numerical_col.pkl\")\n",
    "categorical_col   = joblib.load(\"categorical_col.pkl\")\n",
    "imputer           = joblib.load(\"imputer.pkl\")\n",
    "standardizer      = joblib.load(\"standardizer.pkl\") \n",
    "num_col_transform = joblib.load(\"num_col_transform.pkl\")\n",
    "median_num_col    = joblib.load(\"median_num_col.pkl\")\n",
    "cutoff_std        = joblib.load(\"cutoff_std.pkl\")"
   ]
  },
  {
   "cell_type": "code",
   "execution_count": 88,
   "metadata": {},
   "outputs": [
    {
     "data": {
      "text/html": [
       "<div>\n",
       "<style scoped>\n",
       "    .dataframe tbody tr th:only-of-type {\n",
       "        vertical-align: middle;\n",
       "    }\n",
       "\n",
       "    .dataframe tbody tr th {\n",
       "        vertical-align: top;\n",
       "    }\n",
       "\n",
       "    .dataframe thead th {\n",
       "        text-align: right;\n",
       "    }\n",
       "</style>\n",
       "<table border=\"1\" class=\"dataframe\">\n",
       "  <thead>\n",
       "    <tr style=\"text-align: right;\">\n",
       "      <th></th>\n",
       "      <th>loan_amnt</th>\n",
       "      <th>funded_amnt</th>\n",
       "      <th>funded_amnt_inv</th>\n",
       "      <th>int_rate</th>\n",
       "      <th>installment</th>\n",
       "      <th>annual_inc</th>\n",
       "      <th>dti</th>\n",
       "      <th>delinq_2yrs</th>\n",
       "      <th>inq_last_6mths</th>\n",
       "      <th>mths_since_last_delinq</th>\n",
       "      <th>...</th>\n",
       "      <th>addr_state_WV</th>\n",
       "      <th>addr_state_WY</th>\n",
       "      <th>initial_list_status_f</th>\n",
       "      <th>initial_list_status_w</th>\n",
       "      <th>application_type_INDIVIDUAL</th>\n",
       "      <th>application_type_JOINT</th>\n",
       "      <th>verification_status_joint_KOSONG</th>\n",
       "      <th>verification_status_joint_Not Verified</th>\n",
       "      <th>verification_status_joint_Source Verified</th>\n",
       "      <th>verification_status_joint_Verified</th>\n",
       "    </tr>\n",
       "  </thead>\n",
       "  <tbody>\n",
       "    <tr>\n",
       "      <th>2529</th>\n",
       "      <td>0.028249</td>\n",
       "      <td>0.029707</td>\n",
       "      <td>0.034432</td>\n",
       "      <td>0.767095</td>\n",
       "      <td>0.387047</td>\n",
       "      <td>-0.289490</td>\n",
       "      <td>0.705736</td>\n",
       "      <td>0.818113</td>\n",
       "      <td>0.305317</td>\n",
       "      <td>-0.819085</td>\n",
       "      <td>...</td>\n",
       "      <td>0</td>\n",
       "      <td>0</td>\n",
       "      <td>0</td>\n",
       "      <td>1</td>\n",
       "      <td>1</td>\n",
       "      <td>0</td>\n",
       "      <td>1</td>\n",
       "      <td>0</td>\n",
       "      <td>0</td>\n",
       "      <td>0</td>\n",
       "    </tr>\n",
       "    <tr>\n",
       "      <th>23197</th>\n",
       "      <td>0.043083</td>\n",
       "      <td>0.044550</td>\n",
       "      <td>0.049254</td>\n",
       "      <td>0.409823</td>\n",
       "      <td>0.357584</td>\n",
       "      <td>-0.532958</td>\n",
       "      <td>0.285617</td>\n",
       "      <td>-0.363869</td>\n",
       "      <td>-0.697138</td>\n",
       "      <td>0.755359</td>\n",
       "      <td>...</td>\n",
       "      <td>0</td>\n",
       "      <td>0</td>\n",
       "      <td>1</td>\n",
       "      <td>0</td>\n",
       "      <td>1</td>\n",
       "      <td>0</td>\n",
       "      <td>1</td>\n",
       "      <td>0</td>\n",
       "      <td>0</td>\n",
       "      <td>0</td>\n",
       "    </tr>\n",
       "    <tr>\n",
       "      <th>20179</th>\n",
       "      <td>-1.294926</td>\n",
       "      <td>-1.294293</td>\n",
       "      <td>-1.287654</td>\n",
       "      <td>0.295313</td>\n",
       "      <td>-1.245405</td>\n",
       "      <td>-0.432707</td>\n",
       "      <td>-1.721748</td>\n",
       "      <td>-0.363869</td>\n",
       "      <td>-0.697138</td>\n",
       "      <td>-0.097465</td>\n",
       "      <td>...</td>\n",
       "      <td>0</td>\n",
       "      <td>0</td>\n",
       "      <td>0</td>\n",
       "      <td>1</td>\n",
       "      <td>1</td>\n",
       "      <td>0</td>\n",
       "      <td>1</td>\n",
       "      <td>0</td>\n",
       "      <td>0</td>\n",
       "      <td>0</td>\n",
       "    </tr>\n",
       "    <tr>\n",
       "      <th>35769</th>\n",
       "      <td>-0.802444</td>\n",
       "      <td>-0.801504</td>\n",
       "      <td>-0.795577</td>\n",
       "      <td>0.295313</td>\n",
       "      <td>-0.660975</td>\n",
       "      <td>0.068551</td>\n",
       "      <td>-0.581255</td>\n",
       "      <td>-0.363869</td>\n",
       "      <td>0.305317</td>\n",
       "      <td>0.558553</td>\n",
       "      <td>...</td>\n",
       "      <td>0</td>\n",
       "      <td>0</td>\n",
       "      <td>0</td>\n",
       "      <td>1</td>\n",
       "      <td>1</td>\n",
       "      <td>0</td>\n",
       "      <td>1</td>\n",
       "      <td>0</td>\n",
       "      <td>0</td>\n",
       "      <td>0</td>\n",
       "    </tr>\n",
       "    <tr>\n",
       "      <th>19995</th>\n",
       "      <td>0.384261</td>\n",
       "      <td>0.385940</td>\n",
       "      <td>0.390151</td>\n",
       "      <td>0.707550</td>\n",
       "      <td>0.014954</td>\n",
       "      <td>-0.131952</td>\n",
       "      <td>2.535126</td>\n",
       "      <td>-0.363869</td>\n",
       "      <td>-0.697138</td>\n",
       "      <td>-0.097465</td>\n",
       "      <td>...</td>\n",
       "      <td>0</td>\n",
       "      <td>0</td>\n",
       "      <td>0</td>\n",
       "      <td>1</td>\n",
       "      <td>1</td>\n",
       "      <td>0</td>\n",
       "      <td>1</td>\n",
       "      <td>0</td>\n",
       "      <td>0</td>\n",
       "      <td>0</td>\n",
       "    </tr>\n",
       "  </tbody>\n",
       "</table>\n",
       "<p>5 rows × 211 columns</p>\n",
       "</div>"
      ],
      "text/plain": [
       "       loan_amnt  funded_amnt  funded_amnt_inv  int_rate  installment  \\\n",
       "2529    0.028249     0.029707         0.034432  0.767095     0.387047   \n",
       "23197   0.043083     0.044550         0.049254  0.409823     0.357584   \n",
       "20179  -1.294926    -1.294293        -1.287654  0.295313    -1.245405   \n",
       "35769  -0.802444    -0.801504        -0.795577  0.295313    -0.660975   \n",
       "19995   0.384261     0.385940         0.390151  0.707550     0.014954   \n",
       "\n",
       "       annual_inc       dti  delinq_2yrs  inq_last_6mths  \\\n",
       "2529    -0.289490  0.705736     0.818113        0.305317   \n",
       "23197   -0.532958  0.285617    -0.363869       -0.697138   \n",
       "20179   -0.432707 -1.721748    -0.363869       -0.697138   \n",
       "35769    0.068551 -0.581255    -0.363869        0.305317   \n",
       "19995   -0.131952  2.535126    -0.363869       -0.697138   \n",
       "\n",
       "       mths_since_last_delinq                 ...                  \\\n",
       "2529                -0.819085                 ...                   \n",
       "23197                0.755359                 ...                   \n",
       "20179               -0.097465                 ...                   \n",
       "35769                0.558553                 ...                   \n",
       "19995               -0.097465                 ...                   \n",
       "\n",
       "       addr_state_WV  addr_state_WY  initial_list_status_f  \\\n",
       "2529               0              0                      0   \n",
       "23197              0              0                      1   \n",
       "20179              0              0                      0   \n",
       "35769              0              0                      0   \n",
       "19995              0              0                      0   \n",
       "\n",
       "       initial_list_status_w  application_type_INDIVIDUAL  \\\n",
       "2529                       1                            1   \n",
       "23197                      0                            1   \n",
       "20179                      1                            1   \n",
       "35769                      1                            1   \n",
       "19995                      1                            1   \n",
       "\n",
       "       application_type_JOINT  verification_status_joint_KOSONG  \\\n",
       "2529                        0                                 1   \n",
       "23197                       0                                 1   \n",
       "20179                       0                                 1   \n",
       "35769                       0                                 1   \n",
       "19995                       0                                 1   \n",
       "\n",
       "       verification_status_joint_Not Verified  \\\n",
       "2529                                        0   \n",
       "23197                                       0   \n",
       "20179                                       0   \n",
       "35769                                       0   \n",
       "19995                                       0   \n",
       "\n",
       "       verification_status_joint_Source Verified  \\\n",
       "2529                                           0   \n",
       "23197                                          0   \n",
       "20179                                          0   \n",
       "35769                                          0   \n",
       "19995                                          0   \n",
       "\n",
       "       verification_status_joint_Verified  \n",
       "2529                                    0  \n",
       "23197                                   0  \n",
       "20179                                   0  \n",
       "35769                                   0  \n",
       "19995                                   0  \n",
       "\n",
       "[5 rows x 211 columns]"
      ]
     },
     "execution_count": 88,
     "metadata": {},
     "output_type": "execute_result"
    }
   ],
   "source": [
    "# preprocess data test dengan function preprocessTest\n",
    "x_test_clean = preprocessTest(x_test,\n",
    "                              numerical_col, \n",
    "                              categorical_col,\n",
    "                              imputer,\n",
    "                              standardizer,\n",
    "                              num_col_transform, \n",
    "                              median_num_col,\n",
    "                              cutoff_std)\n",
    "x_test_clean.head() # cek head"
   ]
  },
  {
   "cell_type": "code",
   "execution_count": 171,
   "metadata": {},
   "outputs": [
    {
     "data": {
      "text/plain": [
       "(32958, 211)"
      ]
     },
     "execution_count": 171,
     "metadata": {},
     "output_type": "execute_result"
    }
   ],
   "source": [
    "x_train_clean.shape"
   ]
  },
  {
   "cell_type": "markdown",
   "metadata": {},
   "source": [
    "# Modelling with Machine Learning\n"
   ]
  },
  {
   "cell_type": "markdown",
   "metadata": {},
   "source": [
    "## Benchmark"
   ]
  },
  {
   "cell_type": "code",
   "execution_count": 90,
   "metadata": {},
   "outputs": [
    {
     "data": {
      "text/plain": [
       "1    0.949208\n",
       "0    0.050792\n",
       "Name: loan_status, dtype: float64"
      ]
     },
     "execution_count": 90,
     "metadata": {},
     "output_type": "execute_result"
    }
   ],
   "source": [
    "# hitung benchmark pada data_train\n",
    "y_train.value_counts(normalize=True)"
   ]
  },
  {
   "cell_type": "markdown",
   "metadata": {},
   "source": [
    "## Logistic Regression"
   ]
  },
  {
   "cell_type": "code",
   "execution_count": 91,
   "metadata": {},
   "outputs": [],
   "source": [
    "from sklearn.linear_model import LogisticRegression"
   ]
  },
  {
   "cell_type": "code",
   "execution_count": 92,
   "metadata": {},
   "outputs": [],
   "source": [
    "logreg = LogisticRegression(random_state=123)"
   ]
  },
  {
   "cell_type": "code",
   "execution_count": 93,
   "metadata": {},
   "outputs": [
    {
     "data": {
      "text/plain": [
       "LogisticRegression(C=1.0, class_weight=None, dual=False, fit_intercept=True,\n",
       "          intercept_scaling=1, max_iter=100, multi_class='ovr', n_jobs=1,\n",
       "          penalty='l2', random_state=123, solver='liblinear', tol=0.0001,\n",
       "          verbose=0, warm_start=False)"
      ]
     },
     "execution_count": 93,
     "metadata": {},
     "output_type": "execute_result"
    }
   ],
   "source": [
    "logreg.fit(x_train_clean, y_train)"
   ]
  },
  {
   "cell_type": "code",
   "execution_count": 94,
   "metadata": {},
   "outputs": [
    {
     "data": {
      "text/plain": [
       "0.9971175435402634"
      ]
     },
     "execution_count": 94,
     "metadata": {},
     "output_type": "execute_result"
    }
   ],
   "source": [
    "logreg.score(x_train_clean, y_train)"
   ]
  },
  {
   "cell_type": "code",
   "execution_count": 95,
   "metadata": {},
   "outputs": [
    {
     "data": {
      "text/plain": [
       "0.9958128527216458"
      ]
     },
     "execution_count": 95,
     "metadata": {},
     "output_type": "execute_result"
    }
   ],
   "source": [
    "logreg.score(x_test_clean, y_test)"
   ]
  },
  {
   "cell_type": "code",
   "execution_count": 96,
   "metadata": {},
   "outputs": [],
   "source": [
    "from sklearn.metrics import confusion_matrix"
   ]
  },
  {
   "cell_type": "code",
   "execution_count": 97,
   "metadata": {},
   "outputs": [
    {
     "data": {
      "text/plain": [
       "array([[ 1602,    72],\n",
       "       [   23, 31261]], dtype=int64)"
      ]
     },
     "execution_count": 97,
     "metadata": {},
     "output_type": "execute_result"
    }
   ],
   "source": [
    "confusion_matrix(y_train, logreg.predict(x_train_clean))"
   ]
  },
  {
   "cell_type": "code",
   "execution_count": 98,
   "metadata": {},
   "outputs": [],
   "source": [
    "from sklearn.metrics import classification_report"
   ]
  },
  {
   "cell_type": "code",
   "execution_count": 99,
   "metadata": {},
   "outputs": [
    {
     "name": "stdout",
     "output_type": "stream",
     "text": [
      "             precision    recall  f1-score   support\n",
      "\n",
      "          0       0.99      0.96      0.97      1674\n",
      "          1       1.00      1.00      1.00     31284\n",
      "\n",
      "avg / total       1.00      1.00      1.00     32958\n",
      "\n"
     ]
    }
   ],
   "source": [
    "print(classification_report(y_train, logreg.predict(x_train_clean)))"
   ]
  },
  {
   "cell_type": "code",
   "execution_count": 100,
   "metadata": {},
   "outputs": [
    {
     "name": "stdout",
     "output_type": "stream",
     "text": [
      "             precision    recall  f1-score   support\n",
      "\n",
      "          0       0.98      0.94      0.96       584\n",
      "          1       1.00      1.00      1.00     10402\n",
      "\n",
      "avg / total       1.00      1.00      1.00     10986\n",
      "\n"
     ]
    }
   ],
   "source": [
    "print(classification_report(y_test, logreg.predict(x_test_clean)))"
   ]
  },
  {
   "cell_type": "markdown",
   "metadata": {},
   "source": [
    "## RandomForest "
   ]
  },
  {
   "cell_type": "code",
   "execution_count": 101,
   "metadata": {},
   "outputs": [],
   "source": [
    "from sklearn.ensemble import RandomForestClassifier"
   ]
  },
  {
   "cell_type": "code",
   "execution_count": 102,
   "metadata": {},
   "outputs": [],
   "source": [
    "random_forest = RandomForestClassifier(random_state=123)"
   ]
  },
  {
   "cell_type": "code",
   "execution_count": 103,
   "metadata": {},
   "outputs": [
    {
     "data": {
      "text/plain": [
       "RandomForestClassifier(bootstrap=True, class_weight=None, criterion='gini',\n",
       "            max_depth=None, max_features='auto', max_leaf_nodes=None,\n",
       "            min_impurity_decrease=0.0, min_impurity_split=None,\n",
       "            min_samples_leaf=1, min_samples_split=2,\n",
       "            min_weight_fraction_leaf=0.0, n_estimators=10, n_jobs=1,\n",
       "            oob_score=False, random_state=123, verbose=0, warm_start=False)"
      ]
     },
     "execution_count": 103,
     "metadata": {},
     "output_type": "execute_result"
    }
   ],
   "source": [
    "random_forest.fit(x_train_clean, y_train)"
   ]
  },
  {
   "cell_type": "code",
   "execution_count": 104,
   "metadata": {},
   "outputs": [
    {
     "data": {
      "text/plain": [
       "0.9998179501183324"
      ]
     },
     "execution_count": 104,
     "metadata": {},
     "output_type": "execute_result"
    }
   ],
   "source": [
    "random_forest.score(x_train_clean, y_train)"
   ]
  },
  {
   "cell_type": "code",
   "execution_count": 107,
   "metadata": {},
   "outputs": [
    {
     "data": {
      "text/plain": [
       "0.9949026033133078"
      ]
     },
     "execution_count": 107,
     "metadata": {},
     "output_type": "execute_result"
    }
   ],
   "source": [
    "random_forest.score(x_test_clean, y_test)"
   ]
  },
  {
   "cell_type": "code",
   "execution_count": 105,
   "metadata": {
    "scrolled": true
   },
   "outputs": [
    {
     "name": "stdout",
     "output_type": "stream",
     "text": [
      "             precision    recall  f1-score   support\n",
      "\n",
      "          0       1.00      1.00      1.00      1674\n",
      "          1       1.00      1.00      1.00     31284\n",
      "\n",
      "avg / total       1.00      1.00      1.00     32958\n",
      "\n"
     ]
    }
   ],
   "source": [
    "print(classification_report(y_train, random_forest.predict(x_train_clean)))"
   ]
  },
  {
   "cell_type": "code",
   "execution_count": 106,
   "metadata": {},
   "outputs": [
    {
     "name": "stdout",
     "output_type": "stream",
     "text": [
      "             precision    recall  f1-score   support\n",
      "\n",
      "          0       0.98      0.92      0.95       584\n",
      "          1       1.00      1.00      1.00     10402\n",
      "\n",
      "avg / total       0.99      0.99      0.99     10986\n",
      "\n"
     ]
    }
   ],
   "source": [
    "print(classification_report(y_test, random_forest.predict(x_test_clean)))"
   ]
  },
  {
   "cell_type": "markdown",
   "metadata": {},
   "source": [
    "Model yang digunakan adalah model dari logistic regression karena lebih mudah untuk diinterpretasi (Dalam hal ini akurasinya serupa dengan random forest model)"
   ]
  },
  {
   "cell_type": "markdown",
   "metadata": {},
   "source": [
    "# RandomSearchCV"
   ]
  },
  {
   "cell_type": "code",
   "execution_count": 108,
   "metadata": {},
   "outputs": [],
   "source": [
    "from sklearn.model_selection import RandomizedSearchCV"
   ]
  },
  {
   "cell_type": "markdown",
   "metadata": {},
   "source": [
    "## Logistic Regression"
   ]
  },
  {
   "cell_type": "code",
   "execution_count": 109,
   "metadata": {},
   "outputs": [],
   "source": [
    "param = {'C': [1, 0.333, 0.1, 0.0333,\n",
    "               0.01, 0.00333, 0.001]}\n",
    "\n",
    "def logreg_cv(param, x_train, y_train):\n",
    "    logreg = LogisticRegression(random_state = 123)\n",
    "    \n",
    "    logregCV = RandomizedSearchCV(logreg,\n",
    "                       param_distributions = param,\n",
    "                       n_iter= 3,\n",
    "                       cv = 5,\n",
    "                       random_state = 123,\n",
    "                       verbose = 10)\n",
    "    logregCV.fit(x_train, y_train)\n",
    "    \n",
    "    return logregCV"
   ]
  },
  {
   "cell_type": "code",
   "execution_count": 110,
   "metadata": {},
   "outputs": [
    {
     "name": "stdout",
     "output_type": "stream",
     "text": [
      "Fitting 5 folds for each of 3 candidates, totalling 15 fits\n",
      "[CV] C=0.333 .........................................................\n",
      "[CV] ................ C=0.333, score=0.9943871359223301, total=   3.9s\n",
      "[CV] C=0.333 .........................................................\n"
     ]
    },
    {
     "name": "stderr",
     "output_type": "stream",
     "text": [
      "[Parallel(n_jobs=1)]: Done   1 out of   1 | elapsed:    4.0s remaining:    0.0s\n"
     ]
    },
    {
     "name": "stdout",
     "output_type": "stream",
     "text": [
      "[CV] ................ C=0.333, score=0.9946905339805825, total=   3.7s\n",
      "[CV] C=0.333 .........................................................\n"
     ]
    },
    {
     "name": "stderr",
     "output_type": "stream",
     "text": [
      "[Parallel(n_jobs=1)]: Done   2 out of   2 | elapsed:    7.9s remaining:    0.0s\n"
     ]
    },
    {
     "name": "stdout",
     "output_type": "stream",
     "text": [
      "[CV] ................ C=0.333, score=0.9934769417475728, total=   3.6s\n",
      "[CV] C=0.333 .........................................................\n"
     ]
    },
    {
     "name": "stderr",
     "output_type": "stream",
     "text": [
      "[Parallel(n_jobs=1)]: Done   3 out of   3 | elapsed:   11.7s remaining:    0.0s\n"
     ]
    },
    {
     "name": "stdout",
     "output_type": "stream",
     "text": [
      "[CV] ................ C=0.333, score=0.9959041262135923, total=   2.5s\n",
      "[CV] C=0.333 .........................................................\n"
     ]
    },
    {
     "name": "stderr",
     "output_type": "stream",
     "text": [
      "[Parallel(n_jobs=1)]: Done   4 out of   4 | elapsed:   14.4s remaining:    0.0s\n"
     ]
    },
    {
     "name": "stdout",
     "output_type": "stream",
     "text": [
      "[CV] ................ C=0.333, score=0.9959028831562974, total=   4.0s\n",
      "[CV] C=0.0333 ........................................................\n"
     ]
    },
    {
     "name": "stderr",
     "output_type": "stream",
     "text": [
      "[Parallel(n_jobs=1)]: Done   5 out of   5 | elapsed:   18.6s remaining:    0.0s\n"
     ]
    },
    {
     "name": "stdout",
     "output_type": "stream",
     "text": [
      "[CV] ............... C=0.0333, score=0.9895327669902912, total=   2.2s\n",
      "[CV] C=0.0333 ........................................................\n"
     ]
    },
    {
     "name": "stderr",
     "output_type": "stream",
     "text": [
      "[Parallel(n_jobs=1)]: Done   6 out of   6 | elapsed:   21.0s remaining:    0.0s\n"
     ]
    },
    {
     "name": "stdout",
     "output_type": "stream",
     "text": [
      "[CV] ............... C=0.0333, score=0.9877123786407767, total=   2.4s\n",
      "[CV] C=0.0333 ........................................................\n"
     ]
    },
    {
     "name": "stderr",
     "output_type": "stream",
     "text": [
      "[Parallel(n_jobs=1)]: Done   7 out of   7 | elapsed:   23.5s remaining:    0.0s\n"
     ]
    },
    {
     "name": "stdout",
     "output_type": "stream",
     "text": [
      "[CV] ............... C=0.0333, score=0.9899878640776699, total=   2.3s\n",
      "[CV] C=0.0333 ........................................................\n"
     ]
    },
    {
     "name": "stderr",
     "output_type": "stream",
     "text": [
      "[Parallel(n_jobs=1)]: Done   8 out of   8 | elapsed:   26.0s remaining:    0.0s\n"
     ]
    },
    {
     "name": "stdout",
     "output_type": "stream",
     "text": [
      "[CV] ............... C=0.0333, score=0.9902912621359223, total=   2.5s\n",
      "[CV] C=0.0333 ........................................................\n"
     ]
    },
    {
     "name": "stderr",
     "output_type": "stream",
     "text": [
      "[Parallel(n_jobs=1)]: Done   9 out of   9 | elapsed:   28.7s remaining:    0.0s\n"
     ]
    },
    {
     "name": "stdout",
     "output_type": "stream",
     "text": [
      "[CV] ............... C=0.0333, score=0.9910470409711685, total=   2.5s\n",
      "[CV] C=0.01 ..........................................................\n",
      "[CV] ................. C=0.01, score=0.9857402912621359, total=   1.8s\n",
      "[CV] C=0.01 ..........................................................\n",
      "[CV] ................. C=0.01, score=0.9834648058252428, total=   1.7s\n",
      "[CV] C=0.01 ..........................................................\n",
      "[CV] ........................... C=0.01, score=0.984375, total=   1.7s\n",
      "[CV] C=0.01 ..........................................................\n",
      "[CV] ................. C=0.01, score=0.9863470873786407, total=   1.7s\n",
      "[CV] C=0.01 ..........................................................\n",
      "[CV] ................. C=0.01, score=0.9846737481031866, total=   2.0s\n"
     ]
    },
    {
     "name": "stderr",
     "output_type": "stream",
     "text": [
      "[Parallel(n_jobs=1)]: Done  15 out of  15 | elapsed:   41.4s finished\n"
     ]
    }
   ],
   "source": [
    "logreg_cv_fitted = logreg_cv(param,\n",
    "                             x_train_clean,\n",
    "                             y_train)"
   ]
  },
  {
   "cell_type": "code",
   "execution_count": 111,
   "metadata": {},
   "outputs": [
    {
     "data": {
      "text/plain": [
       "{'C': 0.333}"
      ]
     },
     "execution_count": 111,
     "metadata": {},
     "output_type": "execute_result"
    }
   ],
   "source": [
    "logreg_cv_fitted.best_params_"
   ]
  },
  {
   "cell_type": "code",
   "execution_count": 112,
   "metadata": {},
   "outputs": [
    {
     "data": {
      "text/plain": [
       "0.9948722616663632"
      ]
     },
     "execution_count": 112,
     "metadata": {},
     "output_type": "execute_result"
    }
   ],
   "source": [
    "# Accuracy di cross validation\n",
    "logreg_cv_fitted.best_score_"
   ]
  },
  {
   "cell_type": "code",
   "execution_count": 113,
   "metadata": {},
   "outputs": [
    {
     "data": {
      "text/plain": [
       "0.9959038776624796"
      ]
     },
     "execution_count": 113,
     "metadata": {},
     "output_type": "execute_result"
    }
   ],
   "source": [
    "# Accuracy di training \n",
    "logreg_cv_fitted.score(x_train_clean, y_train)"
   ]
  },
  {
   "cell_type": "code",
   "execution_count": 114,
   "metadata": {},
   "outputs": [
    {
     "data": {
      "text/plain": [
       "0.9946295284908064"
      ]
     },
     "execution_count": 114,
     "metadata": {},
     "output_type": "execute_result"
    }
   ],
   "source": [
    "logreg_cv_fitted.score(x_test_clean, y_test)"
   ]
  },
  {
   "cell_type": "code",
   "execution_count": 115,
   "metadata": {
    "scrolled": true
   },
   "outputs": [
    {
     "name": "stdout",
     "output_type": "stream",
     "text": [
      "             precision    recall  f1-score   support\n",
      "\n",
      "          0       0.98      0.94      0.96      1674\n",
      "          1       1.00      1.00      1.00     31284\n",
      "\n",
      "avg / total       1.00      1.00      1.00     32958\n",
      "\n"
     ]
    }
   ],
   "source": [
    "print(classification_report(y_train, logreg_cv_fitted.predict(x_train_clean)))"
   ]
  },
  {
   "cell_type": "code",
   "execution_count": 116,
   "metadata": {
    "scrolled": true
   },
   "outputs": [
    {
     "name": "stdout",
     "output_type": "stream",
     "text": [
      "             precision    recall  f1-score   support\n",
      "\n",
      "          0       0.98      0.92      0.95       584\n",
      "          1       1.00      1.00      1.00     10402\n",
      "\n",
      "avg / total       0.99      0.99      0.99     10986\n",
      "\n"
     ]
    }
   ],
   "source": [
    "print(classification_report(y_test, logreg_cv_fitted.predict(x_test_clean)))"
   ]
  },
  {
   "cell_type": "code",
   "execution_count": 117,
   "metadata": {},
   "outputs": [
    {
     "data": {
      "text/plain": [
       "['logreg_cv.pkl']"
      ]
     },
     "execution_count": 117,
     "metadata": {},
     "output_type": "execute_result"
    }
   ],
   "source": [
    "joblib.dump(logreg_cv_fitted, \"logreg_cv.pkl\")"
   ]
  },
  {
   "cell_type": "markdown",
   "metadata": {},
   "source": [
    "# Feature Selection"
   ]
  },
  {
   "cell_type": "markdown",
   "metadata": {},
   "source": [
    "### L1 Regulatization"
   ]
  },
  {
   "cell_type": "code",
   "execution_count": 119,
   "metadata": {},
   "outputs": [],
   "source": [
    "# import SelectFromModel untuk feature selection\n",
    "from sklearn.feature_selection import SelectFromModel"
   ]
  },
  {
   "cell_type": "code",
   "execution_count": 120,
   "metadata": {},
   "outputs": [],
   "source": [
    "# feature selection menggunakan L1 regularization pada logreg\n",
    "estimator = LogisticRegression(penalty='l1',\n",
    "                               C=0.0333,\n",
    "                              random_state=123)"
   ]
  },
  {
   "cell_type": "code",
   "execution_count": 121,
   "metadata": {},
   "outputs": [
    {
     "data": {
      "text/plain": [
       "LogisticRegression(C=0.0333, class_weight=None, dual=False,\n",
       "          fit_intercept=True, intercept_scaling=1, max_iter=100,\n",
       "          multi_class='ovr', n_jobs=1, penalty='l1', random_state=123,\n",
       "          solver='liblinear', tol=0.0001, verbose=0, warm_start=False)"
      ]
     },
     "execution_count": 121,
     "metadata": {},
     "output_type": "execute_result"
    }
   ],
   "source": [
    "# fit ke data train\n",
    "estimator.fit(x_train_clean, y_train)"
   ]
  },
  {
   "cell_type": "code",
   "execution_count": 122,
   "metadata": {},
   "outputs": [],
   "source": [
    "# membuat object untuk feature selection\n",
    "sfm = SelectFromModel(estimator,\n",
    "                     prefit=True)"
   ]
  },
  {
   "cell_type": "code",
   "execution_count": 123,
   "metadata": {},
   "outputs": [
    {
     "data": {
      "text/plain": [
       "array([False, False,  True,  True,  True, False, False, False,  True,\n",
       "       False,  True, False, False, False, False, False,  True,  True,\n",
       "       False, False,  True, False,  True,  True, False,  True, False,\n",
       "       False, False, False, False, False, False, False, False, False,\n",
       "       False, False, False, False, False, False, False, False, False,\n",
       "       False, False, False, False, False, False,  True, False,  True,\n",
       "        True, False, False, False, False, False, False, False, False,\n",
       "       False, False, False, False, False, False,  True, False, False,\n",
       "       False, False, False, False, False, False, False, False, False,\n",
       "       False, False, False, False, False, False, False, False, False,\n",
       "       False, False, False, False, False, False, False, False, False,\n",
       "       False, False, False, False, False, False, False, False, False,\n",
       "       False, False, False, False, False, False, False, False, False,\n",
       "       False, False, False, False, False, False, False, False, False,\n",
       "       False, False, False, False, False, False, False, False, False,\n",
       "       False, False, False, False, False, False, False, False, False,\n",
       "       False, False, False, False, False, False, False, False, False,\n",
       "       False, False, False, False, False, False, False, False, False,\n",
       "       False, False, False, False, False, False, False, False, False,\n",
       "       False, False, False, False, False, False, False, False, False,\n",
       "       False, False, False, False, False, False, False, False, False,\n",
       "       False, False, False, False, False, False, False, False, False,\n",
       "       False, False, False, False, False, False, False,  True, False,\n",
       "        True, False, False, False])"
      ]
     },
     "execution_count": 123,
     "metadata": {},
     "output_type": "execute_result"
    }
   ],
   "source": [
    "# melihat feature yang dipilih\n",
    "sfm.get_support()"
   ]
  },
  {
   "cell_type": "code",
   "execution_count": 124,
   "metadata": {},
   "outputs": [
    {
     "data": {
      "text/plain": [
       "(array([  2,   3,   4,   8,  10,  16,  17,  20,  22,  23,  25,  51,  53,\n",
       "         54,  69, 205, 207], dtype=int64),)"
      ]
     },
     "execution_count": 124,
     "metadata": {},
     "output_type": "execute_result"
    }
   ],
   "source": [
    "# index feature yang dipilih\n",
    "selected_col_idx = np.where(sfm.get_support() == True)\n",
    "selected_col_idx"
   ]
  },
  {
   "cell_type": "code",
   "execution_count": 125,
   "metadata": {},
   "outputs": [],
   "source": [
    "# mengambil nama kolom yang dipilih\n",
    "selected_col = x_train_clean.columns[selected_col_idx]"
   ]
  },
  {
   "cell_type": "code",
   "execution_count": 126,
   "metadata": {},
   "outputs": [
    {
     "data": {
      "text/html": [
       "<div>\n",
       "<style scoped>\n",
       "    .dataframe tbody tr th:only-of-type {\n",
       "        vertical-align: middle;\n",
       "    }\n",
       "\n",
       "    .dataframe tbody tr th {\n",
       "        vertical-align: top;\n",
       "    }\n",
       "\n",
       "    .dataframe thead th {\n",
       "        text-align: right;\n",
       "    }\n",
       "</style>\n",
       "<table border=\"1\" class=\"dataframe\">\n",
       "  <thead>\n",
       "    <tr style=\"text-align: right;\">\n",
       "      <th></th>\n",
       "      <th>funded_amnt_inv</th>\n",
       "      <th>int_rate</th>\n",
       "      <th>installment</th>\n",
       "      <th>inq_last_6mths</th>\n",
       "      <th>mths_since_last_record</th>\n",
       "      <th>out_prncp</th>\n",
       "      <th>out_prncp_inv</th>\n",
       "      <th>total_rec_prncp</th>\n",
       "      <th>total_rec_late_fee</th>\n",
       "      <th>recoveries</th>\n",
       "      <th>last_pymnt_amnt</th>\n",
       "      <th>revol_bal_log</th>\n",
       "      <th>recoveries_log</th>\n",
       "      <th>collection_recovery_fee_log</th>\n",
       "      <th>last_pymnt_amnt_log_square</th>\n",
       "      <th>application_type_INDIVIDUAL</th>\n",
       "      <th>verification_status_joint_KOSONG</th>\n",
       "    </tr>\n",
       "  </thead>\n",
       "  <tbody>\n",
       "    <tr>\n",
       "      <th>37891</th>\n",
       "      <td>0.421094</td>\n",
       "      <td>-1.218513</td>\n",
       "      <td>0.772479</td>\n",
       "      <td>-0.697138</td>\n",
       "      <td>0.004229</td>\n",
       "      <td>-0.995086</td>\n",
       "      <td>-0.995086</td>\n",
       "      <td>2.164615</td>\n",
       "      <td>-0.091432</td>\n",
       "      <td>-0.113455</td>\n",
       "      <td>1.563951</td>\n",
       "      <td>0.268175</td>\n",
       "      <td>-0.118358</td>\n",
       "      <td>-0.124862</td>\n",
       "      <td>2.688563</td>\n",
       "      <td>1</td>\n",
       "      <td>1</td>\n",
       "    </tr>\n",
       "    <tr>\n",
       "      <th>5450</th>\n",
       "      <td>-0.682933</td>\n",
       "      <td>0.409823</td>\n",
       "      <td>-0.518202</td>\n",
       "      <td>2.310229</td>\n",
       "      <td>0.004229</td>\n",
       "      <td>-0.377336</td>\n",
       "      <td>-0.377093</td>\n",
       "      <td>-0.307537</td>\n",
       "      <td>-0.091432</td>\n",
       "      <td>-0.113455</td>\n",
       "      <td>-0.383866</td>\n",
       "      <td>-0.566660</td>\n",
       "      <td>-0.118358</td>\n",
       "      <td>-0.124862</td>\n",
       "      <td>-0.472004</td>\n",
       "      <td>1</td>\n",
       "      <td>1</td>\n",
       "    </tr>\n",
       "    <tr>\n",
       "      <th>20180</th>\n",
       "      <td>-1.151296</td>\n",
       "      <td>-1.360506</td>\n",
       "      <td>-1.153415</td>\n",
       "      <td>-0.697138</td>\n",
       "      <td>0.004229</td>\n",
       "      <td>-0.508393</td>\n",
       "      <td>-0.508201</td>\n",
       "      <td>-0.739583</td>\n",
       "      <td>-0.091432</td>\n",
       "      <td>-0.113455</td>\n",
       "      <td>-0.416610</td>\n",
       "      <td>0.132497</td>\n",
       "      <td>-0.118358</td>\n",
       "      <td>-0.124862</td>\n",
       "      <td>-0.933681</td>\n",
       "      <td>1</td>\n",
       "      <td>1</td>\n",
       "    </tr>\n",
       "    <tr>\n",
       "      <th>34277</th>\n",
       "      <td>-0.887471</td>\n",
       "      <td>0.483110</td>\n",
       "      <td>-0.758243</td>\n",
       "      <td>1.307773</td>\n",
       "      <td>0.004229</td>\n",
       "      <td>-0.615469</td>\n",
       "      <td>-0.615320</td>\n",
       "      <td>-0.264018</td>\n",
       "      <td>-0.091432</td>\n",
       "      <td>-0.113455</td>\n",
       "      <td>-0.396239</td>\n",
       "      <td>0.280257</td>\n",
       "      <td>-0.118358</td>\n",
       "      <td>-0.124862</td>\n",
       "      <td>-0.617836</td>\n",
       "      <td>1</td>\n",
       "      <td>1</td>\n",
       "    </tr>\n",
       "    <tr>\n",
       "      <th>14156</th>\n",
       "      <td>0.390151</td>\n",
       "      <td>1.827460</td>\n",
       "      <td>0.212520</td>\n",
       "      <td>-0.697138</td>\n",
       "      <td>0.004229</td>\n",
       "      <td>0.655183</td>\n",
       "      <td>0.655834</td>\n",
       "      <td>-0.257553</td>\n",
       "      <td>-0.091432</td>\n",
       "      <td>-0.113455</td>\n",
       "      <td>-0.346198</td>\n",
       "      <td>1.282888</td>\n",
       "      <td>-0.118358</td>\n",
       "      <td>-0.124862</td>\n",
       "      <td>-0.136754</td>\n",
       "      <td>1</td>\n",
       "      <td>1</td>\n",
       "    </tr>\n",
       "  </tbody>\n",
       "</table>\n",
       "</div>"
      ],
      "text/plain": [
       "       funded_amnt_inv  int_rate  installment  inq_last_6mths  \\\n",
       "37891         0.421094 -1.218513     0.772479       -0.697138   \n",
       "5450         -0.682933  0.409823    -0.518202        2.310229   \n",
       "20180        -1.151296 -1.360506    -1.153415       -0.697138   \n",
       "34277        -0.887471  0.483110    -0.758243        1.307773   \n",
       "14156         0.390151  1.827460     0.212520       -0.697138   \n",
       "\n",
       "       mths_since_last_record  out_prncp  out_prncp_inv  total_rec_prncp  \\\n",
       "37891                0.004229  -0.995086      -0.995086         2.164615   \n",
       "5450                 0.004229  -0.377336      -0.377093        -0.307537   \n",
       "20180                0.004229  -0.508393      -0.508201        -0.739583   \n",
       "34277                0.004229  -0.615469      -0.615320        -0.264018   \n",
       "14156                0.004229   0.655183       0.655834        -0.257553   \n",
       "\n",
       "       total_rec_late_fee  recoveries  last_pymnt_amnt  revol_bal_log  \\\n",
       "37891           -0.091432   -0.113455         1.563951       0.268175   \n",
       "5450            -0.091432   -0.113455        -0.383866      -0.566660   \n",
       "20180           -0.091432   -0.113455        -0.416610       0.132497   \n",
       "34277           -0.091432   -0.113455        -0.396239       0.280257   \n",
       "14156           -0.091432   -0.113455        -0.346198       1.282888   \n",
       "\n",
       "       recoveries_log  collection_recovery_fee_log  \\\n",
       "37891       -0.118358                    -0.124862   \n",
       "5450        -0.118358                    -0.124862   \n",
       "20180       -0.118358                    -0.124862   \n",
       "34277       -0.118358                    -0.124862   \n",
       "14156       -0.118358                    -0.124862   \n",
       "\n",
       "       last_pymnt_amnt_log_square  application_type_INDIVIDUAL  \\\n",
       "37891                    2.688563                            1   \n",
       "5450                    -0.472004                            1   \n",
       "20180                   -0.933681                            1   \n",
       "34277                   -0.617836                            1   \n",
       "14156                   -0.136754                            1   \n",
       "\n",
       "       verification_status_joint_KOSONG  \n",
       "37891                                 1  \n",
       "5450                                  1  \n",
       "20180                                 1  \n",
       "34277                                 1  \n",
       "14156                                 1  "
      ]
     },
     "execution_count": 126,
     "metadata": {},
     "output_type": "execute_result"
    }
   ],
   "source": [
    "# feature x_train yang dipilih\n",
    "x_train_select = x_train_clean[selected_col]\n",
    "x_train_select.head()"
   ]
  },
  {
   "cell_type": "code",
   "execution_count": 127,
   "metadata": {},
   "outputs": [
    {
     "data": {
      "text/plain": [
       "(32958, 17)"
      ]
     },
     "execution_count": 127,
     "metadata": {},
     "output_type": "execute_result"
    }
   ],
   "source": [
    "x_train_select.shape"
   ]
  },
  {
   "cell_type": "code",
   "execution_count": 128,
   "metadata": {},
   "outputs": [],
   "source": [
    "# membuat x_train baru hasil feature selection\n",
    "x_train_select = sfm.transform(x_train_clean)"
   ]
  },
  {
   "cell_type": "code",
   "execution_count": 129,
   "metadata": {},
   "outputs": [],
   "source": [
    "# membuat x_test baru hasil feature selection\n",
    "x_test_select = sfm.transform(x_test_clean)"
   ]
  },
  {
   "cell_type": "code",
   "execution_count": 130,
   "metadata": {},
   "outputs": [],
   "source": [
    "logreg_select = LogisticRegression(C=0.0333,\n",
    "                                   random_state=123)"
   ]
  },
  {
   "cell_type": "code",
   "execution_count": 131,
   "metadata": {},
   "outputs": [
    {
     "data": {
      "text/plain": [
       "LogisticRegression(C=0.0333, class_weight=None, dual=False,\n",
       "          fit_intercept=True, intercept_scaling=1, max_iter=100,\n",
       "          multi_class='ovr', n_jobs=1, penalty='l2', random_state=123,\n",
       "          solver='liblinear', tol=0.0001, verbose=0, warm_start=False)"
      ]
     },
     "execution_count": 131,
     "metadata": {},
     "output_type": "execute_result"
    }
   ],
   "source": [
    "logreg_select.fit(x_train_select, y_train)"
   ]
  },
  {
   "cell_type": "code",
   "execution_count": 132,
   "metadata": {},
   "outputs": [
    {
     "name": "stdout",
     "output_type": "stream",
     "text": [
      "             precision    recall  f1-score   support\n",
      "\n",
      "          0       0.98      0.81      0.88      1674\n",
      "          1       0.99      1.00      0.99     31284\n",
      "\n",
      "avg / total       0.99      0.99      0.99     32958\n",
      "\n"
     ]
    }
   ],
   "source": [
    "print(classification_report(y_train, logreg_select.predict(x_train_select)))"
   ]
  },
  {
   "cell_type": "code",
   "execution_count": 133,
   "metadata": {},
   "outputs": [
    {
     "name": "stdout",
     "output_type": "stream",
     "text": [
      "             precision    recall  f1-score   support\n",
      "\n",
      "          0       0.98      0.81      0.88       584\n",
      "          1       0.99      1.00      0.99     10402\n",
      "\n",
      "avg / total       0.99      0.99      0.99     10986\n",
      "\n"
     ]
    }
   ],
   "source": [
    "print(classification_report(y_test, logreg_select.predict(x_test_select)))"
   ]
  },
  {
   "cell_type": "markdown",
   "metadata": {},
   "source": [
    "# Model Diagnosis"
   ]
  },
  {
   "cell_type": "code",
   "execution_count": 134,
   "metadata": {
    "scrolled": true
   },
   "outputs": [
    {
     "data": {
      "text/html": [
       "<div>\n",
       "<style scoped>\n",
       "    .dataframe tbody tr th:only-of-type {\n",
       "        vertical-align: middle;\n",
       "    }\n",
       "\n",
       "    .dataframe tbody tr th {\n",
       "        vertical-align: top;\n",
       "    }\n",
       "\n",
       "    .dataframe thead th {\n",
       "        text-align: right;\n",
       "    }\n",
       "</style>\n",
       "<table border=\"1\" class=\"dataframe\">\n",
       "  <thead>\n",
       "    <tr style=\"text-align: right;\">\n",
       "      <th></th>\n",
       "      <th>proba_class_0</th>\n",
       "      <th>proba_class_1</th>\n",
       "    </tr>\n",
       "  </thead>\n",
       "  <tbody>\n",
       "    <tr>\n",
       "      <th>2529</th>\n",
       "      <td>5.975019e-06</td>\n",
       "      <td>0.999994</td>\n",
       "    </tr>\n",
       "    <tr>\n",
       "      <th>23197</th>\n",
       "      <td>6.788841e-05</td>\n",
       "      <td>0.999932</td>\n",
       "    </tr>\n",
       "    <tr>\n",
       "      <th>20179</th>\n",
       "      <td>5.648719e-03</td>\n",
       "      <td>0.994351</td>\n",
       "    </tr>\n",
       "    <tr>\n",
       "      <th>35769</th>\n",
       "      <td>1.432613e-03</td>\n",
       "      <td>0.998567</td>\n",
       "    </tr>\n",
       "    <tr>\n",
       "      <th>19995</th>\n",
       "      <td>9.706715e-09</td>\n",
       "      <td>1.000000</td>\n",
       "    </tr>\n",
       "  </tbody>\n",
       "</table>\n",
       "</div>"
      ],
      "text/plain": [
       "       proba_class_0  proba_class_1\n",
       "2529    5.975019e-06       0.999994\n",
       "23197   6.788841e-05       0.999932\n",
       "20179   5.648719e-03       0.994351\n",
       "35769   1.432613e-03       0.998567\n",
       "19995   9.706715e-09       1.000000"
      ]
     },
     "execution_count": 134,
     "metadata": {},
     "output_type": "execute_result"
    }
   ],
   "source": [
    "# membuat dataframe berisi hasil probability dari model\n",
    "proba_test = pd.DataFrame(logreg.predict_proba(x_test_clean))\n",
    "proba_test = proba_test.add_prefix('proba_class_')\n",
    "proba_test.index = y_test.index\n",
    "proba_test.head()"
   ]
  },
  {
   "cell_type": "code",
   "execution_count": 135,
   "metadata": {},
   "outputs": [
    {
     "data": {
      "text/html": [
       "<div>\n",
       "<style scoped>\n",
       "    .dataframe tbody tr th:only-of-type {\n",
       "        vertical-align: middle;\n",
       "    }\n",
       "\n",
       "    .dataframe tbody tr th {\n",
       "        vertical-align: top;\n",
       "    }\n",
       "\n",
       "    .dataframe thead th {\n",
       "        text-align: right;\n",
       "    }\n",
       "</style>\n",
       "<table border=\"1\" class=\"dataframe\">\n",
       "  <thead>\n",
       "    <tr style=\"text-align: right;\">\n",
       "      <th></th>\n",
       "      <th>proba_class_0</th>\n",
       "      <th>proba_class_1</th>\n",
       "      <th>loan_status</th>\n",
       "    </tr>\n",
       "  </thead>\n",
       "  <tbody>\n",
       "    <tr>\n",
       "      <th>2529</th>\n",
       "      <td>5.975019e-06</td>\n",
       "      <td>0.999994</td>\n",
       "      <td>1</td>\n",
       "    </tr>\n",
       "    <tr>\n",
       "      <th>23197</th>\n",
       "      <td>6.788841e-05</td>\n",
       "      <td>0.999932</td>\n",
       "      <td>1</td>\n",
       "    </tr>\n",
       "    <tr>\n",
       "      <th>20179</th>\n",
       "      <td>5.648719e-03</td>\n",
       "      <td>0.994351</td>\n",
       "      <td>1</td>\n",
       "    </tr>\n",
       "    <tr>\n",
       "      <th>35769</th>\n",
       "      <td>1.432613e-03</td>\n",
       "      <td>0.998567</td>\n",
       "      <td>1</td>\n",
       "    </tr>\n",
       "    <tr>\n",
       "      <th>19995</th>\n",
       "      <td>9.706715e-09</td>\n",
       "      <td>1.000000</td>\n",
       "      <td>1</td>\n",
       "    </tr>\n",
       "  </tbody>\n",
       "</table>\n",
       "</div>"
      ],
      "text/plain": [
       "       proba_class_0  proba_class_1  loan_status\n",
       "2529    5.975019e-06       0.999994            1\n",
       "23197   6.788841e-05       0.999932            1\n",
       "20179   5.648719e-03       0.994351            1\n",
       "35769   1.432613e-03       0.998567            1\n",
       "19995   9.706715e-09       1.000000            1"
      ]
     },
     "execution_count": 135,
     "metadata": {},
     "output_type": "execute_result"
    }
   ],
   "source": [
    "# menggabungkan dengan target asli dari data test\n",
    "result_test = pd.concat([proba_test, y_test], axis = 1)\n",
    "result_test.head()"
   ]
  },
  {
   "cell_type": "code",
   "execution_count": 136,
   "metadata": {
    "scrolled": true
   },
   "outputs": [
    {
     "data": {
      "text/plain": [
       "<matplotlib.axes._subplots.AxesSubplot at 0x3efe6460f0>"
      ]
     },
     "execution_count": 136,
     "metadata": {},
     "output_type": "execute_result"
    },
    {
     "data": {
      "image/png": "[encoded data removed]",
      "text/plain": [
       "<matplotlib.figure.Figure at 0x3e8794f5c0>"
      ]
     },
     "metadata": {},
     "output_type": "display_data"
    }
   ],
   "source": [
    "# distribusi probability untuk kelas 1 (default)\n",
    "sns.kdeplot(result_test[\"proba_class_1\"])"
   ]
  },
  {
   "cell_type": "code",
   "execution_count": 138,
   "metadata": {
    "scrolled": false
   },
   "outputs": [
    {
     "data": {
      "text/plain": [
       "<seaborn.axisgrid.FacetGrid at 0x3e809d4940>"
      ]
     },
     "execution_count": 138,
     "metadata": {},
     "output_type": "execute_result"
    },
    {
     "data": {
      "image/png": "[encoded data removed]",
      "text/plain": [
       "<matplotlib.figure.Figure at 0x3e809d4be0>"
      ]
     },
     "metadata": {},
     "output_type": "display_data"
    }
   ],
   "source": [
    "# melihat distribusi probability kelas 1 untuk tiap kelas asli\n",
    "ax = sns.FacetGrid(result_test, hue=\"loan_status\", size=6)\n",
    "ax.map(sns.distplot, 'proba_class_1')\n",
    "ax.add_legend()"
   ]
  },
  {
   "cell_type": "code",
   "execution_count": 139,
   "metadata": {},
   "outputs": [
    {
     "data": {
      "text/plain": [
       "0.9958128527216458"
      ]
     },
     "execution_count": 139,
     "metadata": {},
     "output_type": "execute_result"
    }
   ],
   "source": [
    "# meski demikian akurasi pada test tetap tinggi\n",
    "logreg.score(x_test_clean, y_test)"
   ]
  },
  {
   "cell_type": "markdown",
   "metadata": {},
   "source": [
    "Distribusi probability pada figure diatas dapat dikategorikan seperti gambar berikut :\n",
    "<img src=\"img/class_distribution.png\", align=\"middle\">\n",
    "src :: https://www.medcalc.org/manual/roc-curves.php"
   ]
  },
  {
   "cell_type": "code",
   "execution_count": 149,
   "metadata": {},
   "outputs": [],
   "source": [
    "# membuat function untuk modelDiagnosis\n",
    "def modelDiagnosis(x, y, model):\n",
    "    proba_test = pd.DataFrame(model.predict_proba(x))\n",
    "    proba_test = proba_test.add_prefix('proba_class_')\n",
    "    proba_test.index = y.index\n",
    "    \n",
    "    result_test = pd.concat([proba_test, y], axis = 1)\n",
    "    \n",
    "    plt.figure()\n",
    "    sns.kdeplot(result_test[\"proba_class_1\"])\n",
    "    \n",
    "    plt.figure()\n",
    "    ax = sns.FacetGrid(result_test, hue=\"loan_status\", size=6)\n",
    "    ax.map(sns.distplot, 'proba_class_1')\n",
    "    ax.add_legend()\n",
    "    "
   ]
  },
  {
   "cell_type": "markdown",
   "metadata": {},
   "source": [
    "## modelDiagnosis :: Feature Selection - L1 Regularization"
   ]
  },
  {
   "cell_type": "code",
   "execution_count": 150,
   "metadata": {},
   "outputs": [
    {
     "data": {
      "image/png": "[encoded data removed]",
      "text/plain": [
       "<matplotlib.figure.Figure at 0x3e87c1ff60>"
      ]
     },
     "metadata": {},
     "output_type": "display_data"
    },
    {
     "data": {
      "text/plain": [
       "<matplotlib.figure.Figure at 0x3e87c311d0>"
      ]
     },
     "metadata": {},
     "output_type": "display_data"
    },
    {
     "data": {
      "image/png": "[encoded data removed]",
      "text/plain": [
       "<matplotlib.figure.Figure at 0x3e89045358>"
      ]
     },
     "metadata": {},
     "output_type": "display_data"
    }
   ],
   "source": [
    "modelDiagnosis(x_test_select, y_test, logreg_select)"
   ]
  },
  {
   "cell_type": "markdown",
   "metadata": {},
   "source": [
    "## modelDiagnosis :: Feature Selection - Backward Elimination"
   ]
  },
  {
   "cell_type": "code",
   "execution_count": 151,
   "metadata": {},
   "outputs": [
    {
     "ename": "NameError",
     "evalue": "name 'x_test_backward' is not defined",
     "output_type": "error",
     "traceback": [
      "\u001b[1;31m---------------------------------------------------------------------------\u001b[0m",
      "\u001b[1;31mNameError\u001b[0m                                 Traceback (most recent call last)",
      "\u001b[1;32m<ipython-input-151-9aaa2e0dca60>\u001b[0m in \u001b[0;36m<module>\u001b[1;34m()\u001b[0m\n\u001b[1;32m----> 1\u001b[1;33m \u001b[0mmodelDiagnosis\u001b[0m\u001b[1;33m(\u001b[0m\u001b[0mx_test_backward\u001b[0m\u001b[1;33m,\u001b[0m \u001b[0my_test\u001b[0m\u001b[1;33m,\u001b[0m \u001b[0mlogreg_backward\u001b[0m\u001b[1;33m)\u001b[0m\u001b[1;33m\u001b[0m\u001b[0m\n\u001b[0m",
      "\u001b[1;31mNameError\u001b[0m: name 'x_test_backward' is not defined"
     ]
    }
   ],
   "source": [
    "modelDiagnosis(x_test_backward, y_test, logreg_backward)"
   ]
  },
  {
   "cell_type": "markdown",
   "metadata": {},
   "source": [
    "# Balanced Weight"
   ]
  },
  {
   "cell_type": "code",
   "execution_count": 152,
   "metadata": {},
   "outputs": [
    {
     "data": {
      "text/plain": [
       "1    0.949208\n",
       "0    0.050792\n",
       "Name: loan_status, dtype: float64"
      ]
     },
     "execution_count": 152,
     "metadata": {},
     "output_type": "execute_result"
    }
   ],
   "source": [
    "y_train.value_counts(normalize=True)"
   ]
  },
  {
   "cell_type": "markdown",
   "metadata": {},
   "source": [
    "### balanced-Logistic Regression"
   ]
  },
  {
   "cell_type": "code",
   "execution_count": 153,
   "metadata": {},
   "outputs": [],
   "source": [
    "# fitting logistic Regression, dengan memberi bobot pada tiap kelas\n",
    "# agar balanced\n",
    "logreg_balanced = LogisticRegression(class_weight='balanced',\n",
    "                                    random_state=123)"
   ]
  },
  {
   "cell_type": "code",
   "execution_count": 154,
   "metadata": {
    "scrolled": true
   },
   "outputs": [
    {
     "data": {
      "text/plain": [
       "LogisticRegression(C=1.0, class_weight='balanced', dual=False,\n",
       "          fit_intercept=True, intercept_scaling=1, max_iter=100,\n",
       "          multi_class='ovr', n_jobs=1, penalty='l2', random_state=123,\n",
       "          solver='liblinear', tol=0.0001, verbose=0, warm_start=False)"
      ]
     },
     "execution_count": 154,
     "metadata": {},
     "output_type": "execute_result"
    }
   ],
   "source": [
    "logreg_balanced.fit(x_train_clean, y_train)"
   ]
  },
  {
   "cell_type": "code",
   "execution_count": 155,
   "metadata": {},
   "outputs": [
    {
     "data": {
      "text/plain": [
       "0.9973906183627648"
      ]
     },
     "execution_count": 155,
     "metadata": {},
     "output_type": "execute_result"
    }
   ],
   "source": [
    "logreg_balanced.score(x_train_clean, y_train)"
   ]
  },
  {
   "cell_type": "code",
   "execution_count": 156,
   "metadata": {},
   "outputs": [
    {
     "data": {
      "text/plain": [
       "0.9971782268341526"
      ]
     },
     "execution_count": 156,
     "metadata": {},
     "output_type": "execute_result"
    }
   ],
   "source": [
    "logreg_balanced.score(x_test_clean, y_test)"
   ]
  },
  {
   "cell_type": "code",
   "execution_count": 157,
   "metadata": {},
   "outputs": [
    {
     "name": "stdout",
     "output_type": "stream",
     "text": [
      "             precision    recall  f1-score   support\n",
      "\n",
      "          0       0.96      0.99      0.97       584\n",
      "          1       1.00      1.00      1.00     10402\n",
      "\n",
      "avg / total       1.00      1.00      1.00     10986\n",
      "\n"
     ]
    }
   ],
   "source": [
    "print(classification_report(y_test, logreg_balanced.predict(x_test_clean)))"
   ]
  },
  {
   "cell_type": "markdown",
   "metadata": {},
   "source": [
    "## modelDiagnosis :: balanced-Logistic Regression"
   ]
  },
  {
   "cell_type": "code",
   "execution_count": 158,
   "metadata": {},
   "outputs": [
    {
     "data": {
      "image/png": "[encoded data removed]",
      "text/plain": [
       "<matplotlib.figure.Figure at 0x3e87c1f940>"
      ]
     },
     "metadata": {},
     "output_type": "display_data"
    },
    {
     "data": {
      "text/plain": [
       "<matplotlib.figure.Figure at 0x3e89099240>"
      ]
     },
     "metadata": {},
     "output_type": "display_data"
    },
    {
     "data": {
      "image/png": "[encoded data removed]",
      "text/plain": [
       "<matplotlib.figure.Figure at 0x3e890ab6d8>"
      ]
     },
     "metadata": {},
     "output_type": "display_data"
    }
   ],
   "source": [
    "modelDiagnosis(x_test_clean, y_test, logreg_balanced)"
   ]
  },
  {
   "cell_type": "markdown",
   "metadata": {},
   "source": [
    "# Predict"
   ]
  },
  {
   "cell_type": "code",
   "execution_count": 159,
   "metadata": {},
   "outputs": [
    {
     "data": {
      "text/html": [
       "<div>\n",
       "<style scoped>\n",
       "    .dataframe tbody tr th:only-of-type {\n",
       "        vertical-align: middle;\n",
       "    }\n",
       "\n",
       "    .dataframe tbody tr th {\n",
       "        vertical-align: top;\n",
       "    }\n",
       "\n",
       "    .dataframe thead th {\n",
       "        text-align: right;\n",
       "    }\n",
       "</style>\n",
       "<table border=\"1\" class=\"dataframe\">\n",
       "  <thead>\n",
       "    <tr style=\"text-align: right;\">\n",
       "      <th></th>\n",
       "      <th>loan_amnt</th>\n",
       "      <th>funded_amnt</th>\n",
       "      <th>funded_amnt_inv</th>\n",
       "      <th>int_rate</th>\n",
       "      <th>installment</th>\n",
       "      <th>annual_inc</th>\n",
       "      <th>dti</th>\n",
       "      <th>delinq_2yrs</th>\n",
       "      <th>inq_last_6mths</th>\n",
       "      <th>mths_since_last_delinq</th>\n",
       "      <th>...</th>\n",
       "      <th>addr_state_WV</th>\n",
       "      <th>addr_state_WY</th>\n",
       "      <th>initial_list_status_f</th>\n",
       "      <th>initial_list_status_w</th>\n",
       "      <th>application_type_INDIVIDUAL</th>\n",
       "      <th>application_type_JOINT</th>\n",
       "      <th>verification_status_joint_KOSONG</th>\n",
       "      <th>verification_status_joint_Not Verified</th>\n",
       "      <th>verification_status_joint_Source Verified</th>\n",
       "      <th>verification_status_joint_Verified</th>\n",
       "    </tr>\n",
       "  </thead>\n",
       "  <tbody>\n",
       "    <tr>\n",
       "      <th>2529</th>\n",
       "      <td>0.028249</td>\n",
       "      <td>0.029707</td>\n",
       "      <td>0.034432</td>\n",
       "      <td>0.767095</td>\n",
       "      <td>0.387047</td>\n",
       "      <td>-0.289490</td>\n",
       "      <td>0.705736</td>\n",
       "      <td>0.818113</td>\n",
       "      <td>0.305317</td>\n",
       "      <td>-0.819085</td>\n",
       "      <td>...</td>\n",
       "      <td>0</td>\n",
       "      <td>0</td>\n",
       "      <td>0</td>\n",
       "      <td>1</td>\n",
       "      <td>1</td>\n",
       "      <td>0</td>\n",
       "      <td>1</td>\n",
       "      <td>0</td>\n",
       "      <td>0</td>\n",
       "      <td>0</td>\n",
       "    </tr>\n",
       "    <tr>\n",
       "      <th>23197</th>\n",
       "      <td>0.043083</td>\n",
       "      <td>0.044550</td>\n",
       "      <td>0.049254</td>\n",
       "      <td>0.409823</td>\n",
       "      <td>0.357584</td>\n",
       "      <td>-0.532958</td>\n",
       "      <td>0.285617</td>\n",
       "      <td>-0.363869</td>\n",
       "      <td>-0.697138</td>\n",
       "      <td>0.755359</td>\n",
       "      <td>...</td>\n",
       "      <td>0</td>\n",
       "      <td>0</td>\n",
       "      <td>1</td>\n",
       "      <td>0</td>\n",
       "      <td>1</td>\n",
       "      <td>0</td>\n",
       "      <td>1</td>\n",
       "      <td>0</td>\n",
       "      <td>0</td>\n",
       "      <td>0</td>\n",
       "    </tr>\n",
       "    <tr>\n",
       "      <th>20179</th>\n",
       "      <td>-1.294926</td>\n",
       "      <td>-1.294293</td>\n",
       "      <td>-1.287654</td>\n",
       "      <td>0.295313</td>\n",
       "      <td>-1.245405</td>\n",
       "      <td>-0.432707</td>\n",
       "      <td>-1.721748</td>\n",
       "      <td>-0.363869</td>\n",
       "      <td>-0.697138</td>\n",
       "      <td>-0.097465</td>\n",
       "      <td>...</td>\n",
       "      <td>0</td>\n",
       "      <td>0</td>\n",
       "      <td>0</td>\n",
       "      <td>1</td>\n",
       "      <td>1</td>\n",
       "      <td>0</td>\n",
       "      <td>1</td>\n",
       "      <td>0</td>\n",
       "      <td>0</td>\n",
       "      <td>0</td>\n",
       "    </tr>\n",
       "    <tr>\n",
       "      <th>35769</th>\n",
       "      <td>-0.802444</td>\n",
       "      <td>-0.801504</td>\n",
       "      <td>-0.795577</td>\n",
       "      <td>0.295313</td>\n",
       "      <td>-0.660975</td>\n",
       "      <td>0.068551</td>\n",
       "      <td>-0.581255</td>\n",
       "      <td>-0.363869</td>\n",
       "      <td>0.305317</td>\n",
       "      <td>0.558553</td>\n",
       "      <td>...</td>\n",
       "      <td>0</td>\n",
       "      <td>0</td>\n",
       "      <td>0</td>\n",
       "      <td>1</td>\n",
       "      <td>1</td>\n",
       "      <td>0</td>\n",
       "      <td>1</td>\n",
       "      <td>0</td>\n",
       "      <td>0</td>\n",
       "      <td>0</td>\n",
       "    </tr>\n",
       "    <tr>\n",
       "      <th>19995</th>\n",
       "      <td>0.384261</td>\n",
       "      <td>0.385940</td>\n",
       "      <td>0.390151</td>\n",
       "      <td>0.707550</td>\n",
       "      <td>0.014954</td>\n",
       "      <td>-0.131952</td>\n",
       "      <td>2.535126</td>\n",
       "      <td>-0.363869</td>\n",
       "      <td>-0.697138</td>\n",
       "      <td>-0.097465</td>\n",
       "      <td>...</td>\n",
       "      <td>0</td>\n",
       "      <td>0</td>\n",
       "      <td>0</td>\n",
       "      <td>1</td>\n",
       "      <td>1</td>\n",
       "      <td>0</td>\n",
       "      <td>1</td>\n",
       "      <td>0</td>\n",
       "      <td>0</td>\n",
       "      <td>0</td>\n",
       "    </tr>\n",
       "  </tbody>\n",
       "</table>\n",
       "<p>5 rows × 211 columns</p>\n",
       "</div>"
      ],
      "text/plain": [
       "       loan_amnt  funded_amnt  funded_amnt_inv  int_rate  installment  \\\n",
       "2529    0.028249     0.029707         0.034432  0.767095     0.387047   \n",
       "23197   0.043083     0.044550         0.049254  0.409823     0.357584   \n",
       "20179  -1.294926    -1.294293        -1.287654  0.295313    -1.245405   \n",
       "35769  -0.802444    -0.801504        -0.795577  0.295313    -0.660975   \n",
       "19995   0.384261     0.385940         0.390151  0.707550     0.014954   \n",
       "\n",
       "       annual_inc       dti  delinq_2yrs  inq_last_6mths  \\\n",
       "2529    -0.289490  0.705736     0.818113        0.305317   \n",
       "23197   -0.532958  0.285617    -0.363869       -0.697138   \n",
       "20179   -0.432707 -1.721748    -0.363869       -0.697138   \n",
       "35769    0.068551 -0.581255    -0.363869        0.305317   \n",
       "19995   -0.131952  2.535126    -0.363869       -0.697138   \n",
       "\n",
       "       mths_since_last_delinq                 ...                  \\\n",
       "2529                -0.819085                 ...                   \n",
       "23197                0.755359                 ...                   \n",
       "20179               -0.097465                 ...                   \n",
       "35769                0.558553                 ...                   \n",
       "19995               -0.097465                 ...                   \n",
       "\n",
       "       addr_state_WV  addr_state_WY  initial_list_status_f  \\\n",
       "2529               0              0                      0   \n",
       "23197              0              0                      1   \n",
       "20179              0              0                      0   \n",
       "35769              0              0                      0   \n",
       "19995              0              0                      0   \n",
       "\n",
       "       initial_list_status_w  application_type_INDIVIDUAL  \\\n",
       "2529                       1                            1   \n",
       "23197                      0                            1   \n",
       "20179                      1                            1   \n",
       "35769                      1                            1   \n",
       "19995                      1                            1   \n",
       "\n",
       "       application_type_JOINT  verification_status_joint_KOSONG  \\\n",
       "2529                        0                                 1   \n",
       "23197                       0                                 1   \n",
       "20179                       0                                 1   \n",
       "35769                       0                                 1   \n",
       "19995                       0                                 1   \n",
       "\n",
       "       verification_status_joint_Not Verified  \\\n",
       "2529                                        0   \n",
       "23197                                       0   \n",
       "20179                                       0   \n",
       "35769                                       0   \n",
       "19995                                       0   \n",
       "\n",
       "       verification_status_joint_Source Verified  \\\n",
       "2529                                           0   \n",
       "23197                                          0   \n",
       "20179                                          0   \n",
       "35769                                          0   \n",
       "19995                                          0   \n",
       "\n",
       "       verification_status_joint_Verified  \n",
       "2529                                    0  \n",
       "23197                                   0  \n",
       "20179                                   0  \n",
       "35769                                   0  \n",
       "19995                                   0  \n",
       "\n",
       "[5 rows x 211 columns]"
      ]
     },
     "execution_count": 159,
     "metadata": {},
     "output_type": "execute_result"
    }
   ],
   "source": [
    "# mengambil sebagian data untuk prediksi\n",
    "data_predict = x_test_clean.head(5)\n",
    "data_predict.head()"
   ]
  },
  {
   "cell_type": "code",
   "execution_count": 160,
   "metadata": {},
   "outputs": [
    {
     "data": {
      "text/plain": [
       "array([1, 1, 1, 1, 1], dtype=int64)"
      ]
     },
     "execution_count": 160,
     "metadata": {},
     "output_type": "execute_result"
    }
   ],
   "source": [
    "# predict kelas\n",
    "logreg_balanced.predict(data_predict)"
   ]
  },
  {
   "cell_type": "code",
   "execution_count": 161,
   "metadata": {},
   "outputs": [
    {
     "data": {
      "text/plain": [
       "array([[1.41900884e-06, 9.99998581e-01],\n",
       "       [3.67737341e-05, 9.99963226e-01],\n",
       "       [1.63508820e-02, 9.83649118e-01],\n",
       "       [1.41259230e-03, 9.98587408e-01],\n",
       "       [1.27338881e-05, 9.99987266e-01]])"
      ]
     },
     "execution_count": 161,
     "metadata": {},
     "output_type": "execute_result"
    }
   ],
   "source": [
    "# predict probability untuk tiap observarsi\n",
    "logreg_balanced.predict_proba(data_predict)"
   ]
  },
  {
   "cell_type": "code",
   "execution_count": 162,
   "metadata": {},
   "outputs": [
    {
     "name": "stdout",
     "output_type": "stream",
     "text": [
      "0.0014190088365451103\n",
      "0.036773734090611576\n",
      "16.350882042666992\n",
      "1.4125922982756167\n",
      "0.012733888051452702\n"
     ]
    }
   ],
   "source": [
    "score = logreg_balanced.predict_proba(data_predict)\n",
    "\n",
    "# menampilkan scoring untuk tiap observasi\n",
    "for i in range(0, data_predict.shape[0]):\n",
    "    # karena kelas not default pada kelas 0\n",
    "    # ambil score[index_observasi][kelas]*1000\n",
    "    print(score[i][0]*1000)"
   ]
  },
  {
   "cell_type": "markdown",
   "metadata": {},
   "source": [
    "# Save to csv"
   ]
  },
  {
   "cell_type": "code",
   "execution_count": 163,
   "metadata": {},
   "outputs": [
    {
     "data": {
      "text/html": [
       "<div>\n",
       "<style scoped>\n",
       "    .dataframe tbody tr th:only-of-type {\n",
       "        vertical-align: middle;\n",
       "    }\n",
       "\n",
       "    .dataframe tbody tr th {\n",
       "        vertical-align: top;\n",
       "    }\n",
       "\n",
       "    .dataframe thead th {\n",
       "        text-align: right;\n",
       "    }\n",
       "</style>\n",
       "<table border=\"1\" class=\"dataframe\">\n",
       "  <thead>\n",
       "    <tr style=\"text-align: right;\">\n",
       "      <th></th>\n",
       "      <th>loan_amnt</th>\n",
       "      <th>funded_amnt</th>\n",
       "      <th>funded_amnt_inv</th>\n",
       "      <th>term</th>\n",
       "      <th>int_rate</th>\n",
       "      <th>installment</th>\n",
       "      <th>grade</th>\n",
       "      <th>sub_grade</th>\n",
       "      <th>emp_length</th>\n",
       "      <th>home_ownership</th>\n",
       "      <th>...</th>\n",
       "      <th>total_bal_il</th>\n",
       "      <th>il_util</th>\n",
       "      <th>open_rv_12m</th>\n",
       "      <th>open_rv_24m</th>\n",
       "      <th>max_bal_bc</th>\n",
       "      <th>all_util</th>\n",
       "      <th>total_rev_hi_lim</th>\n",
       "      <th>inq_fi</th>\n",
       "      <th>total_cu_tl</th>\n",
       "      <th>inq_last_12m</th>\n",
       "    </tr>\n",
       "  </thead>\n",
       "  <tbody>\n",
       "    <tr>\n",
       "      <th>2529</th>\n",
       "      <td>15000.0</td>\n",
       "      <td>15000.0</td>\n",
       "      <td>15000.0</td>\n",
       "      <td>36 months</td>\n",
       "      <td>16.55</td>\n",
       "      <td>531.44</td>\n",
       "      <td>D</td>\n",
       "      <td>D2</td>\n",
       "      <td>&lt; 1 year</td>\n",
       "      <td>RENT</td>\n",
       "      <td>...</td>\n",
       "      <td>NaN</td>\n",
       "      <td>NaN</td>\n",
       "      <td>NaN</td>\n",
       "      <td>NaN</td>\n",
       "      <td>NaN</td>\n",
       "      <td>NaN</td>\n",
       "      <td>11300.0</td>\n",
       "      <td>NaN</td>\n",
       "      <td>NaN</td>\n",
       "      <td>NaN</td>\n",
       "    </tr>\n",
       "    <tr>\n",
       "      <th>23197</th>\n",
       "      <td>15125.0</td>\n",
       "      <td>15125.0</td>\n",
       "      <td>15125.0</td>\n",
       "      <td>36 months</td>\n",
       "      <td>14.99</td>\n",
       "      <td>524.24</td>\n",
       "      <td>C</td>\n",
       "      <td>C5</td>\n",
       "      <td>4 years</td>\n",
       "      <td>RENT</td>\n",
       "      <td>...</td>\n",
       "      <td>NaN</td>\n",
       "      <td>NaN</td>\n",
       "      <td>NaN</td>\n",
       "      <td>NaN</td>\n",
       "      <td>NaN</td>\n",
       "      <td>NaN</td>\n",
       "      <td>23500.0</td>\n",
       "      <td>NaN</td>\n",
       "      <td>NaN</td>\n",
       "      <td>NaN</td>\n",
       "    </tr>\n",
       "    <tr>\n",
       "      <th>20179</th>\n",
       "      <td>3850.0</td>\n",
       "      <td>3850.0</td>\n",
       "      <td>3850.0</td>\n",
       "      <td>36 months</td>\n",
       "      <td>14.49</td>\n",
       "      <td>132.51</td>\n",
       "      <td>C</td>\n",
       "      <td>C4</td>\n",
       "      <td>&lt; 1 year</td>\n",
       "      <td>RENT</td>\n",
       "      <td>...</td>\n",
       "      <td>NaN</td>\n",
       "      <td>NaN</td>\n",
       "      <td>NaN</td>\n",
       "      <td>NaN</td>\n",
       "      <td>NaN</td>\n",
       "      <td>NaN</td>\n",
       "      <td>3700.0</td>\n",
       "      <td>NaN</td>\n",
       "      <td>NaN</td>\n",
       "      <td>NaN</td>\n",
       "    </tr>\n",
       "    <tr>\n",
       "      <th>35769</th>\n",
       "      <td>8000.0</td>\n",
       "      <td>8000.0</td>\n",
       "      <td>8000.0</td>\n",
       "      <td>36 months</td>\n",
       "      <td>14.49</td>\n",
       "      <td>275.33</td>\n",
       "      <td>C</td>\n",
       "      <td>C4</td>\n",
       "      <td>8 years</td>\n",
       "      <td>RENT</td>\n",
       "      <td>...</td>\n",
       "      <td>NaN</td>\n",
       "      <td>NaN</td>\n",
       "      <td>NaN</td>\n",
       "      <td>NaN</td>\n",
       "      <td>NaN</td>\n",
       "      <td>NaN</td>\n",
       "      <td>8000.0</td>\n",
       "      <td>NaN</td>\n",
       "      <td>NaN</td>\n",
       "      <td>NaN</td>\n",
       "    </tr>\n",
       "    <tr>\n",
       "      <th>19995</th>\n",
       "      <td>18000.0</td>\n",
       "      <td>18000.0</td>\n",
       "      <td>18000.0</td>\n",
       "      <td>60 months</td>\n",
       "      <td>16.29</td>\n",
       "      <td>440.51</td>\n",
       "      <td>D</td>\n",
       "      <td>D2</td>\n",
       "      <td>10+ years</td>\n",
       "      <td>MORTGAGE</td>\n",
       "      <td>...</td>\n",
       "      <td>NaN</td>\n",
       "      <td>NaN</td>\n",
       "      <td>NaN</td>\n",
       "      <td>NaN</td>\n",
       "      <td>NaN</td>\n",
       "      <td>NaN</td>\n",
       "      <td>37000.0</td>\n",
       "      <td>NaN</td>\n",
       "      <td>NaN</td>\n",
       "      <td>NaN</td>\n",
       "    </tr>\n",
       "  </tbody>\n",
       "</table>\n",
       "<p>5 rows × 59 columns</p>\n",
       "</div>"
      ],
      "text/plain": [
       "       loan_amnt  funded_amnt  funded_amnt_inv        term  int_rate  \\\n",
       "2529     15000.0      15000.0          15000.0   36 months     16.55   \n",
       "23197    15125.0      15125.0          15125.0   36 months     14.99   \n",
       "20179     3850.0       3850.0           3850.0   36 months     14.49   \n",
       "35769     8000.0       8000.0           8000.0   36 months     14.49   \n",
       "19995    18000.0      18000.0          18000.0   60 months     16.29   \n",
       "\n",
       "       installment grade sub_grade emp_length home_ownership      ...       \\\n",
       "2529        531.44     D        D2   < 1 year           RENT      ...        \n",
       "23197       524.24     C        C5    4 years           RENT      ...        \n",
       "20179       132.51     C        C4   < 1 year           RENT      ...        \n",
       "35769       275.33     C        C4    8 years           RENT      ...        \n",
       "19995       440.51     D        D2  10+ years       MORTGAGE      ...        \n",
       "\n",
       "       total_bal_il il_util open_rv_12m open_rv_24m  max_bal_bc  all_util  \\\n",
       "2529            NaN     NaN         NaN         NaN         NaN       NaN   \n",
       "23197           NaN     NaN         NaN         NaN         NaN       NaN   \n",
       "20179           NaN     NaN         NaN         NaN         NaN       NaN   \n",
       "35769           NaN     NaN         NaN         NaN         NaN       NaN   \n",
       "19995           NaN     NaN         NaN         NaN         NaN       NaN   \n",
       "\n",
       "       total_rev_hi_lim  inq_fi  total_cu_tl  inq_last_12m  \n",
       "2529            11300.0     NaN          NaN           NaN  \n",
       "23197           23500.0     NaN          NaN           NaN  \n",
       "20179            3700.0     NaN          NaN           NaN  \n",
       "35769            8000.0     NaN          NaN           NaN  \n",
       "19995           37000.0     NaN          NaN           NaN  \n",
       "\n",
       "[5 rows x 59 columns]"
      ]
     },
     "execution_count": 163,
     "metadata": {},
     "output_type": "execute_result"
    }
   ],
   "source": [
    "# data test asli\n",
    "x_test.head()"
   ]
  },
  {
   "cell_type": "code",
   "execution_count": 164,
   "metadata": {},
   "outputs": [],
   "source": [
    "# predict proba untuk data test(clean)\n",
    "proba_test = logreg_balanced.predict_proba(x_test_clean)"
   ]
  },
  {
   "cell_type": "code",
   "execution_count": 165,
   "metadata": {},
   "outputs": [],
   "source": [
    "score_test = []\n",
    "for i in range(0, proba_test.shape[0]):\n",
    "    score_test.append(proba_test[i][0]*1000)"
   ]
  },
  {
   "cell_type": "code",
   "execution_count": 166,
   "metadata": {
    "scrolled": true
   },
   "outputs": [
    {
     "data": {
      "text/html": [
       "<div>\n",
       "<style scoped>\n",
       "    .dataframe tbody tr th:only-of-type {\n",
       "        vertical-align: middle;\n",
       "    }\n",
       "\n",
       "    .dataframe tbody tr th {\n",
       "        vertical-align: top;\n",
       "    }\n",
       "\n",
       "    .dataframe thead th {\n",
       "        text-align: right;\n",
       "    }\n",
       "</style>\n",
       "<table border=\"1\" class=\"dataframe\">\n",
       "  <thead>\n",
       "    <tr style=\"text-align: right;\">\n",
       "      <th></th>\n",
       "      <th>Score</th>\n",
       "    </tr>\n",
       "  </thead>\n",
       "  <tbody>\n",
       "    <tr>\n",
       "      <th>2529</th>\n",
       "      <td>0.001419</td>\n",
       "    </tr>\n",
       "    <tr>\n",
       "      <th>23197</th>\n",
       "      <td>0.036774</td>\n",
       "    </tr>\n",
       "    <tr>\n",
       "      <th>20179</th>\n",
       "      <td>16.350882</td>\n",
       "    </tr>\n",
       "    <tr>\n",
       "      <th>35769</th>\n",
       "      <td>1.412592</td>\n",
       "    </tr>\n",
       "    <tr>\n",
       "      <th>19995</th>\n",
       "      <td>0.012734</td>\n",
       "    </tr>\n",
       "  </tbody>\n",
       "</table>\n",
       "</div>"
      ],
      "text/plain": [
       "           Score\n",
       "2529    0.001419\n",
       "23197   0.036774\n",
       "20179  16.350882\n",
       "35769   1.412592\n",
       "19995   0.012734"
      ]
     },
     "execution_count": 166,
     "metadata": {},
     "output_type": "execute_result"
    }
   ],
   "source": [
    "# menyimpan score ke dalam DataFrame\n",
    "score_test_df = pd.DataFrame(score_test, index=x_test.index, columns=['Score'])\n",
    "score_test_df.head()"
   ]
  },
  {
   "cell_type": "code",
   "execution_count": 167,
   "metadata": {
    "scrolled": true
   },
   "outputs": [
    {
     "data": {
      "text/html": [
       "<div>\n",
       "<style scoped>\n",
       "    .dataframe tbody tr th:only-of-type {\n",
       "        vertical-align: middle;\n",
       "    }\n",
       "\n",
       "    .dataframe tbody tr th {\n",
       "        vertical-align: top;\n",
       "    }\n",
       "\n",
       "    .dataframe thead th {\n",
       "        text-align: right;\n",
       "    }\n",
       "</style>\n",
       "<table border=\"1\" class=\"dataframe\">\n",
       "  <thead>\n",
       "    <tr style=\"text-align: right;\">\n",
       "      <th></th>\n",
       "      <th>loan_amnt</th>\n",
       "      <th>funded_amnt</th>\n",
       "      <th>funded_amnt_inv</th>\n",
       "      <th>term</th>\n",
       "      <th>int_rate</th>\n",
       "      <th>installment</th>\n",
       "      <th>grade</th>\n",
       "      <th>sub_grade</th>\n",
       "      <th>emp_length</th>\n",
       "      <th>home_ownership</th>\n",
       "      <th>...</th>\n",
       "      <th>il_util</th>\n",
       "      <th>open_rv_12m</th>\n",
       "      <th>open_rv_24m</th>\n",
       "      <th>max_bal_bc</th>\n",
       "      <th>all_util</th>\n",
       "      <th>total_rev_hi_lim</th>\n",
       "      <th>inq_fi</th>\n",
       "      <th>total_cu_tl</th>\n",
       "      <th>inq_last_12m</th>\n",
       "      <th>Score</th>\n",
       "    </tr>\n",
       "  </thead>\n",
       "  <tbody>\n",
       "    <tr>\n",
       "      <th>2529</th>\n",
       "      <td>15000.0</td>\n",
       "      <td>15000.0</td>\n",
       "      <td>15000.0</td>\n",
       "      <td>36 months</td>\n",
       "      <td>16.55</td>\n",
       "      <td>531.44</td>\n",
       "      <td>D</td>\n",
       "      <td>D2</td>\n",
       "      <td>&lt; 1 year</td>\n",
       "      <td>RENT</td>\n",
       "      <td>...</td>\n",
       "      <td>NaN</td>\n",
       "      <td>NaN</td>\n",
       "      <td>NaN</td>\n",
       "      <td>NaN</td>\n",
       "      <td>NaN</td>\n",
       "      <td>11300.0</td>\n",
       "      <td>NaN</td>\n",
       "      <td>NaN</td>\n",
       "      <td>NaN</td>\n",
       "      <td>0.001419</td>\n",
       "    </tr>\n",
       "    <tr>\n",
       "      <th>23197</th>\n",
       "      <td>15125.0</td>\n",
       "      <td>15125.0</td>\n",
       "      <td>15125.0</td>\n",
       "      <td>36 months</td>\n",
       "      <td>14.99</td>\n",
       "      <td>524.24</td>\n",
       "      <td>C</td>\n",
       "      <td>C5</td>\n",
       "      <td>4 years</td>\n",
       "      <td>RENT</td>\n",
       "      <td>...</td>\n",
       "      <td>NaN</td>\n",
       "      <td>NaN</td>\n",
       "      <td>NaN</td>\n",
       "      <td>NaN</td>\n",
       "      <td>NaN</td>\n",
       "      <td>23500.0</td>\n",
       "      <td>NaN</td>\n",
       "      <td>NaN</td>\n",
       "      <td>NaN</td>\n",
       "      <td>0.036774</td>\n",
       "    </tr>\n",
       "    <tr>\n",
       "      <th>20179</th>\n",
       "      <td>3850.0</td>\n",
       "      <td>3850.0</td>\n",
       "      <td>3850.0</td>\n",
       "      <td>36 months</td>\n",
       "      <td>14.49</td>\n",
       "      <td>132.51</td>\n",
       "      <td>C</td>\n",
       "      <td>C4</td>\n",
       "      <td>&lt; 1 year</td>\n",
       "      <td>RENT</td>\n",
       "      <td>...</td>\n",
       "      <td>NaN</td>\n",
       "      <td>NaN</td>\n",
       "      <td>NaN</td>\n",
       "      <td>NaN</td>\n",
       "      <td>NaN</td>\n",
       "      <td>3700.0</td>\n",
       "      <td>NaN</td>\n",
       "      <td>NaN</td>\n",
       "      <td>NaN</td>\n",
       "      <td>16.350882</td>\n",
       "    </tr>\n",
       "    <tr>\n",
       "      <th>35769</th>\n",
       "      <td>8000.0</td>\n",
       "      <td>8000.0</td>\n",
       "      <td>8000.0</td>\n",
       "      <td>36 months</td>\n",
       "      <td>14.49</td>\n",
       "      <td>275.33</td>\n",
       "      <td>C</td>\n",
       "      <td>C4</td>\n",
       "      <td>8 years</td>\n",
       "      <td>RENT</td>\n",
       "      <td>...</td>\n",
       "      <td>NaN</td>\n",
       "      <td>NaN</td>\n",
       "      <td>NaN</td>\n",
       "      <td>NaN</td>\n",
       "      <td>NaN</td>\n",
       "      <td>8000.0</td>\n",
       "      <td>NaN</td>\n",
       "      <td>NaN</td>\n",
       "      <td>NaN</td>\n",
       "      <td>1.412592</td>\n",
       "    </tr>\n",
       "    <tr>\n",
       "      <th>19995</th>\n",
       "      <td>18000.0</td>\n",
       "      <td>18000.0</td>\n",
       "      <td>18000.0</td>\n",
       "      <td>60 months</td>\n",
       "      <td>16.29</td>\n",
       "      <td>440.51</td>\n",
       "      <td>D</td>\n",
       "      <td>D2</td>\n",
       "      <td>10+ years</td>\n",
       "      <td>MORTGAGE</td>\n",
       "      <td>...</td>\n",
       "      <td>NaN</td>\n",
       "      <td>NaN</td>\n",
       "      <td>NaN</td>\n",
       "      <td>NaN</td>\n",
       "      <td>NaN</td>\n",
       "      <td>37000.0</td>\n",
       "      <td>NaN</td>\n",
       "      <td>NaN</td>\n",
       "      <td>NaN</td>\n",
       "      <td>0.012734</td>\n",
       "    </tr>\n",
       "  </tbody>\n",
       "</table>\n",
       "<p>5 rows × 60 columns</p>\n",
       "</div>"
      ],
      "text/plain": [
       "       loan_amnt  funded_amnt  funded_amnt_inv        term  int_rate  \\\n",
       "2529     15000.0      15000.0          15000.0   36 months     16.55   \n",
       "23197    15125.0      15125.0          15125.0   36 months     14.99   \n",
       "20179     3850.0       3850.0           3850.0   36 months     14.49   \n",
       "35769     8000.0       8000.0           8000.0   36 months     14.49   \n",
       "19995    18000.0      18000.0          18000.0   60 months     16.29   \n",
       "\n",
       "       installment grade sub_grade emp_length home_ownership    ...      \\\n",
       "2529        531.44     D        D2   < 1 year           RENT    ...       \n",
       "23197       524.24     C        C5    4 years           RENT    ...       \n",
       "20179       132.51     C        C4   < 1 year           RENT    ...       \n",
       "35769       275.33     C        C4    8 years           RENT    ...       \n",
       "19995       440.51     D        D2  10+ years       MORTGAGE    ...       \n",
       "\n",
       "       il_util open_rv_12m open_rv_24m max_bal_bc  all_util  total_rev_hi_lim  \\\n",
       "2529       NaN         NaN         NaN        NaN       NaN           11300.0   \n",
       "23197      NaN         NaN         NaN        NaN       NaN           23500.0   \n",
       "20179      NaN         NaN         NaN        NaN       NaN            3700.0   \n",
       "35769      NaN         NaN         NaN        NaN       NaN            8000.0   \n",
       "19995      NaN         NaN         NaN        NaN       NaN           37000.0   \n",
       "\n",
       "       inq_fi  total_cu_tl  inq_last_12m      Score  \n",
       "2529      NaN          NaN           NaN   0.001419  \n",
       "23197     NaN          NaN           NaN   0.036774  \n",
       "20179     NaN          NaN           NaN  16.350882  \n",
       "35769     NaN          NaN           NaN   1.412592  \n",
       "19995     NaN          NaN           NaN   0.012734  \n",
       "\n",
       "[5 rows x 60 columns]"
      ]
     },
     "execution_count": 167,
     "metadata": {},
     "output_type": "execute_result"
    }
   ],
   "source": [
    "# menggabungkan dengan kolom data asli\n",
    "test_predict = pd.concat([x_test, score_test_df], axis = 1)\n",
    "test_predict.head()"
   ]
  },
  {
   "cell_type": "code",
   "execution_count": 168,
   "metadata": {},
   "outputs": [],
   "source": [
    "# simpan ke csv\n",
    "test_predict.to_csv('predict_test_result.csv')"
   ]
  },
  {
   "cell_type": "code",
   "execution_count": null,
   "metadata": {},
   "outputs": [],
   "source": []
  }
 ],
 "metadata": {
  "anaconda-cloud": {},
  "celltoolbar": "Slideshow",
  "kernelspec": {
   "display_name": "Python 3",
   "language": "python",
   "name": "python3"
  },
  "language_info": {
   "codemirror_mode": {
    "name": "ipython",
    "version": 3
   },
   "file_extension": ".py",
   "mimetype": "text/x-python",
   "name": "python",
   "nbconvert_exporter": "python",
   "pygments_lexer": "ipython3",
   "version": "3.6.4"
  }
 },
 "nbformat": 4,
 "nbformat_minor": 2
}
